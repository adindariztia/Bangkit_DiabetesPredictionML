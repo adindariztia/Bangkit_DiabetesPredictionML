{
  "nbformat": 4,
  "nbformat_minor": 0,
  "metadata": {
    "colab": {
      "name": "PIMA Dataset Overview",
      "provenance": [],
      "collapsed_sections": [],
      "include_colab_link": true
    },
    "kernelspec": {
      "name": "python3",
      "display_name": "Python 3"
    }
  },
  "cells": [
    {
      "cell_type": "markdown",
      "metadata": {
        "id": "view-in-github",
        "colab_type": "text"
      },
      "source": [
        "<a href=\"https://colab.research.google.com/github/adindariztia/Bangkit_DiabetesPredictionML/blob/Intan/PIMA_Dataset_Overview.ipynb\" target=\"_parent\"><img src=\"https://colab.research.google.com/assets/colab-badge.svg\" alt=\"Open In Colab\"/></a>"
      ]
    },
    {
      "cell_type": "code",
      "metadata": {
        "id": "ngTWoEBC7zrV",
        "colab_type": "code",
        "colab": {}
      },
      "source": [
        "%tensorflow_version 2.x"
      ],
      "execution_count": 0,
      "outputs": []
    },
    {
      "cell_type": "code",
      "metadata": {
        "id": "fZuqanp64xm6",
        "colab_type": "code",
        "colab": {}
      },
      "source": [
        "import pandas as pd\n",
        "import numpy as np\n",
        "import seaborn as sns\n",
        "import matplotlib.pyplot as plt\n",
        "from sklearn.model_selection import train_test_split\n",
        "import tensorflow as tf\n",
        "from tensorflow import feature_column\n",
        "from tensorflow.keras import layers"
      ],
      "execution_count": 0,
      "outputs": []
    },
    {
      "cell_type": "markdown",
      "metadata": {
        "id": "97ratiCb5BLn",
        "colab_type": "text"
      },
      "source": [
        "Read The Dataset"
      ]
    },
    {
      "cell_type": "code",
      "metadata": {
        "id": "BTPA0Rcf4dgK",
        "colab_type": "code",
        "colab": {}
      },
      "source": [
        "df = pd.read_csv('diabetes.csv')"
      ],
      "execution_count": 0,
      "outputs": []
    },
    {
      "cell_type": "markdown",
      "metadata": {
        "id": "IIIGebXs4_jj",
        "colab_type": "text"
      },
      "source": [
        "Get a Glimpse on dataset"
      ]
    },
    {
      "cell_type": "code",
      "metadata": {
        "id": "jYjVS5o75MQf",
        "colab_type": "code",
        "outputId": "7a3a6a7c-aefe-4b75-f38e-1f19e3282fdc",
        "colab": {
          "base_uri": "https://localhost:8080/",
          "height": 34
        }
      },
      "source": [
        "df.shape"
      ],
      "execution_count": 99,
      "outputs": [
        {
          "output_type": "execute_result",
          "data": {
            "text/plain": [
              "(768, 9)"
            ]
          },
          "metadata": {
            "tags": []
          },
          "execution_count": 99
        }
      ]
    },
    {
      "cell_type": "code",
      "metadata": {
        "id": "A2QXt0UB493u",
        "colab_type": "code",
        "outputId": "fcaa8477-831c-4d42-812a-6eb886f16d18",
        "colab": {
          "base_uri": "https://localhost:8080/",
          "height": 204
        }
      },
      "source": [
        "df.head()"
      ],
      "execution_count": 100,
      "outputs": [
        {
          "output_type": "execute_result",
          "data": {
            "text/html": [
              "<div>\n",
              "<style scoped>\n",
              "    .dataframe tbody tr th:only-of-type {\n",
              "        vertical-align: middle;\n",
              "    }\n",
              "\n",
              "    .dataframe tbody tr th {\n",
              "        vertical-align: top;\n",
              "    }\n",
              "\n",
              "    .dataframe thead th {\n",
              "        text-align: right;\n",
              "    }\n",
              "</style>\n",
              "<table border=\"1\" class=\"dataframe\">\n",
              "  <thead>\n",
              "    <tr style=\"text-align: right;\">\n",
              "      <th></th>\n",
              "      <th>Pregnancies</th>\n",
              "      <th>Glucose</th>\n",
              "      <th>BloodPressure</th>\n",
              "      <th>SkinThickness</th>\n",
              "      <th>Insulin</th>\n",
              "      <th>BMI</th>\n",
              "      <th>DiabetesPedigreeFunction</th>\n",
              "      <th>Age</th>\n",
              "      <th>Outcome</th>\n",
              "    </tr>\n",
              "  </thead>\n",
              "  <tbody>\n",
              "    <tr>\n",
              "      <th>0</th>\n",
              "      <td>6</td>\n",
              "      <td>148</td>\n",
              "      <td>72</td>\n",
              "      <td>35</td>\n",
              "      <td>0</td>\n",
              "      <td>33.6</td>\n",
              "      <td>0.627</td>\n",
              "      <td>50</td>\n",
              "      <td>1</td>\n",
              "    </tr>\n",
              "    <tr>\n",
              "      <th>1</th>\n",
              "      <td>1</td>\n",
              "      <td>85</td>\n",
              "      <td>66</td>\n",
              "      <td>29</td>\n",
              "      <td>0</td>\n",
              "      <td>26.6</td>\n",
              "      <td>0.351</td>\n",
              "      <td>31</td>\n",
              "      <td>0</td>\n",
              "    </tr>\n",
              "    <tr>\n",
              "      <th>2</th>\n",
              "      <td>8</td>\n",
              "      <td>183</td>\n",
              "      <td>64</td>\n",
              "      <td>0</td>\n",
              "      <td>0</td>\n",
              "      <td>23.3</td>\n",
              "      <td>0.672</td>\n",
              "      <td>32</td>\n",
              "      <td>1</td>\n",
              "    </tr>\n",
              "    <tr>\n",
              "      <th>3</th>\n",
              "      <td>1</td>\n",
              "      <td>89</td>\n",
              "      <td>66</td>\n",
              "      <td>23</td>\n",
              "      <td>94</td>\n",
              "      <td>28.1</td>\n",
              "      <td>0.167</td>\n",
              "      <td>21</td>\n",
              "      <td>0</td>\n",
              "    </tr>\n",
              "    <tr>\n",
              "      <th>4</th>\n",
              "      <td>0</td>\n",
              "      <td>137</td>\n",
              "      <td>40</td>\n",
              "      <td>35</td>\n",
              "      <td>168</td>\n",
              "      <td>43.1</td>\n",
              "      <td>2.288</td>\n",
              "      <td>33</td>\n",
              "      <td>1</td>\n",
              "    </tr>\n",
              "  </tbody>\n",
              "</table>\n",
              "</div>"
            ],
            "text/plain": [
              "   Pregnancies  Glucose  BloodPressure  ...  DiabetesPedigreeFunction  Age  Outcome\n",
              "0            6      148             72  ...                     0.627   50        1\n",
              "1            1       85             66  ...                     0.351   31        0\n",
              "2            8      183             64  ...                     0.672   32        1\n",
              "3            1       89             66  ...                     0.167   21        0\n",
              "4            0      137             40  ...                     2.288   33        1\n",
              "\n",
              "[5 rows x 9 columns]"
            ]
          },
          "metadata": {
            "tags": []
          },
          "execution_count": 100
        }
      ]
    },
    {
      "cell_type": "code",
      "metadata": {
        "id": "m8_ZypMs5PhQ",
        "colab_type": "code",
        "outputId": "d46f1024-6227-4af7-a1dc-f1cc7706f780",
        "colab": {
          "base_uri": "https://localhost:8080/",
          "height": 297
        }
      },
      "source": [
        "df.describe()"
      ],
      "execution_count": 101,
      "outputs": [
        {
          "output_type": "execute_result",
          "data": {
            "text/html": [
              "<div>\n",
              "<style scoped>\n",
              "    .dataframe tbody tr th:only-of-type {\n",
              "        vertical-align: middle;\n",
              "    }\n",
              "\n",
              "    .dataframe tbody tr th {\n",
              "        vertical-align: top;\n",
              "    }\n",
              "\n",
              "    .dataframe thead th {\n",
              "        text-align: right;\n",
              "    }\n",
              "</style>\n",
              "<table border=\"1\" class=\"dataframe\">\n",
              "  <thead>\n",
              "    <tr style=\"text-align: right;\">\n",
              "      <th></th>\n",
              "      <th>Pregnancies</th>\n",
              "      <th>Glucose</th>\n",
              "      <th>BloodPressure</th>\n",
              "      <th>SkinThickness</th>\n",
              "      <th>Insulin</th>\n",
              "      <th>BMI</th>\n",
              "      <th>DiabetesPedigreeFunction</th>\n",
              "      <th>Age</th>\n",
              "      <th>Outcome</th>\n",
              "    </tr>\n",
              "  </thead>\n",
              "  <tbody>\n",
              "    <tr>\n",
              "      <th>count</th>\n",
              "      <td>768.000000</td>\n",
              "      <td>768.000000</td>\n",
              "      <td>768.000000</td>\n",
              "      <td>768.000000</td>\n",
              "      <td>768.000000</td>\n",
              "      <td>768.000000</td>\n",
              "      <td>768.000000</td>\n",
              "      <td>768.000000</td>\n",
              "      <td>768.000000</td>\n",
              "    </tr>\n",
              "    <tr>\n",
              "      <th>mean</th>\n",
              "      <td>3.845052</td>\n",
              "      <td>120.894531</td>\n",
              "      <td>69.105469</td>\n",
              "      <td>20.536458</td>\n",
              "      <td>79.799479</td>\n",
              "      <td>31.992578</td>\n",
              "      <td>0.471876</td>\n",
              "      <td>33.240885</td>\n",
              "      <td>0.348958</td>\n",
              "    </tr>\n",
              "    <tr>\n",
              "      <th>std</th>\n",
              "      <td>3.369578</td>\n",
              "      <td>31.972618</td>\n",
              "      <td>19.355807</td>\n",
              "      <td>15.952218</td>\n",
              "      <td>115.244002</td>\n",
              "      <td>7.884160</td>\n",
              "      <td>0.331329</td>\n",
              "      <td>11.760232</td>\n",
              "      <td>0.476951</td>\n",
              "    </tr>\n",
              "    <tr>\n",
              "      <th>min</th>\n",
              "      <td>0.000000</td>\n",
              "      <td>0.000000</td>\n",
              "      <td>0.000000</td>\n",
              "      <td>0.000000</td>\n",
              "      <td>0.000000</td>\n",
              "      <td>0.000000</td>\n",
              "      <td>0.078000</td>\n",
              "      <td>21.000000</td>\n",
              "      <td>0.000000</td>\n",
              "    </tr>\n",
              "    <tr>\n",
              "      <th>25%</th>\n",
              "      <td>1.000000</td>\n",
              "      <td>99.000000</td>\n",
              "      <td>62.000000</td>\n",
              "      <td>0.000000</td>\n",
              "      <td>0.000000</td>\n",
              "      <td>27.300000</td>\n",
              "      <td>0.243750</td>\n",
              "      <td>24.000000</td>\n",
              "      <td>0.000000</td>\n",
              "    </tr>\n",
              "    <tr>\n",
              "      <th>50%</th>\n",
              "      <td>3.000000</td>\n",
              "      <td>117.000000</td>\n",
              "      <td>72.000000</td>\n",
              "      <td>23.000000</td>\n",
              "      <td>30.500000</td>\n",
              "      <td>32.000000</td>\n",
              "      <td>0.372500</td>\n",
              "      <td>29.000000</td>\n",
              "      <td>0.000000</td>\n",
              "    </tr>\n",
              "    <tr>\n",
              "      <th>75%</th>\n",
              "      <td>6.000000</td>\n",
              "      <td>140.250000</td>\n",
              "      <td>80.000000</td>\n",
              "      <td>32.000000</td>\n",
              "      <td>127.250000</td>\n",
              "      <td>36.600000</td>\n",
              "      <td>0.626250</td>\n",
              "      <td>41.000000</td>\n",
              "      <td>1.000000</td>\n",
              "    </tr>\n",
              "    <tr>\n",
              "      <th>max</th>\n",
              "      <td>17.000000</td>\n",
              "      <td>199.000000</td>\n",
              "      <td>122.000000</td>\n",
              "      <td>99.000000</td>\n",
              "      <td>846.000000</td>\n",
              "      <td>67.100000</td>\n",
              "      <td>2.420000</td>\n",
              "      <td>81.000000</td>\n",
              "      <td>1.000000</td>\n",
              "    </tr>\n",
              "  </tbody>\n",
              "</table>\n",
              "</div>"
            ],
            "text/plain": [
              "       Pregnancies     Glucose  ...         Age     Outcome\n",
              "count   768.000000  768.000000  ...  768.000000  768.000000\n",
              "mean      3.845052  120.894531  ...   33.240885    0.348958\n",
              "std       3.369578   31.972618  ...   11.760232    0.476951\n",
              "min       0.000000    0.000000  ...   21.000000    0.000000\n",
              "25%       1.000000   99.000000  ...   24.000000    0.000000\n",
              "50%       3.000000  117.000000  ...   29.000000    0.000000\n",
              "75%       6.000000  140.250000  ...   41.000000    1.000000\n",
              "max      17.000000  199.000000  ...   81.000000    1.000000\n",
              "\n",
              "[8 rows x 9 columns]"
            ]
          },
          "metadata": {
            "tags": []
          },
          "execution_count": 101
        }
      ]
    },
    {
      "cell_type": "code",
      "metadata": {
        "id": "h1_WSMil5SJ7",
        "colab_type": "code",
        "outputId": "786ad845-f4ad-4ecc-fc9c-4032e57db503",
        "colab": {
          "base_uri": "https://localhost:8080/",
          "height": 34
        }
      },
      "source": [
        "df.isnull().values.any()"
      ],
      "execution_count": 102,
      "outputs": [
        {
          "output_type": "execute_result",
          "data": {
            "text/plain": [
              "False"
            ]
          },
          "metadata": {
            "tags": []
          },
          "execution_count": 102
        }
      ]
    },
    {
      "cell_type": "code",
      "metadata": {
        "id": "FvNzoFOvTkvM",
        "colab_type": "code",
        "outputId": "654ce138-e762-4999-b938-456851190ff6",
        "colab": {
          "base_uri": "https://localhost:8080/",
          "height": 34
        }
      },
      "source": [
        "df.Outcome.mean() #checking the distribution of Outcome, result: 35% in this dataset has Diabetes"
      ],
      "execution_count": 103,
      "outputs": [
        {
          "output_type": "execute_result",
          "data": {
            "text/plain": [
              "0.3489583333333333"
            ]
          },
          "metadata": {
            "tags": []
          },
          "execution_count": 103
        }
      ]
    },
    {
      "cell_type": "markdown",
      "metadata": {
        "id": "S8ochja55XnV",
        "colab_type": "text"
      },
      "source": [
        "Create Correlation Matrix to Know Correlating Features"
      ]
    },
    {
      "cell_type": "code",
      "metadata": {
        "id": "Xy7c58ay5VDN",
        "colab_type": "code",
        "outputId": "1dfb764f-77d4-4e1c-a026-71191250b813",
        "colab": {
          "base_uri": "https://localhost:8080/",
          "height": 675
        }
      },
      "source": [
        "corr = df.corr()\n",
        "# Generate a mask for the upper triangle\n",
        "mask = np.triu(np.ones_like(corr, dtype=np.bool))\n",
        "\n",
        "# Set up the matplotlib figure\n",
        "f, ax = plt.subplots(figsize=(11, 9))\n",
        "\n",
        "# Generate a custom diverging colormap\n",
        "cmap = sns.diverging_palette(220, 10, as_cmap=True)\n",
        "\n",
        "# Draw the heatmap with the mask and correct aspect ratio\n",
        "sns.heatmap(corr, mask=mask, cmap=cmap, vmax=.3, center=0,\n",
        "            square=True, linewidths=.5, cbar_kws={\"shrink\": .5})"
      ],
      "execution_count": 104,
      "outputs": [
        {
          "output_type": "execute_result",
          "data": {
            "text/plain": [
              "<matplotlib.axes._subplots.AxesSubplot at 0x7f5704669ba8>"
            ]
          },
          "metadata": {
            "tags": []
          },
          "execution_count": 104
        },
        {
          "output_type": "display_data",
          "data": {
            "image/png": "[encoded data removed]",
            "text/plain": [
              "<Figure size 792x648 with 2 Axes>"
            ]
          },
          "metadata": {
            "tags": []
          }
        }
      ]
    },
    {
      "cell_type": "markdown",
      "metadata": {
        "id": "ED25myEP8J60",
        "colab_type": "text"
      },
      "source": [
        "Check missing values"
      ]
    },
    {
      "cell_type": "code",
      "metadata": {
        "id": "2LuLvUz7yiig",
        "colab_type": "code",
        "colab": {
          "base_uri": "https://localhost:8080/",
          "height": 170
        },
        "outputId": "0cfa97df-0e52-4819-8c21-57ed2256d865"
      },
      "source": [
        "for col in df.columns:\n",
        "    print(col, df[df[col] == 0].shape[0]/df.shape[0])"
      ],
      "execution_count": 105,
      "outputs": [
        {
          "output_type": "stream",
          "text": [
            "Pregnancies 0.14453125\n",
            "Glucose 0.006510416666666667\n",
            "BloodPressure 0.045572916666666664\n",
            "SkinThickness 0.2955729166666667\n",
            "Insulin 0.4869791666666667\n",
            "BMI 0.014322916666666666\n",
            "DiabetesPedigreeFunction 0.0\n",
            "Age 0.0\n",
            "Outcome 0.6510416666666666\n"
          ],
          "name": "stdout"
        }
      ]
    },
    {
      "cell_type": "markdown",
      "metadata": {
        "id": "eqCTLJSM8Nzz",
        "colab_type": "text"
      },
      "source": [
        "Substitute zero values in some columns"
      ]
    },
    {
      "cell_type": "code",
      "metadata": {
        "id": "l8vIqK9h8Z1L",
        "colab_type": "code",
        "colab": {
          "base_uri": "https://localhost:8080/",
          "height": 153
        },
        "outputId": "10e76c5f-4953-435b-f196-7ce96ffdb41a"
      },
      "source": [
        "df_new = df.copy()\n",
        "cols_to_change = ['BloodPressure', 'Insulin', 'BMI', 'SkinThickness']\n",
        "\n",
        "for col in cols_to_change:\n",
        "    mean_0 = np.mean(df.loc[(df.Outcome == 0) & (df[col] != 0) , col])\n",
        "    median_0 = np.median(df.loc[(df.Outcome == 0) & (df[col] != 0), col])\n",
        "    print(col, \"mean: \", mean_0, \"median: \", median_0)\n",
        "    mean_1 = np.mean(df.loc[(df.Outcome == 1) & (df[col] != 0), col])\n",
        "    median_1 = np.median(df.loc[(df.Outcome == 1) & (df[col] != 0), col])\n",
        "    print(col, \"mean: \", mean_1, \"median: \", median_1)\n",
        "\n",
        "    if col != 'Insulin':\n",
        "        df_new.loc[(df_new[col] == 0) & (df_new['Outcome'] == 0), col] = mean_0\n",
        "        df_new.loc[(df_new[col] == 0) & (df_new['Outcome'] == 1), col] = mean_1\n",
        "    else:\n",
        "        df_new.loc[(df_new[col] == 0) & (df_new['Outcome'] == 0), col] = median_0\n",
        "        df_new.loc[(df_new[col] == 0) & (df_new['Outcome'] == 1), col] = median_1"
      ],
      "execution_count": 106,
      "outputs": [
        {
          "output_type": "stream",
          "text": [
            "BloodPressure mean:  70.87733887733887 median:  70.0\n",
            "BloodPressure mean:  75.32142857142857 median:  74.5\n",
            "Insulin mean:  130.28787878787878 median:  102.5\n",
            "Insulin mean:  206.84615384615384 median:  169.5\n",
            "BMI mean:  30.85967413441951 median:  30.1\n",
            "BMI mean:  35.40676691729318 median:  34.3\n",
            "SkinThickness mean:  27.235457063711912 median:  27.0\n",
            "SkinThickness mean:  33.0 median:  32.0\n"
          ],
          "name": "stdout"
        }
      ]
    },
    {
      "cell_type": "code",
      "metadata": {
        "id": "U5S9uwMk-oOU",
        "colab_type": "code",
        "colab": {
          "base_uri": "https://localhost:8080/",
          "height": 472
        },
        "outputId": "08b83084-4ce0-47a7-8ac3-0f440bcaba8c"
      },
      "source": [
        "#Plot distribution of Insulin, Outcome = 1 & 0, to see whether mean or median is more relevant\n",
        "insulin_0 = df.loc[(df.Outcome == 0) & (df['Insulin'] != 0), 'Insulin']\n",
        "insulin_1 = df.loc[(df.Outcome == 1) & (df['Insulin'] != 0), 'Insulin']\n",
        "plt.hist(insulin_0,30)\n",
        "plt.hist(insulin_1,30)"
      ],
      "execution_count": 107,
      "outputs": [
        {
          "output_type": "execute_result",
          "data": {
            "text/plain": [
              "(array([ 3.,  3., 10., 13., 22., 23., 13.,  9.,  6.,  5.,  4.,  4.,  2.,\n",
              "         1.,  0.,  0.,  4.,  3.,  1.,  1.,  1.,  1.,  0.,  0.,  0.,  0.,\n",
              "         0.,  0.,  0.,  1.]),\n",
              " array([ 14.        ,  41.73333333,  69.46666667,  97.2       ,\n",
              "        124.93333333, 152.66666667, 180.4       , 208.13333333,\n",
              "        235.86666667, 263.6       , 291.33333333, 319.06666667,\n",
              "        346.8       , 374.53333333, 402.26666667, 430.        ,\n",
              "        457.73333333, 485.46666667, 513.2       , 540.93333333,\n",
              "        568.66666667, 596.4       , 624.13333333, 651.86666667,\n",
              "        679.6       , 707.33333333, 735.06666667, 762.8       ,\n",
              "        790.53333333, 818.26666667, 846.        ]),\n",
              " <a list of 30 Patch objects>)"
            ]
          },
          "metadata": {
            "tags": []
          },
          "execution_count": 107
        },
        {
          "output_type": "display_data",
          "data": {
            "image/png": "[encoded data removed]",
            "text/plain": [
              "<Figure size 432x288 with 1 Axes>"
            ]
          },
          "metadata": {
            "tags": []
          }
        }
      ]
    },
    {
      "cell_type": "code",
      "metadata": {
        "id": "KcGKaO3XAYJ-",
        "colab_type": "code",
        "colab": {
          "base_uri": "https://localhost:8080/",
          "height": 401
        },
        "outputId": "4fb40953-577e-440e-b2d7-b8c5f9c03852"
      },
      "source": [
        "#Plot distribution of BloodPressure, Outcome = 1 & 0, to see whether mean or median is more relevant\n",
        "BloodPressure_0 = df.loc[(df.Outcome == 0) & (df['BloodPressure'] != 0), 'BloodPressure']\n",
        "BloodPressure_1 = df.loc[(df.Outcome == 1) & (df['BloodPressure'] != 0), 'BloodPressure']\n",
        "plt.hist(BloodPressure_0,30)\n",
        "plt.hist(BloodPressure_1,30)"
      ],
      "execution_count": 108,
      "outputs": [
        {
          "output_type": "execute_result",
          "data": {
            "text/plain": [
              "(array([ 1.,  0.,  0.,  1.,  0.,  0.,  1.,  8.,  2.,  1.,  9., 10., 25.,\n",
              "        12., 23., 33., 19., 30., 13., 15., 20., 11.,  6.,  1.,  2.,  2.,\n",
              "         2.,  2.,  2.,  1.]),\n",
              " array([ 30. ,  32.8,  35.6,  38.4,  41.2,  44. ,  46.8,  49.6,  52.4,\n",
              "         55.2,  58. ,  60.8,  63.6,  66.4,  69.2,  72. ,  74.8,  77.6,\n",
              "         80.4,  83.2,  86. ,  88.8,  91.6,  94.4,  97.2, 100. , 102.8,\n",
              "        105.6, 108.4, 111.2, 114. ]),\n",
              " <a list of 30 Patch objects>)"
            ]
          },
          "metadata": {
            "tags": []
          },
          "execution_count": 108
        },
        {
          "output_type": "display_data",
          "data": {
            "image/png": "[encoded data removed]",
            "text/plain": [
              "<Figure size 432x288 with 1 Axes>"
            ]
          },
          "metadata": {
            "tags": []
          }
        }
      ]
    },
    {
      "cell_type": "code",
      "metadata": {
        "id": "_jpsFntVAmll",
        "colab_type": "code",
        "colab": {
          "base_uri": "https://localhost:8080/",
          "height": 452
        },
        "outputId": "b9bc4c36-30df-4774-d67c-fac7451ad537"
      },
      "source": [
        "#Plot distribution of BMI, Outcome = 1 & 0, to see whether mean or median is more relevant\n",
        "BMI_0 = df.loc[(df.Outcome == 0) & (df['BMI'] != 0), 'BMI']\n",
        "BMI_1 = df.loc[(df.Outcome == 1) & (df['BMI'] != 0), 'BMI']\n",
        "#plt.hist(BMI_0,30)\n",
        "plt.hist(BMI_1,30)"
      ],
      "execution_count": 109,
      "outputs": [
        {
          "output_type": "execute_result",
          "data": {
            "text/plain": [
              "(array([ 6.,  5.,  7., 16., 20., 28., 27., 34., 22., 19., 19., 10.,  7.,\n",
              "        17.,  7.,  8.,  2.,  3.,  3.,  1.,  2.,  1.,  0.,  0.,  1.,  0.,\n",
              "         0.,  0.,  0.,  1.]),\n",
              " array([22.9       , 24.37333333, 25.84666667, 27.32      , 28.79333333,\n",
              "        30.26666667, 31.74      , 33.21333333, 34.68666667, 36.16      ,\n",
              "        37.63333333, 39.10666667, 40.58      , 42.05333333, 43.52666667,\n",
              "        45.        , 46.47333333, 47.94666667, 49.42      , 50.89333333,\n",
              "        52.36666667, 53.84      , 55.31333333, 56.78666667, 58.26      ,\n",
              "        59.73333333, 61.20666667, 62.68      , 64.15333333, 65.62666667,\n",
              "        67.1       ]),\n",
              " <a list of 30 Patch objects>)"
            ]
          },
          "metadata": {
            "tags": []
          },
          "execution_count": 109
        },
        {
          "output_type": "display_data",
          "data": {
            "image/png": "[encoded data removed]",
            "text/plain": [
              "<Figure size 432x288 with 1 Axes>"
            ]
          },
          "metadata": {
            "tags": []
          }
        }
      ]
    },
    {
      "cell_type": "code",
      "metadata": {
        "id": "ofM7aNpOBqIc",
        "colab_type": "code",
        "colab": {
          "base_uri": "https://localhost:8080/",
          "height": 452
        },
        "outputId": "5982b305-7c79-4e90-a2ab-9fb7e15f04c4"
      },
      "source": [
        "#Plot distribution of SkinThickness, Outcome = 1 & 0, to see whether mean or median is more relevant\n",
        "SkinThickness_0 = df.loc[(df.Outcome == 0) & (df['SkinThickness'] != 0), 'SkinThickness']\n",
        "SkinThickness_1 = df.loc[(df.Outcome == 1) & (df['SkinThickness'] != 0), 'SkinThickness']\n",
        "plt.hist(SkinThickness_0,30)\n",
        "plt.hist(SkinThickness_1,30)"
      ],
      "execution_count": 110,
      "outputs": [
        {
          "output_type": "execute_result",
          "data": {
            "text/plain": [
              "(array([ 1.,  2.,  3.,  9.,  8., 15., 18., 22., 26., 24., 15., 15., 11.,\n",
              "         7.,  1.,  1.,  0.,  0.,  1.,  0.,  0.,  0.,  0.,  0.,  0.,  0.,\n",
              "         0.,  0.,  0.,  1.]),\n",
              " array([ 7.        , 10.06666667, 13.13333333, 16.2       , 19.26666667,\n",
              "        22.33333333, 25.4       , 28.46666667, 31.53333333, 34.6       ,\n",
              "        37.66666667, 40.73333333, 43.8       , 46.86666667, 49.93333333,\n",
              "        53.        , 56.06666667, 59.13333333, 62.2       , 65.26666667,\n",
              "        68.33333333, 71.4       , 74.46666667, 77.53333333, 80.6       ,\n",
              "        83.66666667, 86.73333333, 89.8       , 92.86666667, 95.93333333,\n",
              "        99.        ]),\n",
              " <a list of 30 Patch objects>)"
            ]
          },
          "metadata": {
            "tags": []
          },
          "execution_count": 110
        },
        {
          "output_type": "display_data",
          "data": {
            "image/png": "[encoded data removed]",
            "text/plain": [
              "<Figure size 432x288 with 1 Axes>"
            ]
          },
          "metadata": {
            "tags": []
          }
        }
      ]
    },
    {
      "cell_type": "markdown",
      "metadata": {
        "id": "k1wqSIgaBOqp",
        "colab_type": "text"
      },
      "source": [
        "Insulin: Median\n",
        "BP : Mean\n",
        "BMI : Mean\n",
        "Must remove outliers\n"
      ]
    },
    {
      "cell_type": "markdown",
      "metadata": {
        "id": "zztjiKDH5-ao",
        "colab_type": "text"
      },
      "source": [
        "Split dataset into train and test set"
      ]
    },
    {
      "cell_type": "code",
      "metadata": {
        "id": "xERqTKNN5eK3",
        "colab_type": "code",
        "colab": {
          "base_uri": "https://localhost:8080/",
          "height": 419
        },
        "outputId": "e8fe1bf0-f2ab-4f6a-e41c-ddb5c66c7d72"
      },
      "source": [
        "df_new"
      ],
      "execution_count": 111,
      "outputs": [
        {
          "output_type": "execute_result",
          "data": {
            "text/html": [
              "<div>\n",
              "<style scoped>\n",
              "    .dataframe tbody tr th:only-of-type {\n",
              "        vertical-align: middle;\n",
              "    }\n",
              "\n",
              "    .dataframe tbody tr th {\n",
              "        vertical-align: top;\n",
              "    }\n",
              "\n",
              "    .dataframe thead th {\n",
              "        text-align: right;\n",
              "    }\n",
              "</style>\n",
              "<table border=\"1\" class=\"dataframe\">\n",
              "  <thead>\n",
              "    <tr style=\"text-align: right;\">\n",
              "      <th></th>\n",
              "      <th>Pregnancies</th>\n",
              "      <th>Glucose</th>\n",
              "      <th>BloodPressure</th>\n",
              "      <th>SkinThickness</th>\n",
              "      <th>Insulin</th>\n",
              "      <th>BMI</th>\n",
              "      <th>DiabetesPedigreeFunction</th>\n",
              "      <th>Age</th>\n",
              "      <th>Outcome</th>\n",
              "    </tr>\n",
              "  </thead>\n",
              "  <tbody>\n",
              "    <tr>\n",
              "      <th>0</th>\n",
              "      <td>6</td>\n",
              "      <td>148</td>\n",
              "      <td>72.0</td>\n",
              "      <td>35.0</td>\n",
              "      <td>169.5</td>\n",
              "      <td>33.6</td>\n",
              "      <td>0.627</td>\n",
              "      <td>50</td>\n",
              "      <td>1</td>\n",
              "    </tr>\n",
              "    <tr>\n",
              "      <th>1</th>\n",
              "      <td>1</td>\n",
              "      <td>85</td>\n",
              "      <td>66.0</td>\n",
              "      <td>29.0</td>\n",
              "      <td>102.5</td>\n",
              "      <td>26.6</td>\n",
              "      <td>0.351</td>\n",
              "      <td>31</td>\n",
              "      <td>0</td>\n",
              "    </tr>\n",
              "    <tr>\n",
              "      <th>2</th>\n",
              "      <td>8</td>\n",
              "      <td>183</td>\n",
              "      <td>64.0</td>\n",
              "      <td>33.0</td>\n",
              "      <td>169.5</td>\n",
              "      <td>23.3</td>\n",
              "      <td>0.672</td>\n",
              "      <td>32</td>\n",
              "      <td>1</td>\n",
              "    </tr>\n",
              "    <tr>\n",
              "      <th>3</th>\n",
              "      <td>1</td>\n",
              "      <td>89</td>\n",
              "      <td>66.0</td>\n",
              "      <td>23.0</td>\n",
              "      <td>94.0</td>\n",
              "      <td>28.1</td>\n",
              "      <td>0.167</td>\n",
              "      <td>21</td>\n",
              "      <td>0</td>\n",
              "    </tr>\n",
              "    <tr>\n",
              "      <th>4</th>\n",
              "      <td>0</td>\n",
              "      <td>137</td>\n",
              "      <td>40.0</td>\n",
              "      <td>35.0</td>\n",
              "      <td>168.0</td>\n",
              "      <td>43.1</td>\n",
              "      <td>2.288</td>\n",
              "      <td>33</td>\n",
              "      <td>1</td>\n",
              "    </tr>\n",
              "    <tr>\n",
              "      <th>...</th>\n",
              "      <td>...</td>\n",
              "      <td>...</td>\n",
              "      <td>...</td>\n",
              "      <td>...</td>\n",
              "      <td>...</td>\n",
              "      <td>...</td>\n",
              "      <td>...</td>\n",
              "      <td>...</td>\n",
              "      <td>...</td>\n",
              "    </tr>\n",
              "    <tr>\n",
              "      <th>763</th>\n",
              "      <td>10</td>\n",
              "      <td>101</td>\n",
              "      <td>76.0</td>\n",
              "      <td>48.0</td>\n",
              "      <td>180.0</td>\n",
              "      <td>32.9</td>\n",
              "      <td>0.171</td>\n",
              "      <td>63</td>\n",
              "      <td>0</td>\n",
              "    </tr>\n",
              "    <tr>\n",
              "      <th>764</th>\n",
              "      <td>2</td>\n",
              "      <td>122</td>\n",
              "      <td>70.0</td>\n",
              "      <td>27.0</td>\n",
              "      <td>102.5</td>\n",
              "      <td>36.8</td>\n",
              "      <td>0.340</td>\n",
              "      <td>27</td>\n",
              "      <td>0</td>\n",
              "    </tr>\n",
              "    <tr>\n",
              "      <th>765</th>\n",
              "      <td>5</td>\n",
              "      <td>121</td>\n",
              "      <td>72.0</td>\n",
              "      <td>23.0</td>\n",
              "      <td>112.0</td>\n",
              "      <td>26.2</td>\n",
              "      <td>0.245</td>\n",
              "      <td>30</td>\n",
              "      <td>0</td>\n",
              "    </tr>\n",
              "    <tr>\n",
              "      <th>766</th>\n",
              "      <td>1</td>\n",
              "      <td>126</td>\n",
              "      <td>60.0</td>\n",
              "      <td>33.0</td>\n",
              "      <td>169.5</td>\n",
              "      <td>30.1</td>\n",
              "      <td>0.349</td>\n",
              "      <td>47</td>\n",
              "      <td>1</td>\n",
              "    </tr>\n",
              "    <tr>\n",
              "      <th>767</th>\n",
              "      <td>1</td>\n",
              "      <td>93</td>\n",
              "      <td>70.0</td>\n",
              "      <td>31.0</td>\n",
              "      <td>102.5</td>\n",
              "      <td>30.4</td>\n",
              "      <td>0.315</td>\n",
              "      <td>23</td>\n",
              "      <td>0</td>\n",
              "    </tr>\n",
              "  </tbody>\n",
              "</table>\n",
              "<p>768 rows × 9 columns</p>\n",
              "</div>"
            ],
            "text/plain": [
              "     Pregnancies  Glucose  ...  Age  Outcome\n",
              "0              6      148  ...   50        1\n",
              "1              1       85  ...   31        0\n",
              "2              8      183  ...   32        1\n",
              "3              1       89  ...   21        0\n",
              "4              0      137  ...   33        1\n",
              "..           ...      ...  ...  ...      ...\n",
              "763           10      101  ...   63        0\n",
              "764            2      122  ...   27        0\n",
              "765            5      121  ...   30        0\n",
              "766            1      126  ...   47        1\n",
              "767            1       93  ...   23        0\n",
              "\n",
              "[768 rows x 9 columns]"
            ]
          },
          "metadata": {
            "tags": []
          },
          "execution_count": 111
        }
      ]
    },
    {
      "cell_type": "code",
      "metadata": {
        "id": "iViwILvI6iVo",
        "colab_type": "code",
        "outputId": "600d521f-e07b-48bd-fc19-343e12380e4b",
        "colab": {
          "base_uri": "https://localhost:8080/",
          "height": 289
        }
      },
      "source": [
        "# Create an empty list that will eventually hold all created feature columns.\n",
        "dataset_columns = df_new.columns\n",
        "feature_columns = []\n",
        "\n",
        "# Create numerical feature columns to represent all columns in X\n",
        "for col in dataset_columns[:-1]: #Excluding outcome value, since outcome is still included in dataset\n",
        "    print(col)\n",
        "    col_tf = tf.feature_column.numeric_column(col)\n",
        "    feature_columns.append(col_tf)\n",
        "\n",
        "# Convert the list of feature columns into a layer that will later be fed into\n",
        "# the model. \n",
        "feature_layer = layers.DenseFeatures(feature_columns)\n",
        "\n",
        "# Print the first 3 and last 3 rows of the feature_layer's output when applied\n",
        "# to train_df_norm:\n",
        "feature_layer(dict(df_new))"
      ],
      "execution_count": 118,
      "outputs": [
        {
          "output_type": "stream",
          "text": [
            "Pregnancies\n",
            "Glucose\n",
            "BloodPressure\n",
            "SkinThickness\n",
            "Insulin\n",
            "BMI\n",
            "DiabetesPedigreeFunction\n",
            "Age\n"
          ],
          "name": "stdout"
        },
        {
          "output_type": "execute_result",
          "data": {
            "text/plain": [
              "<tf.Tensor: shape=(768, 8), dtype=float32, numpy=\n",
              "array([[ 50. ,  33.6,  72. , ..., 169.5,   6. ,  35. ],\n",
              "       [ 31. ,  26.6,  66. , ..., 102.5,   1. ,  29. ],\n",
              "       [ 32. ,  23.3,  64. , ..., 169.5,   8. ,  33. ],\n",
              "       ...,\n",
              "       [ 30. ,  26.2,  72. , ..., 112. ,   5. ,  23. ],\n",
              "       [ 47. ,  30.1,  60. , ..., 169.5,   1. ,  33. ],\n",
              "       [ 23. ,  30.4,  70. , ..., 102.5,   1. ,  31. ]], dtype=float32)>"
            ]
          },
          "metadata": {
            "tags": []
          },
          "execution_count": 118
        }
      ]
    },
    {
      "cell_type": "code",
      "metadata": {
        "id": "GcQYLoEb7n96",
        "colab_type": "code",
        "outputId": "cbfd253d-6bf6-43cc-ea3b-78ee1571a0c6",
        "colab": {
          "base_uri": "https://localhost:8080/",
          "height": 34
        },
        "cellView": "form"
      },
      "source": [
        "#@title create model\n",
        "\n",
        "def create_model(my_learning_rate, feature_layer, my_metrics):\n",
        "  \"\"\"Create and compile a simple classification model.\"\"\"\n",
        "  # Most simple tf.keras models are sequential.\n",
        "  model = tf.keras.models.Sequential()\n",
        "\n",
        "  # Add the feature layer (the list of features and how they are represented)\n",
        "  # to the model.\n",
        "  model.add(feature_layer)\n",
        "\n",
        "  # Funnel the regression value through a sigmoid function.\n",
        "  model.add(tf.keras.layers.Dense(units=1, input_shape=(1,),\n",
        "                                  activation=tf.sigmoid),)\n",
        "\n",
        "  # Call the compile method to construct the layers into a model that\n",
        "  # TensorFlow can execute.  Notice that we're using a different loss\n",
        "  # function for classification than for regression.    \n",
        "  model.compile(optimizer=tf.keras.optimizers.RMSprop(lr=my_learning_rate),                                                   \n",
        "                loss=tf.keras.losses.BinaryCrossentropy(),\n",
        "                metrics=my_metrics)\n",
        "\n",
        "  return model        \n",
        "\n",
        "\n",
        "def train_model(model, dataset, epochs, label_name,\n",
        "                batch_size=None, shuffle=True):\n",
        "  \"\"\"Feed a dataset into the model in order to train it.\"\"\"\n",
        "\n",
        "  # The x parameter of tf.keras.Model.fit can be a list of arrays, where\n",
        "  # each array contains the data for one feature.  Here, we're passing\n",
        "  # every column in the dataset. Note that the feature_layer will filter\n",
        "  # away most of those columns, leaving only the desired columns and their\n",
        "  # representations as features.\n",
        "  features = {name:np.array(value) for name, value in dataset.items()}\n",
        "  label = np.array(features.pop(label_name)) \n",
        "  history = model.fit(x=features, y=label, batch_size=batch_size,\n",
        "                      epochs=epochs, shuffle=shuffle)\n",
        "  \n",
        "  # The list of epochs is stored separately from the rest of history.\n",
        "  epochs = history.epoch\n",
        "\n",
        "  # Isolate the classification metric for each epoch.\n",
        "  hist = pd.DataFrame(history.history)\n",
        "\n",
        "  return epochs, hist  \n",
        "\n",
        "print(\"Defined the create_model and train_model functions.\")  "
      ],
      "execution_count": 113,
      "outputs": [
        {
          "output_type": "stream",
          "text": [
            "Defined the create_model and train_model functions.\n"
          ],
          "name": "stdout"
        }
      ]
    },
    {
      "cell_type": "code",
      "metadata": {
        "id": "Sw1s6lvE8P1b",
        "colab_type": "code",
        "outputId": "82da1d1c-970f-465c-a623-da6bb0776e1a",
        "colab": {
          "base_uri": "https://localhost:8080/",
          "height": 34
        },
        "cellView": "form"
      },
      "source": [
        "#@title Define the plotting function.\n",
        "def plot_curve(epochs, hist, list_of_metrics):\n",
        "  \"\"\"Plot a curve of one or more classification metrics vs. epoch.\"\"\"  \n",
        "  # list_of_metrics should be one of the names shown in:\n",
        "  # https://www.tensorflow.org/tutorials/structured_data/imbalanced_data#define_the_model_and_metrics  \n",
        "\n",
        "  plt.figure()\n",
        "  plt.xlabel(\"Epoch\")\n",
        "  plt.ylabel(\"Value\")\n",
        "\n",
        "  for m in list_of_metrics:\n",
        "    x = hist[m]\n",
        "    plt.plot(epochs[1:], x[1:], label=m)\n",
        "\n",
        "  plt.legend()\n",
        "\n",
        "print(\"Defined the plot_curve function.\")"
      ],
      "execution_count": 114,
      "outputs": [
        {
          "output_type": "stream",
          "text": [
            "Defined the plot_curve function.\n"
          ],
          "name": "stdout"
        }
      ]
    },
    {
      "cell_type": "code",
      "metadata": {
        "id": "WQ2YBw3aLEGA",
        "colab_type": "code",
        "colab": {
          "base_uri": "https://localhost:8080/",
          "height": 170
        },
        "outputId": "587f3b8e-9eea-4bb0-89e6-e8abd6be761d"
      },
      "source": [
        "df_new.Insulin.describe()"
      ],
      "execution_count": 120,
      "outputs": [
        {
          "output_type": "execute_result",
          "data": {
            "text/plain": [
              "count    768.000000\n",
              "mean     141.753906\n",
              "std       89.100847\n",
              "min       14.000000\n",
              "25%      102.500000\n",
              "50%      102.500000\n",
              "75%      169.500000\n",
              "max      846.000000\n",
              "Name: Insulin, dtype: float64"
            ]
          },
          "metadata": {
            "tags": []
          },
          "execution_count": 120
        }
      ]
    },
    {
      "cell_type": "markdown",
      "metadata": {
        "id": "yJ-c8n4XLD60",
        "colab_type": "text"
      },
      "source": [
        ""
      ]
    },
    {
      "cell_type": "code",
      "metadata": {
        "id": "qpS9Aq1t8TAR",
        "colab_type": "code",
        "outputId": "62e2d9c6-7cdb-4968-dbc1-7a94c70b32ca",
        "colab": {
          "base_uri": "https://localhost:8080/",
          "height": 1000
        }
      },
      "source": [
        "# The following variables are the hyperparameters.\n",
        "learning_rate = 1\n",
        "epochs = 300\n",
        "batch_size = 10\n",
        "label_name = \"Outcome\"\n",
        "classification_threshold = 0.5\n",
        "\n",
        "# Establish the metrics the model will measure.\n",
        "METRICS = [\n",
        "           tf.keras.metrics.BinaryAccuracy(name='accuracy', \n",
        "                                           threshold=classification_threshold),\n",
        "           tf.keras.metrics.Precision(thresholds=classification_threshold,\n",
        "                                 name='precision' \n",
        "                                 ),\n",
        "           tf.keras.metrics.Recall(thresholds=classification_threshold,\n",
        "                                 name='recall' \n",
        "                                 ),\n",
        "          ]\n",
        "\n",
        "# Establish the model's topography.\n",
        "my_model = create_model(learning_rate, feature_layer, METRICS)\n",
        "\n",
        "# Train the model on the training set.\n",
        "epochs, hist = train_model(my_model, df_new, epochs, \n",
        "                           label_name, batch_size)\n",
        "\n",
        "# Plot a graph of the metric(s) vs. epochs.\n",
        "list_of_metrics_to_plot = ['accuracy', 'precision', 'recall'] \n",
        "\n",
        "plot_curve(epochs, hist, list_of_metrics_to_plot)"
      ],
      "execution_count": 119,
      "outputs": [
        {
          "output_type": "stream",
          "text": [
            "Epoch 1/300\n",
            "77/77 [==============================] - 0s 1ms/step - loss: 110.0466 - accuracy: 0.5742 - precision: 0.4020 - recall: 0.4515\n",
            "Epoch 2/300\n",
            "77/77 [==============================] - 0s 2ms/step - loss: 83.0106 - accuracy: 0.5938 - precision: 0.4247 - recall: 0.4627\n",
            "Epoch 3/300\n",
            "77/77 [==============================] - 0s 1ms/step - loss: 77.7361 - accuracy: 0.6237 - precision: 0.4639 - recall: 0.5037\n",
            "Epoch 4/300\n",
            "77/77 [==============================] - 0s 1ms/step - loss: 76.2480 - accuracy: 0.6406 - precision: 0.4861 - recall: 0.5224\n",
            "Epoch 5/300\n",
            "77/77 [==============================] - 0s 1ms/step - loss: 78.4700 - accuracy: 0.6406 - precision: 0.4863 - recall: 0.5299\n",
            "Epoch 6/300\n",
            "77/77 [==============================] - 0s 1ms/step - loss: 77.0078 - accuracy: 0.6497 - precision: 0.4982 - recall: 0.5299\n",
            "Epoch 7/300\n",
            "77/77 [==============================] - 0s 1ms/step - loss: 74.7850 - accuracy: 0.6471 - precision: 0.4948 - recall: 0.5373\n",
            "Epoch 8/300\n",
            "77/77 [==============================] - 0s 1ms/step - loss: 83.3043 - accuracy: 0.6198 - precision: 0.4589 - recall: 0.5000\n",
            "Epoch 9/300\n",
            "77/77 [==============================] - 0s 1ms/step - loss: 82.2051 - accuracy: 0.6250 - precision: 0.4655 - recall: 0.5037\n",
            "Epoch 10/300\n",
            "77/77 [==============================] - 0s 1ms/step - loss: 81.0281 - accuracy: 0.6276 - precision: 0.4688 - recall: 0.5037\n",
            "Epoch 11/300\n",
            "77/77 [==============================] - 0s 1ms/step - loss: 76.0454 - accuracy: 0.6302 - precision: 0.4720 - recall: 0.5037\n",
            "Epoch 12/300\n",
            "77/77 [==============================] - 0s 1ms/step - loss: 89.3071 - accuracy: 0.6081 - precision: 0.4441 - recall: 0.4888\n",
            "Epoch 13/300\n",
            "77/77 [==============================] - 0s 1ms/step - loss: 70.7941 - accuracy: 0.6393 - precision: 0.4843 - recall: 0.5187\n",
            "Epoch 14/300\n",
            "77/77 [==============================] - 0s 1ms/step - loss: 87.1815 - accuracy: 0.6250 - precision: 0.4658 - recall: 0.5075\n",
            "Epoch 15/300\n",
            "77/77 [==============================] - 0s 1ms/step - loss: 77.8751 - accuracy: 0.6380 - precision: 0.4825 - recall: 0.5149\n",
            "Epoch 16/300\n",
            "77/77 [==============================] - 0s 1ms/step - loss: 89.9284 - accuracy: 0.6315 - precision: 0.4729 - recall: 0.4888\n",
            "Epoch 17/300\n",
            "77/77 [==============================] - 0s 1ms/step - loss: 77.0311 - accuracy: 0.6185 - precision: 0.4567 - recall: 0.4925\n",
            "Epoch 18/300\n",
            "77/77 [==============================] - 0s 1ms/step - loss: 87.3996 - accuracy: 0.5964 - precision: 0.4276 - recall: 0.4627\n",
            "Epoch 19/300\n",
            "77/77 [==============================] - 0s 1ms/step - loss: 87.2903 - accuracy: 0.5898 - precision: 0.4198 - recall: 0.4590\n",
            "Epoch 20/300\n",
            "77/77 [==============================] - 0s 1ms/step - loss: 75.8245 - accuracy: 0.6354 - precision: 0.4793 - recall: 0.5187\n",
            "Epoch 21/300\n",
            "77/77 [==============================] - 0s 1ms/step - loss: 78.2343 - accuracy: 0.6484 - precision: 0.4965 - recall: 0.5261\n",
            "Epoch 22/300\n",
            "77/77 [==============================] - 0s 1ms/step - loss: 76.7913 - accuracy: 0.6250 - precision: 0.4653 - recall: 0.5000\n",
            "Epoch 23/300\n",
            "77/77 [==============================] - 0s 1ms/step - loss: 87.0253 - accuracy: 0.6354 - precision: 0.4793 - recall: 0.5187\n",
            "Epoch 24/300\n",
            "77/77 [==============================] - 0s 1ms/step - loss: 86.7121 - accuracy: 0.6107 - precision: 0.4448 - recall: 0.4664\n",
            "Epoch 25/300\n",
            "77/77 [==============================] - 0s 1ms/step - loss: 82.4817 - accuracy: 0.6263 - precision: 0.4676 - recall: 0.5112\n",
            "Epoch 26/300\n",
            "77/77 [==============================] - 0s 1ms/step - loss: 80.7338 - accuracy: 0.6159 - precision: 0.4539 - recall: 0.4963\n",
            "Epoch 27/300\n",
            "77/77 [==============================] - 0s 1ms/step - loss: 80.6840 - accuracy: 0.6497 - precision: 0.4982 - recall: 0.5261\n",
            "Epoch 28/300\n",
            "77/77 [==============================] - 0s 1ms/step - loss: 81.4716 - accuracy: 0.6068 - precision: 0.4418 - recall: 0.4813\n",
            "Epoch 29/300\n",
            "77/77 [==============================] - 0s 1ms/step - loss: 77.4384 - accuracy: 0.6406 - precision: 0.4860 - recall: 0.5187\n",
            "Epoch 30/300\n",
            "77/77 [==============================] - 0s 1ms/step - loss: 80.9447 - accuracy: 0.6263 - precision: 0.4664 - recall: 0.4925\n",
            "Epoch 31/300\n",
            "77/77 [==============================] - 0s 1ms/step - loss: 82.7077 - accuracy: 0.6315 - precision: 0.4742 - recall: 0.5149\n",
            "Epoch 32/300\n",
            "77/77 [==============================] - 0s 1ms/step - loss: 78.4591 - accuracy: 0.6471 - precision: 0.4948 - recall: 0.5299\n",
            "Epoch 33/300\n",
            "77/77 [==============================] - 0s 1ms/step - loss: 81.1999 - accuracy: 0.6419 - precision: 0.4878 - recall: 0.5224\n",
            "Epoch 34/300\n",
            "77/77 [==============================] - 0s 2ms/step - loss: 80.0266 - accuracy: 0.6471 - precision: 0.4946 - recall: 0.5149\n",
            "Epoch 35/300\n",
            "77/77 [==============================] - 0s 1ms/step - loss: 80.7758 - accuracy: 0.6068 - precision: 0.4430 - recall: 0.4925\n",
            "Epoch 36/300\n",
            "77/77 [==============================] - 0s 1ms/step - loss: 81.5902 - accuracy: 0.6250 - precision: 0.4650 - recall: 0.4963\n",
            "Epoch 37/300\n",
            "77/77 [==============================] - 0s 1ms/step - loss: 83.2517 - accuracy: 0.6120 - precision: 0.4472 - recall: 0.4739\n",
            "Epoch 38/300\n",
            "77/77 [==============================] - 0s 1ms/step - loss: 88.9553 - accuracy: 0.6120 - precision: 0.4476 - recall: 0.4776\n",
            "Epoch 39/300\n",
            "77/77 [==============================] - 0s 1ms/step - loss: 79.7333 - accuracy: 0.6185 - precision: 0.4573 - recall: 0.5000\n",
            "Epoch 40/300\n",
            "77/77 [==============================] - 0s 1ms/step - loss: 76.7023 - accuracy: 0.6406 - precision: 0.4861 - recall: 0.5224\n",
            "Epoch 41/300\n",
            "77/77 [==============================] - 0s 1ms/step - loss: 86.9532 - accuracy: 0.6081 - precision: 0.4437 - recall: 0.4851\n",
            "Epoch 42/300\n",
            "77/77 [==============================] - 0s 1ms/step - loss: 76.3176 - accuracy: 0.6458 - precision: 0.4930 - recall: 0.5224\n",
            "Epoch 43/300\n",
            "77/77 [==============================] - 0s 1ms/step - loss: 79.4736 - accuracy: 0.6576 - precision: 0.5088 - recall: 0.5410\n",
            "Epoch 44/300\n",
            "77/77 [==============================] - 0s 1ms/step - loss: 81.3511 - accuracy: 0.6549 - precision: 0.5053 - recall: 0.5336\n",
            "Epoch 45/300\n",
            "77/77 [==============================] - 0s 1ms/step - loss: 76.8195 - accuracy: 0.6250 - precision: 0.4653 - recall: 0.5000\n",
            "Epoch 46/300\n",
            "77/77 [==============================] - 0s 1ms/step - loss: 76.6803 - accuracy: 0.6432 - precision: 0.4896 - recall: 0.5261\n",
            "Epoch 47/300\n",
            "77/77 [==============================] - 0s 1ms/step - loss: 81.5891 - accuracy: 0.6211 - precision: 0.4599 - recall: 0.4925\n",
            "Epoch 48/300\n",
            "77/77 [==============================] - 0s 2ms/step - loss: 76.3087 - accuracy: 0.6654 - precision: 0.5194 - recall: 0.5485\n",
            "Epoch 49/300\n",
            "77/77 [==============================] - 0s 1ms/step - loss: 79.1156 - accuracy: 0.6276 - precision: 0.4685 - recall: 0.5000\n",
            "Epoch 50/300\n",
            "77/77 [==============================] - 0s 1ms/step - loss: 76.4444 - accuracy: 0.6432 - precision: 0.4896 - recall: 0.5261\n",
            "Epoch 51/300\n",
            "77/77 [==============================] - 0s 1ms/step - loss: 72.8134 - accuracy: 0.6536 - precision: 0.5035 - recall: 0.5299\n",
            "Epoch 52/300\n",
            "77/77 [==============================] - 0s 1ms/step - loss: 81.4818 - accuracy: 0.6133 - precision: 0.4491 - recall: 0.4776\n",
            "Epoch 53/300\n",
            "77/77 [==============================] - 0s 1ms/step - loss: 78.2055 - accuracy: 0.6406 - precision: 0.4865 - recall: 0.5373\n",
            "Epoch 54/300\n",
            "77/77 [==============================] - 0s 1ms/step - loss: 83.1334 - accuracy: 0.6224 - precision: 0.4613 - recall: 0.4888\n",
            "Epoch 55/300\n",
            "77/77 [==============================] - 0s 1ms/step - loss: 79.7581 - accuracy: 0.6576 - precision: 0.5088 - recall: 0.5373\n",
            "Epoch 56/300\n",
            "77/77 [==============================] - 0s 1ms/step - loss: 77.0043 - accuracy: 0.6354 - precision: 0.4790 - recall: 0.5112\n",
            "Epoch 57/300\n",
            "77/77 [==============================] - 0s 1ms/step - loss: 74.4087 - accuracy: 0.6576 - precision: 0.5089 - recall: 0.5336\n",
            "Epoch 58/300\n",
            "77/77 [==============================] - 0s 1ms/step - loss: 77.9420 - accuracy: 0.6185 - precision: 0.4570 - recall: 0.4963\n",
            "Epoch 59/300\n",
            "77/77 [==============================] - 0s 1ms/step - loss: 70.8266 - accuracy: 0.6602 - precision: 0.5121 - recall: 0.5522\n",
            "Epoch 60/300\n",
            "77/77 [==============================] - 0s 1ms/step - loss: 81.7557 - accuracy: 0.6510 - precision: 0.5000 - recall: 0.5149\n",
            "Epoch 61/300\n",
            "77/77 [==============================] - 0s 1ms/step - loss: 82.9184 - accuracy: 0.6419 - precision: 0.4880 - recall: 0.5299\n",
            "Epoch 62/300\n",
            "77/77 [==============================] - 0s 1ms/step - loss: 70.1704 - accuracy: 0.6341 - precision: 0.4774 - recall: 0.5112\n",
            "Epoch 63/300\n",
            "77/77 [==============================] - 0s 1ms/step - loss: 92.5558 - accuracy: 0.5977 - precision: 0.4281 - recall: 0.4552\n",
            "Epoch 64/300\n",
            "77/77 [==============================] - 0s 1ms/step - loss: 67.9286 - accuracy: 0.6602 - precision: 0.5124 - recall: 0.5410\n",
            "Epoch 65/300\n",
            "77/77 [==============================] - 0s 1ms/step - loss: 73.9696 - accuracy: 0.6693 - precision: 0.5248 - recall: 0.5522\n",
            "Epoch 66/300\n",
            "77/77 [==============================] - 0s 1ms/step - loss: 73.5304 - accuracy: 0.6576 - precision: 0.5087 - recall: 0.5448\n",
            "Epoch 67/300\n",
            "77/77 [==============================] - 0s 1ms/step - loss: 79.7604 - accuracy: 0.6471 - precision: 0.4947 - recall: 0.5224\n",
            "Epoch 68/300\n",
            "77/77 [==============================] - 0s 1ms/step - loss: 75.4383 - accuracy: 0.6393 - precision: 0.4842 - recall: 0.5149\n",
            "Epoch 69/300\n",
            "77/77 [==============================] - 0s 1ms/step - loss: 75.1280 - accuracy: 0.6602 - precision: 0.5124 - recall: 0.5410\n",
            "Epoch 70/300\n",
            "77/77 [==============================] - 0s 1ms/step - loss: 77.7909 - accuracy: 0.6536 - precision: 0.5035 - recall: 0.5299\n",
            "Epoch 71/300\n",
            "77/77 [==============================] - 0s 1ms/step - loss: 82.3425 - accuracy: 0.6302 - precision: 0.4722 - recall: 0.5075\n",
            "Epoch 72/300\n",
            "77/77 [==============================] - 0s 1ms/step - loss: 78.7921 - accuracy: 0.6276 - precision: 0.4683 - recall: 0.4963\n",
            "Epoch 73/300\n",
            "77/77 [==============================] - 0s 1ms/step - loss: 71.2591 - accuracy: 0.6784 - precision: 0.5376 - recall: 0.5597\n",
            "Epoch 74/300\n",
            "77/77 [==============================] - 0s 1ms/step - loss: 71.9985 - accuracy: 0.6602 - precision: 0.5122 - recall: 0.5485\n",
            "Epoch 75/300\n",
            "77/77 [==============================] - 0s 1ms/step - loss: 82.7367 - accuracy: 0.6302 - precision: 0.4716 - recall: 0.4963\n",
            "Epoch 76/300\n",
            "77/77 [==============================] - 0s 1ms/step - loss: 75.3741 - accuracy: 0.6471 - precision: 0.4947 - recall: 0.5187\n",
            "Epoch 77/300\n",
            "77/77 [==============================] - 0s 1ms/step - loss: 79.6280 - accuracy: 0.6484 - precision: 0.4965 - recall: 0.5261\n",
            "Epoch 78/300\n",
            "77/77 [==============================] - 0s 1ms/step - loss: 81.8964 - accuracy: 0.6250 - precision: 0.4655 - recall: 0.5037\n",
            "Epoch 79/300\n",
            "77/77 [==============================] - 0s 1ms/step - loss: 72.9280 - accuracy: 0.6523 - precision: 0.5018 - recall: 0.5336\n",
            "Epoch 80/300\n",
            "77/77 [==============================] - 0s 1ms/step - loss: 72.9677 - accuracy: 0.6576 - precision: 0.5087 - recall: 0.5448\n",
            "Epoch 81/300\n",
            "77/77 [==============================] - 0s 1ms/step - loss: 72.2129 - accuracy: 0.6667 - precision: 0.5214 - recall: 0.5448\n",
            "Epoch 82/300\n",
            "77/77 [==============================] - 0s 1ms/step - loss: 73.6323 - accuracy: 0.6562 - precision: 0.5071 - recall: 0.5299\n",
            "Epoch 83/300\n",
            "77/77 [==============================] - 0s 2ms/step - loss: 74.6113 - accuracy: 0.6341 - precision: 0.4777 - recall: 0.5187\n",
            "Epoch 84/300\n",
            "77/77 [==============================] - 0s 1ms/step - loss: 76.9888 - accuracy: 0.6159 - precision: 0.4530 - recall: 0.4851\n",
            "Epoch 85/300\n",
            "77/77 [==============================] - 0s 1ms/step - loss: 70.1135 - accuracy: 0.6667 - precision: 0.5213 - recall: 0.5485\n",
            "Epoch 86/300\n",
            "77/77 [==============================] - 0s 1ms/step - loss: 76.5948 - accuracy: 0.6445 - precision: 0.4913 - recall: 0.5299\n",
            "Epoch 87/300\n",
            "77/77 [==============================] - 0s 1ms/step - loss: 68.2498 - accuracy: 0.6615 - precision: 0.5146 - recall: 0.5261\n",
            "Epoch 88/300\n",
            "77/77 [==============================] - 0s 1ms/step - loss: 77.9056 - accuracy: 0.6172 - precision: 0.4542 - recall: 0.4813\n",
            "Epoch 89/300\n",
            "77/77 [==============================] - 0s 1ms/step - loss: 74.4579 - accuracy: 0.6276 - precision: 0.4688 - recall: 0.5037\n",
            "Epoch 90/300\n",
            "77/77 [==============================] - 0s 1ms/step - loss: 81.7101 - accuracy: 0.6484 - precision: 0.4965 - recall: 0.5261\n",
            "Epoch 91/300\n",
            "77/77 [==============================] - 0s 1ms/step - loss: 77.0127 - accuracy: 0.6458 - precision: 0.4929 - recall: 0.5187\n",
            "Epoch 92/300\n",
            "77/77 [==============================] - 0s 1ms/step - loss: 75.3292 - accuracy: 0.6536 - precision: 0.5035 - recall: 0.5373\n",
            "Epoch 93/300\n",
            "77/77 [==============================] - 0s 1ms/step - loss: 62.3812 - accuracy: 0.6862 - precision: 0.5477 - recall: 0.5784\n",
            "Epoch 94/300\n",
            "77/77 [==============================] - 0s 1ms/step - loss: 86.3561 - accuracy: 0.6341 - precision: 0.4775 - recall: 0.5149\n",
            "Epoch 95/300\n",
            "77/77 [==============================] - 0s 1ms/step - loss: 85.0858 - accuracy: 0.6146 - precision: 0.4510 - recall: 0.4813\n",
            "Epoch 96/300\n",
            "77/77 [==============================] - 0s 1ms/step - loss: 74.4300 - accuracy: 0.6341 - precision: 0.4775 - recall: 0.5149\n",
            "Epoch 97/300\n",
            "77/77 [==============================] - 0s 1ms/step - loss: 74.8911 - accuracy: 0.6510 - precision: 0.5000 - recall: 0.5187\n",
            "Epoch 98/300\n",
            "77/77 [==============================] - 0s 1ms/step - loss: 78.1689 - accuracy: 0.6432 - precision: 0.4894 - recall: 0.5149\n",
            "Epoch 99/300\n",
            "77/77 [==============================] - 0s 1ms/step - loss: 82.1498 - accuracy: 0.6341 - precision: 0.4772 - recall: 0.5075\n",
            "Epoch 100/300\n",
            "77/77 [==============================] - 0s 1ms/step - loss: 80.9882 - accuracy: 0.6484 - precision: 0.4965 - recall: 0.5299\n",
            "Epoch 101/300\n",
            "77/77 [==============================] - 0s 1ms/step - loss: 72.5141 - accuracy: 0.6419 - precision: 0.4876 - recall: 0.5149\n",
            "Epoch 102/300\n",
            "77/77 [==============================] - 0s 1ms/step - loss: 79.3583 - accuracy: 0.6315 - precision: 0.4737 - recall: 0.5037\n",
            "Epoch 103/300\n",
            "77/77 [==============================] - 0s 1ms/step - loss: 72.9534 - accuracy: 0.6667 - precision: 0.5216 - recall: 0.5410\n",
            "Epoch 104/300\n",
            "77/77 [==============================] - 0s 1ms/step - loss: 72.0153 - accuracy: 0.6836 - precision: 0.5445 - recall: 0.5709\n",
            "Epoch 105/300\n",
            "77/77 [==============================] - 0s 1ms/step - loss: 69.3411 - accuracy: 0.6693 - precision: 0.5246 - recall: 0.5560\n",
            "Epoch 106/300\n",
            "77/77 [==============================] - 0s 1ms/step - loss: 79.8895 - accuracy: 0.6224 - precision: 0.4610 - recall: 0.4851\n",
            "Epoch 107/300\n",
            "77/77 [==============================] - 0s 1ms/step - loss: 72.8398 - accuracy: 0.6354 - precision: 0.4793 - recall: 0.5187\n",
            "Epoch 108/300\n",
            "77/77 [==============================] - 0s 1ms/step - loss: 69.5474 - accuracy: 0.6523 - precision: 0.5018 - recall: 0.5299\n",
            "Epoch 109/300\n",
            "77/77 [==============================] - 0s 1ms/step - loss: 67.7722 - accuracy: 0.6523 - precision: 0.5018 - recall: 0.5149\n",
            "Epoch 110/300\n",
            "77/77 [==============================] - 0s 1ms/step - loss: 72.3542 - accuracy: 0.6680 - precision: 0.5233 - recall: 0.5448\n",
            "Epoch 111/300\n",
            "77/77 [==============================] - 0s 1ms/step - loss: 73.7854 - accuracy: 0.6719 - precision: 0.5288 - recall: 0.5485\n",
            "Epoch 112/300\n",
            "77/77 [==============================] - 0s 1ms/step - loss: 65.4062 - accuracy: 0.6810 - precision: 0.5401 - recall: 0.5784\n",
            "Epoch 113/300\n",
            "77/77 [==============================] - 0s 1ms/step - loss: 72.7652 - accuracy: 0.6654 - precision: 0.5193 - recall: 0.5522\n",
            "Epoch 114/300\n",
            "77/77 [==============================] - 0s 1ms/step - loss: 67.4047 - accuracy: 0.6667 - precision: 0.5216 - recall: 0.5410\n",
            "Epoch 115/300\n",
            "77/77 [==============================] - 0s 2ms/step - loss: 79.9886 - accuracy: 0.6198 - precision: 0.4580 - recall: 0.4888\n",
            "Epoch 116/300\n",
            "77/77 [==============================] - 0s 1ms/step - loss: 72.6863 - accuracy: 0.6445 - precision: 0.4912 - recall: 0.5187\n",
            "Epoch 117/300\n",
            "77/77 [==============================] - 0s 1ms/step - loss: 77.5552 - accuracy: 0.6432 - precision: 0.4891 - recall: 0.5000\n",
            "Epoch 118/300\n",
            "77/77 [==============================] - 0s 1ms/step - loss: 68.9734 - accuracy: 0.6641 - precision: 0.5179 - recall: 0.5410\n",
            "Epoch 119/300\n",
            "77/77 [==============================] - 0s 1ms/step - loss: 78.0639 - accuracy: 0.6224 - precision: 0.4626 - recall: 0.5075\n",
            "Epoch 120/300\n",
            "77/77 [==============================] - 0s 1ms/step - loss: 76.3196 - accuracy: 0.6628 - precision: 0.5162 - recall: 0.5336\n",
            "Epoch 121/300\n",
            "77/77 [==============================] - 0s 1ms/step - loss: 69.1362 - accuracy: 0.6471 - precision: 0.4948 - recall: 0.5373\n",
            "Epoch 122/300\n",
            "77/77 [==============================] - 0s 1ms/step - loss: 71.8935 - accuracy: 0.6615 - precision: 0.5143 - recall: 0.5373\n",
            "Epoch 123/300\n",
            "77/77 [==============================] - 0s 1ms/step - loss: 76.0418 - accuracy: 0.6693 - precision: 0.5248 - recall: 0.5522\n",
            "Epoch 124/300\n",
            "77/77 [==============================] - 0s 1ms/step - loss: 64.6113 - accuracy: 0.7018 - precision: 0.5689 - recall: 0.6007\n",
            "Epoch 125/300\n",
            "77/77 [==============================] - 0s 1ms/step - loss: 72.5455 - accuracy: 0.6576 - precision: 0.5088 - recall: 0.5373\n",
            "Epoch 126/300\n",
            "77/77 [==============================] - 0s 1ms/step - loss: 71.3700 - accuracy: 0.6276 - precision: 0.4688 - recall: 0.5037\n",
            "Epoch 127/300\n",
            "77/77 [==============================] - 0s 1ms/step - loss: 82.1024 - accuracy: 0.6237 - precision: 0.4632 - recall: 0.4925\n",
            "Epoch 128/300\n",
            "77/77 [==============================] - 0s 1ms/step - loss: 67.2990 - accuracy: 0.6706 - precision: 0.5269 - recall: 0.5485\n",
            "Epoch 129/300\n",
            "77/77 [==============================] - 0s 1ms/step - loss: 69.2140 - accuracy: 0.6536 - precision: 0.5035 - recall: 0.5373\n",
            "Epoch 130/300\n",
            "77/77 [==============================] - 0s 1ms/step - loss: 72.5020 - accuracy: 0.6562 - precision: 0.5070 - recall: 0.5410\n",
            "Epoch 131/300\n",
            "77/77 [==============================] - 0s 1ms/step - loss: 76.9495 - accuracy: 0.6328 - precision: 0.4750 - recall: 0.4963\n",
            "Epoch 132/300\n",
            "77/77 [==============================] - 0s 1ms/step - loss: 72.9909 - accuracy: 0.6602 - precision: 0.5124 - recall: 0.5410\n",
            "Epoch 133/300\n",
            "77/77 [==============================] - 0s 1ms/step - loss: 62.2750 - accuracy: 0.6667 - precision: 0.5213 - recall: 0.5485\n",
            "Epoch 134/300\n",
            "77/77 [==============================] - 0s 1ms/step - loss: 75.4808 - accuracy: 0.6654 - precision: 0.5196 - recall: 0.5448\n",
            "Epoch 135/300\n",
            "77/77 [==============================] - 0s 1ms/step - loss: 71.7791 - accuracy: 0.6966 - precision: 0.5636 - recall: 0.5784\n",
            "Epoch 136/300\n",
            "77/77 [==============================] - 0s 1ms/step - loss: 76.2360 - accuracy: 0.6562 - precision: 0.5070 - recall: 0.5373\n",
            "Epoch 137/300\n",
            "77/77 [==============================] - 0s 1ms/step - loss: 69.1462 - accuracy: 0.6628 - precision: 0.5164 - recall: 0.5299\n",
            "Epoch 138/300\n",
            "77/77 [==============================] - 0s 1ms/step - loss: 70.4874 - accuracy: 0.6888 - precision: 0.5520 - recall: 0.5746\n",
            "Epoch 139/300\n",
            "77/77 [==============================] - 0s 1ms/step - loss: 68.5209 - accuracy: 0.6680 - precision: 0.5230 - recall: 0.5522\n",
            "Epoch 140/300\n",
            "77/77 [==============================] - 0s 1ms/step - loss: 65.2697 - accuracy: 0.6758 - precision: 0.5338 - recall: 0.5597\n",
            "Epoch 141/300\n",
            "77/77 [==============================] - 0s 1ms/step - loss: 80.8686 - accuracy: 0.6159 - precision: 0.4516 - recall: 0.4701\n",
            "Epoch 142/300\n",
            "77/77 [==============================] - 0s 1ms/step - loss: 72.7401 - accuracy: 0.6667 - precision: 0.5214 - recall: 0.5448\n",
            "Epoch 143/300\n",
            "77/77 [==============================] - 0s 1ms/step - loss: 71.0431 - accuracy: 0.6510 - precision: 0.5000 - recall: 0.5410\n",
            "Epoch 144/300\n",
            "77/77 [==============================] - 0s 1ms/step - loss: 69.5271 - accuracy: 0.6654 - precision: 0.5197 - recall: 0.5410\n",
            "Epoch 145/300\n",
            "77/77 [==============================] - 0s 1ms/step - loss: 70.8730 - accuracy: 0.6836 - precision: 0.5445 - recall: 0.5709\n",
            "Epoch 146/300\n",
            "77/77 [==============================] - 0s 1ms/step - loss: 72.1812 - accuracy: 0.6797 - precision: 0.5399 - recall: 0.5560\n",
            "Epoch 147/300\n",
            "77/77 [==============================] - 0s 1ms/step - loss: 73.8047 - accuracy: 0.6641 - precision: 0.5174 - recall: 0.5560\n",
            "Epoch 148/300\n",
            "77/77 [==============================] - 0s 1ms/step - loss: 77.1950 - accuracy: 0.6406 - precision: 0.4859 - recall: 0.5149\n",
            "Epoch 149/300\n",
            "77/77 [==============================] - 0s 1ms/step - loss: 71.0989 - accuracy: 0.6992 - precision: 0.5688 - recall: 0.5709\n",
            "Epoch 150/300\n",
            "77/77 [==============================] - 0s 1ms/step - loss: 69.4830 - accuracy: 0.6693 - precision: 0.5250 - recall: 0.5485\n",
            "Epoch 151/300\n",
            "77/77 [==============================] - 0s 1ms/step - loss: 72.0518 - accuracy: 0.6810 - precision: 0.5409 - recall: 0.5672\n",
            "Epoch 152/300\n",
            "77/77 [==============================] - 0s 1ms/step - loss: 72.8254 - accuracy: 0.6680 - precision: 0.5233 - recall: 0.5448\n",
            "Epoch 153/300\n",
            "77/77 [==============================] - 0s 1ms/step - loss: 69.0397 - accuracy: 0.6732 - precision: 0.5300 - recall: 0.5597\n",
            "Epoch 154/300\n",
            "77/77 [==============================] - 0s 1ms/step - loss: 75.7189 - accuracy: 0.6523 - precision: 0.5018 - recall: 0.5224\n",
            "Epoch 155/300\n",
            "77/77 [==============================] - 0s 1ms/step - loss: 73.0205 - accuracy: 0.6432 - precision: 0.4894 - recall: 0.5187\n",
            "Epoch 156/300\n",
            "77/77 [==============================] - 0s 1ms/step - loss: 75.3479 - accuracy: 0.6523 - precision: 0.5018 - recall: 0.5261\n",
            "Epoch 157/300\n",
            "77/77 [==============================] - 0s 1ms/step - loss: 67.4788 - accuracy: 0.6927 - precision: 0.5576 - recall: 0.5784\n",
            "Epoch 158/300\n",
            "77/77 [==============================] - 0s 1ms/step - loss: 66.3977 - accuracy: 0.6810 - precision: 0.5409 - recall: 0.5672\n",
            "Epoch 159/300\n",
            "77/77 [==============================] - 0s 1ms/step - loss: 82.4312 - accuracy: 0.6628 - precision: 0.5161 - recall: 0.5373\n",
            "Epoch 160/300\n",
            "77/77 [==============================] - 0s 1ms/step - loss: 68.4126 - accuracy: 0.6810 - precision: 0.5415 - recall: 0.5597\n",
            "Epoch 161/300\n",
            "77/77 [==============================] - 0s 1ms/step - loss: 78.0612 - accuracy: 0.6589 - precision: 0.5108 - recall: 0.5299\n",
            "Epoch 162/300\n",
            "77/77 [==============================] - 0s 1ms/step - loss: 73.0950 - accuracy: 0.6641 - precision: 0.5177 - recall: 0.5448\n",
            "Epoch 163/300\n",
            "77/77 [==============================] - 0s 1ms/step - loss: 65.7126 - accuracy: 0.6862 - precision: 0.5487 - recall: 0.5672\n",
            "Epoch 164/300\n",
            "77/77 [==============================] - 0s 1ms/step - loss: 70.4865 - accuracy: 0.6602 - precision: 0.5125 - recall: 0.5336\n",
            "Epoch 165/300\n",
            "77/77 [==============================] - 0s 1ms/step - loss: 69.0668 - accuracy: 0.6536 - precision: 0.5035 - recall: 0.5373\n",
            "Epoch 166/300\n",
            "77/77 [==============================] - 0s 1ms/step - loss: 71.8309 - accuracy: 0.6615 - precision: 0.5143 - recall: 0.5373\n",
            "Epoch 167/300\n",
            "77/77 [==============================] - 0s 1ms/step - loss: 72.1720 - accuracy: 0.6784 - precision: 0.5382 - recall: 0.5522\n",
            "Epoch 168/300\n",
            "77/77 [==============================] - 0s 1ms/step - loss: 79.8885 - accuracy: 0.6628 - precision: 0.5160 - recall: 0.5410\n",
            "Epoch 169/300\n",
            "77/77 [==============================] - 0s 1ms/step - loss: 76.0511 - accuracy: 0.6328 - precision: 0.4752 - recall: 0.5000\n",
            "Epoch 170/300\n",
            "77/77 [==============================] - 0s 1ms/step - loss: 66.2482 - accuracy: 0.6784 - precision: 0.5382 - recall: 0.5522\n",
            "Epoch 171/300\n",
            "77/77 [==============================] - 0s 1ms/step - loss: 68.1480 - accuracy: 0.6693 - precision: 0.5246 - recall: 0.5560\n",
            "Epoch 172/300\n",
            "77/77 [==============================] - 0s 1ms/step - loss: 72.9114 - accuracy: 0.6784 - precision: 0.5382 - recall: 0.5522\n",
            "Epoch 173/300\n",
            "77/77 [==============================] - 0s 1ms/step - loss: 67.0151 - accuracy: 0.6914 - precision: 0.5548 - recall: 0.5858\n",
            "Epoch 174/300\n",
            "77/77 [==============================] - 0s 1ms/step - loss: 66.0904 - accuracy: 0.6862 - precision: 0.5484 - recall: 0.5709\n",
            "Epoch 175/300\n",
            "77/77 [==============================] - 0s 1ms/step - loss: 78.3068 - accuracy: 0.6654 - precision: 0.5197 - recall: 0.5410\n",
            "Epoch 176/300\n",
            "77/77 [==============================] - 0s 1ms/step - loss: 66.7639 - accuracy: 0.6888 - precision: 0.5520 - recall: 0.5746\n",
            "Epoch 177/300\n",
            "77/77 [==============================] - 0s 1ms/step - loss: 72.2752 - accuracy: 0.6797 - precision: 0.5396 - recall: 0.5597\n",
            "Epoch 178/300\n",
            "77/77 [==============================] - 0s 1ms/step - loss: 66.3850 - accuracy: 0.6849 - precision: 0.5471 - recall: 0.5634\n",
            "Epoch 179/300\n",
            "77/77 [==============================] - 0s 2ms/step - loss: 67.1212 - accuracy: 0.6823 - precision: 0.5426 - recall: 0.5709\n",
            "Epoch 180/300\n",
            "77/77 [==============================] - 0s 1ms/step - loss: 73.6419 - accuracy: 0.6328 - precision: 0.4750 - recall: 0.4963\n",
            "Epoch 181/300\n",
            "77/77 [==============================] - 0s 1ms/step - loss: 66.2831 - accuracy: 0.6758 - precision: 0.5338 - recall: 0.5597\n",
            "Epoch 182/300\n",
            "77/77 [==============================] - 0s 1ms/step - loss: 70.0477 - accuracy: 0.6602 - precision: 0.5125 - recall: 0.5336\n",
            "Epoch 183/300\n",
            "77/77 [==============================] - 0s 1ms/step - loss: 66.0894 - accuracy: 0.6784 - precision: 0.5374 - recall: 0.5634\n",
            "Epoch 184/300\n",
            "77/77 [==============================] - 0s 1ms/step - loss: 76.1141 - accuracy: 0.6497 - precision: 0.4982 - recall: 0.5299\n",
            "Epoch 185/300\n",
            "77/77 [==============================] - 0s 1ms/step - loss: 68.9464 - accuracy: 0.6471 - precision: 0.4947 - recall: 0.5187\n",
            "Epoch 186/300\n",
            "77/77 [==============================] - 0s 1ms/step - loss: 77.0052 - accuracy: 0.6549 - precision: 0.5053 - recall: 0.5299\n",
            "Epoch 187/300\n",
            "77/77 [==============================] - 0s 1ms/step - loss: 71.1758 - accuracy: 0.6836 - precision: 0.5451 - recall: 0.5634\n",
            "Epoch 188/300\n",
            "77/77 [==============================] - 0s 1ms/step - loss: 66.1748 - accuracy: 0.6992 - precision: 0.5658 - recall: 0.5933\n",
            "Epoch 189/300\n",
            "77/77 [==============================] - 0s 1ms/step - loss: 72.4747 - accuracy: 0.6706 - precision: 0.5269 - recall: 0.5485\n",
            "Epoch 190/300\n",
            "77/77 [==============================] - 0s 1ms/step - loss: 66.7502 - accuracy: 0.6836 - precision: 0.5445 - recall: 0.5709\n",
            "Epoch 191/300\n",
            "77/77 [==============================] - 0s 1ms/step - loss: 70.6643 - accuracy: 0.6667 - precision: 0.5216 - recall: 0.5410\n",
            "Epoch 192/300\n",
            "77/77 [==============================] - 0s 1ms/step - loss: 66.5341 - accuracy: 0.6732 - precision: 0.5305 - recall: 0.5522\n",
            "Epoch 193/300\n",
            "77/77 [==============================] - 0s 1ms/step - loss: 75.2480 - accuracy: 0.6602 - precision: 0.5125 - recall: 0.5336\n",
            "Epoch 194/300\n",
            "77/77 [==============================] - 0s 1ms/step - loss: 67.5342 - accuracy: 0.6732 - precision: 0.5307 - recall: 0.5485\n",
            "Epoch 195/300\n",
            "77/77 [==============================] - 0s 1ms/step - loss: 74.2542 - accuracy: 0.6406 - precision: 0.4859 - recall: 0.5149\n",
            "Epoch 196/300\n",
            "77/77 [==============================] - 0s 1ms/step - loss: 68.2606 - accuracy: 0.6641 - precision: 0.5176 - recall: 0.5485\n",
            "Epoch 197/300\n",
            "77/77 [==============================] - 0s 1ms/step - loss: 76.3662 - accuracy: 0.6589 - precision: 0.5108 - recall: 0.5299\n",
            "Epoch 198/300\n",
            "77/77 [==============================] - 0s 1ms/step - loss: 68.5968 - accuracy: 0.6641 - precision: 0.5180 - recall: 0.5373\n",
            "Epoch 199/300\n",
            "77/77 [==============================] - 0s 1ms/step - loss: 72.0383 - accuracy: 0.6719 - precision: 0.5288 - recall: 0.5485\n",
            "Epoch 200/300\n",
            "77/77 [==============================] - 0s 1ms/step - loss: 71.5832 - accuracy: 0.6823 - precision: 0.5432 - recall: 0.5634\n",
            "Epoch 201/300\n",
            "77/77 [==============================] - 0s 2ms/step - loss: 72.4281 - accuracy: 0.6745 - precision: 0.5328 - recall: 0.5448\n",
            "Epoch 202/300\n",
            "77/77 [==============================] - 0s 1ms/step - loss: 69.7116 - accuracy: 0.6576 - precision: 0.5088 - recall: 0.5373\n",
            "Epoch 203/300\n",
            "77/77 [==============================] - 0s 1ms/step - loss: 66.3576 - accuracy: 0.6654 - precision: 0.5201 - recall: 0.5299\n",
            "Epoch 204/300\n",
            "77/77 [==============================] - 0s 1ms/step - loss: 73.3776 - accuracy: 0.6510 - precision: 0.5000 - recall: 0.5261\n",
            "Epoch 205/300\n",
            "77/77 [==============================] - 0s 1ms/step - loss: 66.0385 - accuracy: 0.6862 - precision: 0.5487 - recall: 0.5672\n",
            "Epoch 206/300\n",
            "77/77 [==============================] - 0s 1ms/step - loss: 73.2606 - accuracy: 0.6706 - precision: 0.5273 - recall: 0.5410\n",
            "Epoch 207/300\n",
            "77/77 [==============================] - 0s 1ms/step - loss: 68.0899 - accuracy: 0.6992 - precision: 0.5668 - recall: 0.5858\n",
            "Epoch 208/300\n",
            "77/77 [==============================] - 0s 1ms/step - loss: 78.8411 - accuracy: 0.6523 - precision: 0.5018 - recall: 0.5224\n",
            "Epoch 209/300\n",
            "77/77 [==============================] - 0s 1ms/step - loss: 73.0851 - accuracy: 0.6654 - precision: 0.5196 - recall: 0.5448\n",
            "Epoch 210/300\n",
            "77/77 [==============================] - 0s 1ms/step - loss: 68.0843 - accuracy: 0.6602 - precision: 0.5124 - recall: 0.5410\n",
            "Epoch 211/300\n",
            "77/77 [==============================] - 0s 1ms/step - loss: 67.7094 - accuracy: 0.6784 - precision: 0.5379 - recall: 0.5560\n",
            "Epoch 212/300\n",
            "77/77 [==============================] - 0s 1ms/step - loss: 70.5059 - accuracy: 0.6797 - precision: 0.5393 - recall: 0.5634\n",
            "Epoch 213/300\n",
            "77/77 [==============================] - 0s 1ms/step - loss: 64.8917 - accuracy: 0.6927 - precision: 0.5580 - recall: 0.5746\n",
            "Epoch 214/300\n",
            "77/77 [==============================] - 0s 1ms/step - loss: 75.2538 - accuracy: 0.6797 - precision: 0.5396 - recall: 0.5597\n",
            "Epoch 215/300\n",
            "77/77 [==============================] - 0s 1ms/step - loss: 69.4855 - accuracy: 0.6602 - precision: 0.5126 - recall: 0.5299\n",
            "Epoch 216/300\n",
            "77/77 [==============================] - 0s 1ms/step - loss: 71.0015 - accuracy: 0.6784 - precision: 0.5382 - recall: 0.5522\n",
            "Epoch 217/300\n",
            "77/77 [==============================] - 0s 1ms/step - loss: 71.5138 - accuracy: 0.6654 - precision: 0.5197 - recall: 0.5410\n",
            "Epoch 218/300\n",
            "77/77 [==============================] - 0s 1ms/step - loss: 65.7941 - accuracy: 0.6732 - precision: 0.5300 - recall: 0.5597\n",
            "Epoch 219/300\n",
            "77/77 [==============================] - 0s 1ms/step - loss: 67.9174 - accuracy: 0.6966 - precision: 0.5646 - recall: 0.5709\n",
            "Epoch 220/300\n",
            "77/77 [==============================] - 0s 1ms/step - loss: 73.6070 - accuracy: 0.7005 - precision: 0.5699 - recall: 0.5784\n",
            "Epoch 221/300\n",
            "77/77 [==============================] - 0s 1ms/step - loss: 69.6883 - accuracy: 0.6732 - precision: 0.5307 - recall: 0.5485\n",
            "Epoch 222/300\n",
            "77/77 [==============================] - 0s 1ms/step - loss: 77.7806 - accuracy: 0.6510 - precision: 0.5000 - recall: 0.5299\n",
            "Epoch 223/300\n",
            "77/77 [==============================] - 0s 1ms/step - loss: 71.4471 - accuracy: 0.6810 - precision: 0.5418 - recall: 0.5560\n",
            "Epoch 224/300\n",
            "77/77 [==============================] - 0s 1ms/step - loss: 66.6212 - accuracy: 0.6784 - precision: 0.5387 - recall: 0.5448\n",
            "Epoch 225/300\n",
            "77/77 [==============================] - 0s 1ms/step - loss: 69.4909 - accuracy: 0.6745 - precision: 0.5317 - recall: 0.5634\n",
            "Epoch 226/300\n",
            "77/77 [==============================] - 0s 1ms/step - loss: 73.4080 - accuracy: 0.6562 - precision: 0.5071 - recall: 0.5299\n",
            "Epoch 227/300\n",
            "77/77 [==============================] - 0s 1ms/step - loss: 70.8065 - accuracy: 0.6667 - precision: 0.5219 - recall: 0.5336\n",
            "Epoch 228/300\n",
            "77/77 [==============================] - 0s 1ms/step - loss: 75.8468 - accuracy: 0.6680 - precision: 0.5235 - recall: 0.5410\n",
            "Epoch 229/300\n",
            "77/77 [==============================] - 0s 1ms/step - loss: 73.4527 - accuracy: 0.6667 - precision: 0.5216 - recall: 0.5410\n",
            "Epoch 230/300\n",
            "77/77 [==============================] - 0s 1ms/step - loss: 75.2087 - accuracy: 0.6758 - precision: 0.5345 - recall: 0.5485\n",
            "Epoch 231/300\n",
            "77/77 [==============================] - 0s 1ms/step - loss: 75.1321 - accuracy: 0.6289 - precision: 0.4695 - recall: 0.4888\n",
            "Epoch 232/300\n",
            "77/77 [==============================] - 0s 1ms/step - loss: 72.6036 - accuracy: 0.6393 - precision: 0.4839 - recall: 0.5037\n",
            "Epoch 233/300\n",
            "77/77 [==============================] - 0s 1ms/step - loss: 73.8069 - accuracy: 0.6523 - precision: 0.5018 - recall: 0.5224\n",
            "Epoch 234/300\n",
            "77/77 [==============================] - 0s 1ms/step - loss: 73.8714 - accuracy: 0.6875 - precision: 0.5515 - recall: 0.5597\n",
            "Epoch 235/300\n",
            "77/77 [==============================] - 0s 1ms/step - loss: 66.0683 - accuracy: 0.6771 - precision: 0.5357 - recall: 0.5597\n",
            "Epoch 236/300\n",
            "77/77 [==============================] - 0s 1ms/step - loss: 77.5845 - accuracy: 0.6667 - precision: 0.5213 - recall: 0.5485\n",
            "Epoch 237/300\n",
            "77/77 [==============================] - 0s 1ms/step - loss: 78.3764 - accuracy: 0.6159 - precision: 0.4513 - recall: 0.4664\n",
            "Epoch 238/300\n",
            "77/77 [==============================] - 0s 1ms/step - loss: 61.9486 - accuracy: 0.6901 - precision: 0.5543 - recall: 0.5709\n",
            "Epoch 239/300\n",
            "77/77 [==============================] - 0s 1ms/step - loss: 63.4807 - accuracy: 0.6758 - precision: 0.5338 - recall: 0.5597\n",
            "Epoch 240/300\n",
            "77/77 [==============================] - 0s 1ms/step - loss: 78.0729 - accuracy: 0.6536 - precision: 0.5036 - recall: 0.5187\n",
            "Epoch 241/300\n",
            "77/77 [==============================] - 0s 1ms/step - loss: 72.6178 - accuracy: 0.6862 - precision: 0.5502 - recall: 0.5522\n",
            "Epoch 242/300\n",
            "77/77 [==============================] - 0s 1ms/step - loss: 68.2543 - accuracy: 0.6771 - precision: 0.5347 - recall: 0.5746\n",
            "Epoch 243/300\n",
            "77/77 [==============================] - 0s 1ms/step - loss: 65.5506 - accuracy: 0.6654 - precision: 0.5197 - recall: 0.5410\n",
            "Epoch 244/300\n",
            "77/77 [==============================] - 0s 1ms/step - loss: 64.5548 - accuracy: 0.6914 - precision: 0.5564 - recall: 0.5709\n",
            "Epoch 245/300\n",
            "77/77 [==============================] - 0s 1ms/step - loss: 65.8930 - accuracy: 0.6940 - precision: 0.5600 - recall: 0.5746\n",
            "Epoch 246/300\n",
            "77/77 [==============================] - 0s 1ms/step - loss: 71.6637 - accuracy: 0.6562 - precision: 0.5072 - recall: 0.5224\n",
            "Epoch 247/300\n",
            "77/77 [==============================] - 0s 1ms/step - loss: 67.5053 - accuracy: 0.6654 - precision: 0.5197 - recall: 0.5410\n",
            "Epoch 248/300\n",
            "77/77 [==============================] - 0s 1ms/step - loss: 69.5993 - accuracy: 0.6836 - precision: 0.5445 - recall: 0.5709\n",
            "Epoch 249/300\n",
            "77/77 [==============================] - 0s 1ms/step - loss: 68.9301 - accuracy: 0.6914 - precision: 0.5568 - recall: 0.5672\n",
            "Epoch 250/300\n",
            "77/77 [==============================] - 0s 1ms/step - loss: 64.0083 - accuracy: 0.7070 - precision: 0.5776 - recall: 0.5970\n",
            "Epoch 251/300\n",
            "77/77 [==============================] - 0s 1ms/step - loss: 72.6315 - accuracy: 0.6732 - precision: 0.5311 - recall: 0.5410\n",
            "Epoch 252/300\n",
            "77/77 [==============================] - 0s 1ms/step - loss: 74.0685 - accuracy: 0.6680 - precision: 0.5236 - recall: 0.5373\n",
            "Epoch 253/300\n",
            "77/77 [==============================] - 0s 1ms/step - loss: 68.2980 - accuracy: 0.6836 - precision: 0.5448 - recall: 0.5672\n",
            "Epoch 254/300\n",
            "77/77 [==============================] - 0s 1ms/step - loss: 72.3785 - accuracy: 0.6862 - precision: 0.5498 - recall: 0.5560\n",
            "Epoch 255/300\n",
            "77/77 [==============================] - 0s 1ms/step - loss: 76.3241 - accuracy: 0.6354 - precision: 0.4783 - recall: 0.4925\n",
            "Epoch 256/300\n",
            "77/77 [==============================] - 0s 1ms/step - loss: 77.7066 - accuracy: 0.6589 - precision: 0.5106 - recall: 0.5373\n",
            "Epoch 257/300\n",
            "77/77 [==============================] - 0s 1ms/step - loss: 63.6547 - accuracy: 0.6836 - precision: 0.5448 - recall: 0.5672\n",
            "Epoch 258/300\n",
            "77/77 [==============================] - 0s 1ms/step - loss: 69.2681 - accuracy: 0.6745 - precision: 0.5326 - recall: 0.5485\n",
            "Epoch 259/300\n",
            "77/77 [==============================] - 0s 1ms/step - loss: 73.5405 - accuracy: 0.6654 - precision: 0.5201 - recall: 0.5299\n",
            "Epoch 260/300\n",
            "77/77 [==============================] - 0s 1ms/step - loss: 76.2427 - accuracy: 0.6615 - precision: 0.5145 - recall: 0.5299\n",
            "Epoch 261/300\n",
            "77/77 [==============================] - 0s 2ms/step - loss: 66.8548 - accuracy: 0.6589 - precision: 0.5109 - recall: 0.5224\n",
            "Epoch 262/300\n",
            "77/77 [==============================] - 0s 1ms/step - loss: 72.0556 - accuracy: 0.6784 - precision: 0.5385 - recall: 0.5485\n",
            "Epoch 263/300\n",
            "77/77 [==============================] - 0s 1ms/step - loss: 63.2358 - accuracy: 0.7005 - precision: 0.5674 - recall: 0.5970\n",
            "Epoch 264/300\n",
            "77/77 [==============================] - 0s 1ms/step - loss: 70.2392 - accuracy: 0.6641 - precision: 0.5181 - recall: 0.5336\n",
            "Epoch 265/300\n",
            "77/77 [==============================] - 0s 1ms/step - loss: 71.7207 - accuracy: 0.6927 - precision: 0.5584 - recall: 0.5709\n",
            "Epoch 266/300\n",
            "77/77 [==============================] - 0s 1ms/step - loss: 68.2616 - accuracy: 0.6888 - precision: 0.5520 - recall: 0.5746\n",
            "Epoch 267/300\n",
            "77/77 [==============================] - 0s 1ms/step - loss: 69.5525 - accuracy: 0.6901 - precision: 0.5551 - recall: 0.5634\n",
            "Epoch 268/300\n",
            "77/77 [==============================] - 0s 1ms/step - loss: 68.3367 - accuracy: 0.6992 - precision: 0.5673 - recall: 0.5821\n",
            "Epoch 269/300\n",
            "77/77 [==============================] - 0s 1ms/step - loss: 78.0669 - accuracy: 0.6745 - precision: 0.5333 - recall: 0.5373\n",
            "Epoch 270/300\n",
            "77/77 [==============================] - 0s 1ms/step - loss: 62.7581 - accuracy: 0.6979 - precision: 0.5647 - recall: 0.5858\n",
            "Epoch 271/300\n",
            "77/77 [==============================] - 0s 1ms/step - loss: 77.0935 - accuracy: 0.6523 - precision: 0.5018 - recall: 0.5224\n",
            "Epoch 272/300\n",
            "77/77 [==============================] - 0s 1ms/step - loss: 69.7634 - accuracy: 0.6654 - precision: 0.5201 - recall: 0.5299\n",
            "Epoch 273/300\n",
            "77/77 [==============================] - 0s 2ms/step - loss: 69.3801 - accuracy: 0.6836 - precision: 0.5451 - recall: 0.5634\n",
            "Epoch 274/300\n",
            "77/77 [==============================] - 0s 1ms/step - loss: 63.7822 - accuracy: 0.6745 - precision: 0.5328 - recall: 0.5448\n",
            "Epoch 275/300\n",
            "77/77 [==============================] - 0s 1ms/step - loss: 84.5781 - accuracy: 0.6680 - precision: 0.5235 - recall: 0.5410\n",
            "Epoch 276/300\n",
            "77/77 [==============================] - 0s 1ms/step - loss: 71.5676 - accuracy: 0.6836 - precision: 0.5458 - recall: 0.5560\n",
            "Epoch 277/300\n",
            "77/77 [==============================] - 0s 1ms/step - loss: 69.9010 - accuracy: 0.6667 - precision: 0.5213 - recall: 0.5485\n",
            "Epoch 278/300\n",
            "77/77 [==============================] - 0s 1ms/step - loss: 68.5051 - accuracy: 0.6654 - precision: 0.5199 - recall: 0.5373\n",
            "Epoch 279/300\n",
            "77/77 [==============================] - 0s 1ms/step - loss: 71.6351 - accuracy: 0.6589 - precision: 0.5106 - recall: 0.5410\n",
            "Epoch 280/300\n",
            "77/77 [==============================] - 0s 1ms/step - loss: 67.2124 - accuracy: 0.6875 - precision: 0.5519 - recall: 0.5560\n",
            "Epoch 281/300\n",
            "77/77 [==============================] - 0s 1ms/step - loss: 72.7180 - accuracy: 0.6667 - precision: 0.5217 - recall: 0.5373\n",
            "Epoch 282/300\n",
            "77/77 [==============================] - 0s 1ms/step - loss: 67.2383 - accuracy: 0.6784 - precision: 0.5385 - recall: 0.5485\n",
            "Epoch 283/300\n",
            "77/77 [==============================] - 0s 1ms/step - loss: 65.0831 - accuracy: 0.6615 - precision: 0.5144 - recall: 0.5336\n",
            "Epoch 284/300\n",
            "77/77 [==============================] - 0s 1ms/step - loss: 70.9943 - accuracy: 0.6771 - precision: 0.5360 - recall: 0.5560\n",
            "Epoch 285/300\n",
            "77/77 [==============================] - 0s 1ms/step - loss: 68.6393 - accuracy: 0.6562 - precision: 0.5070 - recall: 0.5373\n",
            "Epoch 286/300\n",
            "77/77 [==============================] - 0s 1ms/step - loss: 74.0315 - accuracy: 0.6615 - precision: 0.5145 - recall: 0.5299\n",
            "Epoch 287/300\n",
            "77/77 [==============================] - 0s 1ms/step - loss: 70.5287 - accuracy: 0.6680 - precision: 0.5230 - recall: 0.5522\n",
            "Epoch 288/300\n",
            "77/77 [==============================] - 0s 1ms/step - loss: 72.7712 - accuracy: 0.6654 - precision: 0.5200 - recall: 0.5336\n",
            "Epoch 289/300\n",
            "77/77 [==============================] - 0s 1ms/step - loss: 68.0222 - accuracy: 0.6823 - precision: 0.5441 - recall: 0.5522\n",
            "Epoch 290/300\n",
            "77/77 [==============================] - 0s 1ms/step - loss: 67.0660 - accuracy: 0.6862 - precision: 0.5491 - recall: 0.5634\n",
            "Epoch 291/300\n",
            "77/77 [==============================] - 0s 1ms/step - loss: 71.5934 - accuracy: 0.6706 - precision: 0.5269 - recall: 0.5485\n",
            "Epoch 292/300\n",
            "77/77 [==============================] - 0s 1ms/step - loss: 69.1076 - accuracy: 0.6836 - precision: 0.5458 - recall: 0.5560\n",
            "Epoch 293/300\n",
            "77/77 [==============================] - 0s 1ms/step - loss: 71.4188 - accuracy: 0.6745 - precision: 0.5331 - recall: 0.5410\n",
            "Epoch 294/300\n",
            "77/77 [==============================] - 0s 1ms/step - loss: 67.5612 - accuracy: 0.6641 - precision: 0.5179 - recall: 0.5410\n",
            "Epoch 295/300\n",
            "77/77 [==============================] - 0s 1ms/step - loss: 78.2152 - accuracy: 0.6615 - precision: 0.5145 - recall: 0.5299\n",
            "Epoch 296/300\n",
            "77/77 [==============================] - 0s 1ms/step - loss: 63.6007 - accuracy: 0.6628 - precision: 0.5159 - recall: 0.5448\n",
            "Epoch 297/300\n",
            "77/77 [==============================] - 0s 1ms/step - loss: 59.8651 - accuracy: 0.7109 - precision: 0.5833 - recall: 0.6007\n",
            "Epoch 298/300\n",
            "77/77 [==============================] - 0s 1ms/step - loss: 71.8179 - accuracy: 0.6914 - precision: 0.5572 - recall: 0.5634\n",
            "Epoch 299/300\n",
            "77/77 [==============================] - 0s 1ms/step - loss: 67.1051 - accuracy: 0.6914 - precision: 0.5560 - recall: 0.5746\n",
            "Epoch 300/300\n",
            "77/77 [==============================] - 0s 1ms/step - loss: 67.6271 - accuracy: 0.6810 - precision: 0.5421 - recall: 0.5522\n"
          ],
          "name": "stdout"
        },
        {
          "output_type": "display_data",
          "data": {
            "image/png": "[encoded data removed]",
            "text/plain": [
              "<Figure size 432x288 with 1 Axes>"
            ]
          },
          "metadata": {
            "tags": []
          }
        }
      ]
    },
    {
      "cell_type": "code",
      "metadata": {
        "id": "Ux6suodj2KQV",
        "colab_type": "code",
        "colab": {}
      },
      "source": [
        ""
      ],
      "execution_count": 0,
      "outputs": []
    }
  ]
}