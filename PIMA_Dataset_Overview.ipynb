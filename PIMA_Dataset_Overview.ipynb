{
  "nbformat": 4,
  "nbformat_minor": 0,
  "metadata": {
    "colab": {
      "name": "PIMA Dataset Overview",
      "provenance": [],
      "collapsed_sections": [],
      "include_colab_link": true
    },
    "kernelspec": {
      "name": "python3",
      "display_name": "Python 3"
    }
  },
  "cells": [
    {
      "cell_type": "markdown",
      "metadata": {
        "id": "view-in-github",
        "colab_type": "text"
      },
      "source": [
        "<a href=\"https://colab.research.google.com/github/adindariztia/Bangkit_DiabetesPredictionML/blob/Alita/PIMA_Dataset_Overview.ipynb\" target=\"_parent\"><img src=\"https://colab.research.google.com/assets/colab-badge.svg\" alt=\"Open In Colab\"/></a>"
      ]
    },
    {
      "cell_type": "code",
      "metadata": {
        "id": "ngTWoEBC7zrV",
        "colab_type": "code",
        "colab": {}
      },
      "source": [
        "%tensorflow_version 2.x"
      ],
      "execution_count": 0,
      "outputs": []
    },
    {
      "cell_type": "code",
      "metadata": {
        "id": "fZuqanp64xm6",
        "colab_type": "code",
        "colab": {}
      },
      "source": [
        "import pandas as pd\n",
        "import numpy as np\n",
        "import seaborn as sns\n",
        "import matplotlib.pyplot as plt\n",
        "from sklearn.model_selection import train_test_split\n",
        "import tensorflow as tf\n",
        "from tensorflow import feature_column\n",
        "from tensorflow.keras import layers"
      ],
      "execution_count": 0,
      "outputs": []
    },
    {
      "cell_type": "markdown",
      "metadata": {
        "id": "97ratiCb5BLn",
        "colab_type": "text"
      },
      "source": [
        "Read The Dataset"
      ]
    },
    {
      "cell_type": "code",
      "metadata": {
        "id": "BTPA0Rcf4dgK",
        "colab_type": "code",
        "colab": {}
      },
      "source": [
        "df = pd.read_csv('diabetes.csv')\n",
        "df = df.reindex(np.random.permutation(df.index)) #adding randomization so no ordering effect that may harm performance"
      ],
      "execution_count": 0,
      "outputs": []
    },
    {
      "cell_type": "markdown",
      "metadata": {
        "id": "IIIGebXs4_jj",
        "colab_type": "text"
      },
      "source": [
        "Get a Glimpse on dataset"
      ]
    },
    {
      "cell_type": "code",
      "metadata": {
        "id": "jYjVS5o75MQf",
        "colab_type": "code",
        "outputId": "91323590-7311-4b0c-e4ef-d5d72ae28d2a",
        "colab": {
          "base_uri": "https://localhost:8080/",
          "height": 36
        }
      },
      "source": [
        "df.shape"
      ],
      "execution_count": 54,
      "outputs": [
        {
          "output_type": "execute_result",
          "data": {
            "text/plain": [
              "(768, 9)"
            ]
          },
          "metadata": {
            "tags": []
          },
          "execution_count": 54
        }
      ]
    },
    {
      "cell_type": "code",
      "metadata": {
        "id": "A2QXt0UB493u",
        "colab_type": "code",
        "outputId": "5938f9c6-58c3-4f13-f8ab-cd26900d6032",
        "colab": {
          "base_uri": "https://localhost:8080/",
          "height": 206
        }
      },
      "source": [
        "df.head()"
      ],
      "execution_count": 55,
      "outputs": [
        {
          "output_type": "execute_result",
          "data": {
            "text/html": [
              "<div>\n",
              "<style scoped>\n",
              "    .dataframe tbody tr th:only-of-type {\n",
              "        vertical-align: middle;\n",
              "    }\n",
              "\n",
              "    .dataframe tbody tr th {\n",
              "        vertical-align: top;\n",
              "    }\n",
              "\n",
              "    .dataframe thead th {\n",
              "        text-align: right;\n",
              "    }\n",
              "</style>\n",
              "<table border=\"1\" class=\"dataframe\">\n",
              "  <thead>\n",
              "    <tr style=\"text-align: right;\">\n",
              "      <th></th>\n",
              "      <th>Pregnancies</th>\n",
              "      <th>Glucose</th>\n",
              "      <th>BloodPressure</th>\n",
              "      <th>SkinThickness</th>\n",
              "      <th>Insulin</th>\n",
              "      <th>BMI</th>\n",
              "      <th>DiabetesPedigreeFunction</th>\n",
              "      <th>Age</th>\n",
              "      <th>Outcome</th>\n",
              "    </tr>\n",
              "  </thead>\n",
              "  <tbody>\n",
              "    <tr>\n",
              "      <th>706</th>\n",
              "      <td>10</td>\n",
              "      <td>115</td>\n",
              "      <td>0</td>\n",
              "      <td>0</td>\n",
              "      <td>0</td>\n",
              "      <td>0.0</td>\n",
              "      <td>0.261</td>\n",
              "      <td>30</td>\n",
              "      <td>1</td>\n",
              "    </tr>\n",
              "    <tr>\n",
              "      <th>178</th>\n",
              "      <td>5</td>\n",
              "      <td>143</td>\n",
              "      <td>78</td>\n",
              "      <td>0</td>\n",
              "      <td>0</td>\n",
              "      <td>45.0</td>\n",
              "      <td>0.190</td>\n",
              "      <td>47</td>\n",
              "      <td>0</td>\n",
              "    </tr>\n",
              "    <tr>\n",
              "      <th>599</th>\n",
              "      <td>1</td>\n",
              "      <td>109</td>\n",
              "      <td>38</td>\n",
              "      <td>18</td>\n",
              "      <td>120</td>\n",
              "      <td>23.1</td>\n",
              "      <td>0.407</td>\n",
              "      <td>26</td>\n",
              "      <td>0</td>\n",
              "    </tr>\n",
              "    <tr>\n",
              "      <th>350</th>\n",
              "      <td>4</td>\n",
              "      <td>92</td>\n",
              "      <td>80</td>\n",
              "      <td>0</td>\n",
              "      <td>0</td>\n",
              "      <td>42.2</td>\n",
              "      <td>0.237</td>\n",
              "      <td>29</td>\n",
              "      <td>0</td>\n",
              "    </tr>\n",
              "    <tr>\n",
              "      <th>733</th>\n",
              "      <td>2</td>\n",
              "      <td>106</td>\n",
              "      <td>56</td>\n",
              "      <td>27</td>\n",
              "      <td>165</td>\n",
              "      <td>29.0</td>\n",
              "      <td>0.426</td>\n",
              "      <td>22</td>\n",
              "      <td>0</td>\n",
              "    </tr>\n",
              "  </tbody>\n",
              "</table>\n",
              "</div>"
            ],
            "text/plain": [
              "     Pregnancies  Glucose  ...  Age  Outcome\n",
              "706           10      115  ...   30        1\n",
              "178            5      143  ...   47        0\n",
              "599            1      109  ...   26        0\n",
              "350            4       92  ...   29        0\n",
              "733            2      106  ...   22        0\n",
              "\n",
              "[5 rows x 9 columns]"
            ]
          },
          "metadata": {
            "tags": []
          },
          "execution_count": 55
        }
      ]
    },
    {
      "cell_type": "code",
      "metadata": {
        "id": "m8_ZypMs5PhQ",
        "colab_type": "code",
        "outputId": "d1809559-bfee-46c1-905b-f49215ffb323",
        "colab": {
          "base_uri": "https://localhost:8080/",
          "height": 300
        }
      },
      "source": [
        "df.describe()"
      ],
      "execution_count": 56,
      "outputs": [
        {
          "output_type": "execute_result",
          "data": {
            "text/html": [
              "<div>\n",
              "<style scoped>\n",
              "    .dataframe tbody tr th:only-of-type {\n",
              "        vertical-align: middle;\n",
              "    }\n",
              "\n",
              "    .dataframe tbody tr th {\n",
              "        vertical-align: top;\n",
              "    }\n",
              "\n",
              "    .dataframe thead th {\n",
              "        text-align: right;\n",
              "    }\n",
              "</style>\n",
              "<table border=\"1\" class=\"dataframe\">\n",
              "  <thead>\n",
              "    <tr style=\"text-align: right;\">\n",
              "      <th></th>\n",
              "      <th>Pregnancies</th>\n",
              "      <th>Glucose</th>\n",
              "      <th>BloodPressure</th>\n",
              "      <th>SkinThickness</th>\n",
              "      <th>Insulin</th>\n",
              "      <th>BMI</th>\n",
              "      <th>DiabetesPedigreeFunction</th>\n",
              "      <th>Age</th>\n",
              "      <th>Outcome</th>\n",
              "    </tr>\n",
              "  </thead>\n",
              "  <tbody>\n",
              "    <tr>\n",
              "      <th>count</th>\n",
              "      <td>768.000000</td>\n",
              "      <td>768.000000</td>\n",
              "      <td>768.000000</td>\n",
              "      <td>768.000000</td>\n",
              "      <td>768.000000</td>\n",
              "      <td>768.000000</td>\n",
              "      <td>768.000000</td>\n",
              "      <td>768.000000</td>\n",
              "      <td>768.000000</td>\n",
              "    </tr>\n",
              "    <tr>\n",
              "      <th>mean</th>\n",
              "      <td>3.845052</td>\n",
              "      <td>120.894531</td>\n",
              "      <td>69.105469</td>\n",
              "      <td>20.536458</td>\n",
              "      <td>79.799479</td>\n",
              "      <td>31.992578</td>\n",
              "      <td>0.471876</td>\n",
              "      <td>33.240885</td>\n",
              "      <td>0.348958</td>\n",
              "    </tr>\n",
              "    <tr>\n",
              "      <th>std</th>\n",
              "      <td>3.369578</td>\n",
              "      <td>31.972618</td>\n",
              "      <td>19.355807</td>\n",
              "      <td>15.952218</td>\n",
              "      <td>115.244002</td>\n",
              "      <td>7.884160</td>\n",
              "      <td>0.331329</td>\n",
              "      <td>11.760232</td>\n",
              "      <td>0.476951</td>\n",
              "    </tr>\n",
              "    <tr>\n",
              "      <th>min</th>\n",
              "      <td>0.000000</td>\n",
              "      <td>0.000000</td>\n",
              "      <td>0.000000</td>\n",
              "      <td>0.000000</td>\n",
              "      <td>0.000000</td>\n",
              "      <td>0.000000</td>\n",
              "      <td>0.078000</td>\n",
              "      <td>21.000000</td>\n",
              "      <td>0.000000</td>\n",
              "    </tr>\n",
              "    <tr>\n",
              "      <th>25%</th>\n",
              "      <td>1.000000</td>\n",
              "      <td>99.000000</td>\n",
              "      <td>62.000000</td>\n",
              "      <td>0.000000</td>\n",
              "      <td>0.000000</td>\n",
              "      <td>27.300000</td>\n",
              "      <td>0.243750</td>\n",
              "      <td>24.000000</td>\n",
              "      <td>0.000000</td>\n",
              "    </tr>\n",
              "    <tr>\n",
              "      <th>50%</th>\n",
              "      <td>3.000000</td>\n",
              "      <td>117.000000</td>\n",
              "      <td>72.000000</td>\n",
              "      <td>23.000000</td>\n",
              "      <td>30.500000</td>\n",
              "      <td>32.000000</td>\n",
              "      <td>0.372500</td>\n",
              "      <td>29.000000</td>\n",
              "      <td>0.000000</td>\n",
              "    </tr>\n",
              "    <tr>\n",
              "      <th>75%</th>\n",
              "      <td>6.000000</td>\n",
              "      <td>140.250000</td>\n",
              "      <td>80.000000</td>\n",
              "      <td>32.000000</td>\n",
              "      <td>127.250000</td>\n",
              "      <td>36.600000</td>\n",
              "      <td>0.626250</td>\n",
              "      <td>41.000000</td>\n",
              "      <td>1.000000</td>\n",
              "    </tr>\n",
              "    <tr>\n",
              "      <th>max</th>\n",
              "      <td>17.000000</td>\n",
              "      <td>199.000000</td>\n",
              "      <td>122.000000</td>\n",
              "      <td>99.000000</td>\n",
              "      <td>846.000000</td>\n",
              "      <td>67.100000</td>\n",
              "      <td>2.420000</td>\n",
              "      <td>81.000000</td>\n",
              "      <td>1.000000</td>\n",
              "    </tr>\n",
              "  </tbody>\n",
              "</table>\n",
              "</div>"
            ],
            "text/plain": [
              "       Pregnancies     Glucose  ...         Age     Outcome\n",
              "count   768.000000  768.000000  ...  768.000000  768.000000\n",
              "mean      3.845052  120.894531  ...   33.240885    0.348958\n",
              "std       3.369578   31.972618  ...   11.760232    0.476951\n",
              "min       0.000000    0.000000  ...   21.000000    0.000000\n",
              "25%       1.000000   99.000000  ...   24.000000    0.000000\n",
              "50%       3.000000  117.000000  ...   29.000000    0.000000\n",
              "75%       6.000000  140.250000  ...   41.000000    1.000000\n",
              "max      17.000000  199.000000  ...   81.000000    1.000000\n",
              "\n",
              "[8 rows x 9 columns]"
            ]
          },
          "metadata": {
            "tags": []
          },
          "execution_count": 56
        }
      ]
    },
    {
      "cell_type": "code",
      "metadata": {
        "id": "bngyMjgEjhoa",
        "colab_type": "code",
        "outputId": "abb89d9e-0c08-4888-863d-d4e65232f860",
        "colab": {
          "base_uri": "https://localhost:8080/",
          "height": 287
        }
      },
      "source": [
        "# View data distributions & detect outliers\n",
        "sns.set()\n",
        "sns.boxplot(data=df, orient='h')"
      ],
      "execution_count": 57,
      "outputs": [
        {
          "output_type": "execute_result",
          "data": {
            "text/plain": [
              "<matplotlib.axes._subplots.AxesSubplot at 0x7fcad31ed550>"
            ]
          },
          "metadata": {
            "tags": []
          },
          "execution_count": 57
        },
        {
          "output_type": "display_data",
          "data": {
            "image/png": "[encoded data removed]",
            "text/plain": [
              "<Figure size 432x288 with 1 Axes>"
            ]
          },
          "metadata": {
            "tags": []
          }
        }
      ]
    },
    {
      "cell_type": "markdown",
      "metadata": {
        "id": "Jkv8weRMQeWV",
        "colab_type": "text"
      },
      "source": [
        "Impute Missing Values"
      ]
    },
    {
      "cell_type": "code",
      "metadata": {
        "id": "JI-UKRkdQc_Y",
        "colab_type": "code",
        "outputId": "e3ea7aff-4f4b-4cf2-a21d-58247bf2a5c6",
        "colab": {
          "base_uri": "https://localhost:8080/",
          "height": 301
        }
      },
      "source": [
        "# Missing values interpreted as 0\n",
        "# 0 values in 'Pregnancy' is not a missing value, it means that the woman is never pregnant\n",
        "# Convert to categorical value 1, 0\n",
        "df.Pregnancies = df.Pregnancies.astype(bool).astype(int)\n",
        "\n",
        "# Convert zeros to NaN, count NaNs each columns and the percentages\n",
        "rows = []\n",
        "column = ['Glucose','BloodPressure','SkinThickness','Insulin','BMI','DiabetesPedigreeFunction', 'Age']\n",
        "for col in column:\n",
        "    df[col] = df[col].replace(0,np.NaN)\n",
        "    nans = df[col].isna().sum()\n",
        "    percentage = ((nans / len(df)) * 100).round(2)\n",
        "    rows.append([col, nans, percentage])\n",
        "mv = pd.DataFrame(rows, columns=['column','nans','percentage'])\n",
        "\n",
        "sns.set()\n",
        "mv_p = sns.barplot(x='percentage', y='column', data=mv).set_title('Missing Values Percentages')"
      ],
      "execution_count": 58,
      "outputs": [
        {
          "output_type": "display_data",
          "data": {
            "image/png": "[encoded data removed]",
            "text/plain": [
              "<Figure size 432x288 with 1 Axes>"
            ]
          },
          "metadata": {
            "tags": []
          }
        }
      ]
    },
    {
      "cell_type": "code",
      "metadata": {
        "id": "MlvXNsvzk9js",
        "colab_type": "code",
        "outputId": "8cedbb5c-fb44-41e6-ae3a-c5429f2b5307",
        "colab": {
          "base_uri": "https://localhost:8080/",
          "height": 36
        }
      },
      "source": [
        "# Impute NaNs with median / mean\n",
        "def fillna_median (col, df):\n",
        "    df[col].fillna(df[col].median(), inplace = True)\n",
        "    \n",
        "def fillna_mean (col, df):\n",
        "    df[col].fillna(df[col].mean(), inplace = True)\n",
        "\n",
        "# Impute columns with outliers by median\n",
        "fillna_median ('BloodPressure', df)\n",
        "fillna_median ('SkinThickness', df)\n",
        "fillna_median ('Insulin', df)\n",
        "fillna_median ('BMI', df)\n",
        "\n",
        "# Impute columns without outliers by mean\n",
        "fillna_mean('Glucose', df)\n",
        "\n",
        "df.isnull().values.any()"
      ],
      "execution_count": 60,
      "outputs": [
        {
          "output_type": "execute_result",
          "data": {
            "text/plain": [
              "False"
            ]
          },
          "metadata": {
            "tags": []
          },
          "execution_count": 60
        }
      ]
    },
    {
      "cell_type": "markdown",
      "metadata": {
        "id": "dtsUidUOSe6i",
        "colab_type": "text"
      },
      "source": [
        "Clipping Outliers using Quantile-based Flooring and Capping"
      ]
    },
    {
      "cell_type": "code",
      "metadata": {
        "id": "iZ4RUvwrSiJh",
        "colab_type": "code",
        "colab": {
          "base_uri": "https://localhost:8080/",
          "height": 73
        },
        "outputId": "f8d61152-5bb2-402c-aa14-39af5d25f0e9"
      },
      "source": [
        "# Calculating Skewness\n",
        "print(df['Insulin'].skew())\n",
        "print(df['Insulin'].quantile(0.90)) #huge skew level, proceed to cap. lowered from 3.3 to 0.14\n",
        "df['Insulin'] = np.where(df['Insulin'] >210.0, 210.0,df['Insulin'])\n",
        "\n",
        "print(df['SkinThickness'].quantile(0.90)) #wide gap from 75th percentile to the max value, proceed to cap\n",
        "df['Insulin'] = np.where(df['Insulin'] >40.0, 40.0,df['Insulin'])\n"
      ],
      "execution_count": 91,
      "outputs": [
        {
          "output_type": "stream",
          "text": [
            "0.14910974212448497\n",
            "210.0\n",
            "40.0\n"
          ],
          "name": "stdout"
        }
      ]
    },
    {
      "cell_type": "markdown",
      "metadata": {
        "id": "S8ochja55XnV",
        "colab_type": "text"
      },
      "source": [
        "Create Correlation Matrix to Know Correlating Features"
      ]
    },
    {
      "cell_type": "code",
      "metadata": {
        "id": "Xy7c58ay5VDN",
        "colab_type": "code",
        "outputId": "818cdd1a-a094-4ce0-cf1a-5e689d7993f9",
        "colab": {
          "base_uri": "https://localhost:8080/",
          "height": 675
        }
      },
      "source": [
        "corr = df.corr()\n",
        "# Generate a mask for the upper triangle\n",
        "mask = np.triu(np.ones_like(corr, dtype=np.bool))\n",
        "\n",
        "# Set up the matplotlib figure\n",
        "f, ax = plt.subplots(figsize=(11, 9))\n",
        "\n",
        "# Generate a custom diverging colormap\n",
        "cmap = sns.diverging_palette(220, 10, as_cmap=True)\n",
        "\n",
        "# Draw the heatmap with the mask and correct aspect ratio\n",
        "sns.heatmap(corr, mask=mask, cmap=cmap, vmax=.3, center=0,\n",
        "            square=True, linewidths=.5, cbar_kws={\"shrink\": .5})"
      ],
      "execution_count": 0,
      "outputs": [
        {
          "output_type": "execute_result",
          "data": {
            "text/plain": [
              "<matplotlib.axes._subplots.AxesSubplot at 0x7fbf379e4198>"
            ]
          },
          "metadata": {
            "tags": []
          },
          "execution_count": 8
        },
        {
          "output_type": "display_data",
          "data": {
            "image/png": "[encoded data removed]",
            "text/plain": [
              "<Figure size 792x648 with 2 Axes>"
            ]
          },
          "metadata": {
            "tags": []
          }
        }
      ]
    },
    {
      "cell_type": "markdown",
      "metadata": {
        "id": "zztjiKDH5-ao",
        "colab_type": "text"
      },
      "source": [
        "Split dataset into train and test set"
      ]
    },
    {
      "cell_type": "code",
      "metadata": {
        "id": "xERqTKNN5eK3",
        "colab_type": "code",
        "colab": {}
      },
      "source": [
        "X = df\n",
        "y = df['Outcome']\n",
        "\n",
        "X_train, X_test, y_train, y_test = train_test_split(X, y, test_size=0.1, random_state=42, shuffle = True)"
      ],
      "execution_count": 0,
      "outputs": []
    },
    {
      "cell_type": "code",
      "metadata": {
        "id": "iViwILvI6iVo",
        "colab_type": "code",
        "outputId": "be1c76b4-8abe-4a88-c075-7a3435a6d807",
        "colab": {
          "base_uri": "https://localhost:8080/",
          "height": 153
        }
      },
      "source": [
        "# Create an empty list that will eventually hold all created feature columns.\n",
        "dataset_columns = X.columns\n",
        "feature_columns = []\n",
        "\n",
        "# Create numerical feature columns to represent all columns in X\n",
        "for col in ['Glucose', 'BMI', 'Age', 'Pregnancies']: #Excluding outcome value, since outcome is still included in dataset\n",
        "    col_tf = tf.feature_column.numeric_column(col)\n",
        "    feature_columns.append(col_tf)\n",
        "\n",
        "# Convert the list of feature columns into a layer that will later be fed into\n",
        "# the model. \n",
        "feature_layer = layers.DenseFeatures(feature_columns)\n",
        "\n",
        "# Print the first 3 and last 3 rows of the feature_layer's output when applied\n",
        "# to train_df_norm:\n",
        "feature_layer(dict(X_train))"
      ],
      "execution_count": 0,
      "outputs": [
        {
          "output_type": "execute_result",
          "data": {
            "text/plain": [
              "<tf.Tensor: shape=(691, 4), dtype=float32, numpy=\n",
              "array([[ 39. ,  24.7,  96. ,   3. ],\n",
              "       [ 22. ,  30.8, 117. ,   0. ],\n",
              "       [ 30. ,  37.6, 110. ,   4. ],\n",
              "       ...,\n",
              "       [ 38. ,  45.6, 101. ,  10. ],\n",
              "       [ 29. ,  42.4, 141. ,   0. ],\n",
              "       [ 21. ,  22.5, 125. ,   0. ]], dtype=float32)>"
            ]
          },
          "metadata": {
            "tags": []
          },
          "execution_count": 17
        }
      ]
    },
    {
      "cell_type": "code",
      "metadata": {
        "id": "GcQYLoEb7n96",
        "colab_type": "code",
        "outputId": "c01553d3-4514-4bd1-e5e2-8e51a7d529f1",
        "colab": {
          "base_uri": "https://localhost:8080/",
          "height": 34
        }
      },
      "source": [
        "def create_model(my_learning_rate, feature_layer, my_metrics):\n",
        "  \"\"\"Create and compile a simple classification model.\"\"\"\n",
        "  # Most simple tf.keras models are sequential.\n",
        "  model = tf.keras.models.Sequential()\n",
        "\n",
        "  # Add the feature layer (the list of features and how they are represented)\n",
        "  # to the model.\n",
        "  model.add(feature_layer)\n",
        "\n",
        "  # Funnel the regression value through a sigmoid function.\n",
        "  model.add(tf.keras.layers.Dense(units=1, input_shape=(1,),\n",
        "                                  activation=tf.sigmoid),)\n",
        "\n",
        "  # Call the compile method to construct the layers into a model that\n",
        "  # TensorFlow can execute.  Notice that we're using a different loss\n",
        "  # function for classification than for regression.    \n",
        "  model.compile(optimizer=tf.keras.optimizers.RMSprop(lr=my_learning_rate),                                                   \n",
        "                loss=tf.keras.losses.BinaryCrossentropy(),\n",
        "                metrics=my_metrics)\n",
        "\n",
        "  return model        \n",
        "\n",
        "\n",
        "def train_model(model, dataset, epochs, label_name,\n",
        "                batch_size=None, shuffle=True):\n",
        "  \"\"\"Feed a dataset into the model in order to train it.\"\"\"\n",
        "\n",
        "  # The x parameter of tf.keras.Model.fit can be a list of arrays, where\n",
        "  # each array contains the data for one feature.  Here, we're passing\n",
        "  # every column in the dataset. Note that the feature_layer will filter\n",
        "  # away most of those columns, leaving only the desired columns and their\n",
        "  # representations as features.\n",
        "  features = {name:np.array(value) for name, value in dataset.items()}\n",
        "  label = np.array(features.pop(label_name)) \n",
        "  history = model.fit(x=features, y=label, batch_size=batch_size,\n",
        "                      epochs=epochs, shuffle=shuffle)\n",
        "  \n",
        "  # The list of epochs is stored separately from the rest of history.\n",
        "  epochs = history.epoch\n",
        "\n",
        "  # Isolate the classification metric for each epoch.\n",
        "  hist = pd.DataFrame(history.history)\n",
        "\n",
        "  return epochs, hist  \n",
        "\n",
        "print(\"Defined the create_model and train_model functions.\")  "
      ],
      "execution_count": 0,
      "outputs": [
        {
          "output_type": "stream",
          "text": [
            "Defined the create_model and train_model functions.\n"
          ],
          "name": "stdout"
        }
      ]
    },
    {
      "cell_type": "code",
      "metadata": {
        "id": "Sw1s6lvE8P1b",
        "colab_type": "code",
        "outputId": "e0dd6a58-6271-4cb7-f10a-1a2e64926131",
        "colab": {
          "base_uri": "https://localhost:8080/",
          "height": 34
        }
      },
      "source": [
        "#@title Define the plotting function.\n",
        "def plot_curve(epochs, hist, list_of_metrics):\n",
        "  \"\"\"Plot a curve of one or more classification metrics vs. epoch.\"\"\"  \n",
        "  # list_of_metrics should be one of the names shown in:\n",
        "  # https://www.tensorflow.org/tutorials/structured_data/imbalanced_data#define_the_model_and_metrics  \n",
        "\n",
        "  plt.figure()\n",
        "  plt.xlabel(\"Epoch\")\n",
        "  plt.ylabel(\"Value\")\n",
        "\n",
        "  for m in list_of_metrics:\n",
        "    x = hist[m]\n",
        "    plt.plot(epochs[1:], x[1:], label=m)\n",
        "\n",
        "  plt.legend()\n",
        "\n",
        "print(\"Defined the plot_curve function.\")"
      ],
      "execution_count": 0,
      "outputs": [
        {
          "output_type": "stream",
          "text": [
            "Defined the plot_curve function.\n"
          ],
          "name": "stdout"
        }
      ]
    },
    {
      "cell_type": "code",
      "metadata": {
        "id": "qpS9Aq1t8TAR",
        "colab_type": "code",
        "outputId": "4f2342e7-bd73-4edf-b42f-93a883d636ca",
        "colab": {
          "base_uri": "https://localhost:8080/",
          "height": 1000
        }
      },
      "source": [
        "# The following variables are the hyperparameters.\n",
        "learning_rate = 1\n",
        "epochs = 300\n",
        "batch_size = 10\n",
        "label_name = \"Outcome\"\n",
        "classification_threshold = 0.5\n",
        "\n",
        "# Establish the metrics the model will measure.\n",
        "METRICS = [\n",
        "           tf.keras.metrics.BinaryAccuracy(name='accuracy', \n",
        "                                           threshold=classification_threshold),\n",
        "           tf.keras.metrics.Precision(thresholds=classification_threshold,\n",
        "                                 name='precision' \n",
        "                                 ),\n",
        "           tf.keras.metrics.Recall(thresholds=classification_threshold,\n",
        "                                 name='recall' \n",
        "                                 ),\n",
        "          ]\n",
        "\n",
        "# Establish the model's topography.\n",
        "my_model = create_model(learning_rate, feature_layer, METRICS)\n",
        "\n",
        "# Train the model on the training set.\n",
        "epochs, hist = train_model(my_model, X_train, epochs, \n",
        "                           label_name, batch_size)\n",
        "\n",
        "# Plot a graph of the metric(s) vs. epochs.\n",
        "list_of_metrics_to_plot = ['accuracy', 'precision', 'recall'] \n",
        "\n",
        "plot_curve(epochs, hist, list_of_metrics_to_plot)"
      ],
      "execution_count": 0,
      "outputs": [
        {
          "output_type": "stream",
          "text": [
            "Epoch 1/300\n",
            "70/70 [==============================] - 0s 1ms/step - loss: 50.0945 - accuracy: 0.5528 - precision: 0.3741 - recall: 0.4191\n",
            "Epoch 2/300\n",
            "70/70 [==============================] - 0s 1ms/step - loss: 39.6591 - accuracy: 0.5774 - precision: 0.4073 - recall: 0.4647\n",
            "Epoch 3/300\n",
            "70/70 [==============================] - 0s 1ms/step - loss: 43.4205 - accuracy: 0.5528 - precision: 0.3731 - recall: 0.4149\n",
            "Epoch 4/300\n",
            "70/70 [==============================] - 0s 1ms/step - loss: 40.0820 - accuracy: 0.5615 - precision: 0.3817 - recall: 0.4149\n",
            "Epoch 5/300\n",
            "70/70 [==============================] - 0s 1ms/step - loss: 44.4054 - accuracy: 0.5543 - precision: 0.3736 - recall: 0.4108\n",
            "Epoch 6/300\n",
            "70/70 [==============================] - 0s 1ms/step - loss: 45.2600 - accuracy: 0.5398 - precision: 0.3536 - recall: 0.3859\n",
            "Epoch 7/300\n",
            "70/70 [==============================] - 0s 1ms/step - loss: 40.9631 - accuracy: 0.5673 - precision: 0.3926 - recall: 0.4398\n",
            "Epoch 8/300\n",
            "70/70 [==============================] - 0s 1ms/step - loss: 41.7363 - accuracy: 0.5716 - precision: 0.3962 - recall: 0.4357\n",
            "Epoch 9/300\n",
            "70/70 [==============================] - 0s 1ms/step - loss: 38.0723 - accuracy: 0.5760 - precision: 0.4058 - recall: 0.4647\n",
            "Epoch 10/300\n",
            "70/70 [==============================] - 0s 1ms/step - loss: 39.4636 - accuracy: 0.5716 - precision: 0.3954 - recall: 0.4315\n",
            "Epoch 11/300\n",
            "70/70 [==============================] - 0s 1ms/step - loss: 39.4274 - accuracy: 0.5760 - precision: 0.4044 - recall: 0.4564\n",
            "Epoch 12/300\n",
            "70/70 [==============================] - 0s 1ms/step - loss: 36.0726 - accuracy: 0.5977 - precision: 0.4302 - recall: 0.4730\n",
            "Epoch 13/300\n",
            "70/70 [==============================] - 0s 1ms/step - loss: 44.1147 - accuracy: 0.5326 - precision: 0.3481 - recall: 0.3900\n",
            "Epoch 14/300\n",
            "70/70 [==============================] - 0s 1ms/step - loss: 39.2053 - accuracy: 0.5731 - precision: 0.4000 - recall: 0.4481\n",
            "Epoch 15/300\n",
            "70/70 [==============================] - 0s 1ms/step - loss: 36.6953 - accuracy: 0.5948 - precision: 0.4264 - recall: 0.4689\n",
            "Epoch 16/300\n",
            "70/70 [==============================] - 0s 1ms/step - loss: 40.0737 - accuracy: 0.5658 - precision: 0.3950 - recall: 0.4606\n",
            "Epoch 17/300\n",
            "70/70 [==============================] - 0s 1ms/step - loss: 42.6737 - accuracy: 0.5644 - precision: 0.3881 - recall: 0.4315\n",
            "Epoch 18/300\n",
            "70/70 [==============================] - 0s 1ms/step - loss: 40.4114 - accuracy: 0.5890 - precision: 0.4150 - recall: 0.4357\n",
            "Epoch 19/300\n",
            "70/70 [==============================] - 0s 1ms/step - loss: 40.3971 - accuracy: 0.5470 - precision: 0.3657 - recall: 0.4066\n",
            "Epoch 20/300\n",
            "70/70 [==============================] - 0s 1ms/step - loss: 37.5198 - accuracy: 0.5904 - precision: 0.4205 - recall: 0.4606\n",
            "Epoch 21/300\n",
            "70/70 [==============================] - 0s 1ms/step - loss: 38.9020 - accuracy: 0.5876 - precision: 0.4209 - recall: 0.4855\n",
            "Epoch 22/300\n",
            "70/70 [==============================] - 0s 1ms/step - loss: 37.2397 - accuracy: 0.5861 - precision: 0.4131 - recall: 0.4440\n",
            "Epoch 23/300\n",
            "70/70 [==============================] - 0s 1ms/step - loss: 36.9685 - accuracy: 0.5991 - precision: 0.4323 - recall: 0.4772\n",
            "Epoch 24/300\n",
            "70/70 [==============================] - 0s 1ms/step - loss: 36.4598 - accuracy: 0.6122 - precision: 0.4483 - recall: 0.4855\n",
            "Epoch 25/300\n",
            "70/70 [==============================] - 0s 1ms/step - loss: 35.6696 - accuracy: 0.6078 - precision: 0.4444 - recall: 0.4979\n",
            "Epoch 26/300\n",
            "70/70 [==============================] - 0s 1ms/step - loss: 38.5355 - accuracy: 0.5803 - precision: 0.4061 - recall: 0.4398\n",
            "Epoch 27/300\n",
            "70/70 [==============================] - 0s 1ms/step - loss: 38.7141 - accuracy: 0.5789 - precision: 0.4088 - recall: 0.4647\n",
            "Epoch 28/300\n",
            "70/70 [==============================] - 0s 1ms/step - loss: 37.2660 - accuracy: 0.6078 - precision: 0.4440 - recall: 0.4938\n",
            "Epoch 29/300\n",
            "70/70 [==============================] - 0s 1ms/step - loss: 35.8690 - accuracy: 0.6064 - precision: 0.4406 - recall: 0.4772\n",
            "Epoch 30/300\n",
            "70/70 [==============================] - 0s 1ms/step - loss: 34.9463 - accuracy: 0.6266 - precision: 0.4669 - recall: 0.4979\n",
            "Epoch 31/300\n",
            "70/70 [==============================] - 0s 1ms/step - loss: 39.2033 - accuracy: 0.5890 - precision: 0.4176 - recall: 0.4523\n",
            "Epoch 32/300\n",
            "70/70 [==============================] - 0s 1ms/step - loss: 34.7987 - accuracy: 0.6093 - precision: 0.4444 - recall: 0.4813\n",
            "Epoch 33/300\n",
            "70/70 [==============================] - 0s 1ms/step - loss: 38.3395 - accuracy: 0.5731 - precision: 0.3977 - recall: 0.4357\n",
            "Epoch 34/300\n",
            "70/70 [==============================] - 0s 1ms/step - loss: 36.3446 - accuracy: 0.6122 - precision: 0.4471 - recall: 0.4730\n",
            "Epoch 35/300\n",
            "70/70 [==============================] - 0s 1ms/step - loss: 35.9816 - accuracy: 0.5904 - precision: 0.4228 - recall: 0.4772\n",
            "Epoch 36/300\n",
            "70/70 [==============================] - 0s 1ms/step - loss: 37.8429 - accuracy: 0.5774 - precision: 0.4000 - recall: 0.4232\n",
            "Epoch 37/300\n",
            "70/70 [==============================] - 0s 1ms/step - loss: 34.6511 - accuracy: 0.5818 - precision: 0.4077 - recall: 0.4398\n",
            "Epoch 38/300\n",
            "70/70 [==============================] - 0s 1ms/step - loss: 36.7245 - accuracy: 0.5890 - precision: 0.4189 - recall: 0.4606\n",
            "Epoch 39/300\n",
            "70/70 [==============================] - 0s 1ms/step - loss: 34.6604 - accuracy: 0.6107 - precision: 0.4462 - recall: 0.4813\n",
            "Epoch 40/300\n",
            "70/70 [==============================] - 0s 1ms/step - loss: 33.6046 - accuracy: 0.6208 - precision: 0.4591 - recall: 0.4896\n",
            "Epoch 41/300\n",
            "70/70 [==============================] - 0s 1ms/step - loss: 38.0081 - accuracy: 0.5731 - precision: 0.3977 - recall: 0.4357\n",
            "Epoch 42/300\n",
            "70/70 [==============================] - 0s 2ms/step - loss: 34.0297 - accuracy: 0.6064 - precision: 0.4415 - recall: 0.4855\n",
            "Epoch 43/300\n",
            "70/70 [==============================] - 0s 1ms/step - loss: 35.6251 - accuracy: 0.6107 - precision: 0.4453 - recall: 0.4730\n",
            "Epoch 44/300\n",
            "70/70 [==============================] - 0s 1ms/step - loss: 33.5380 - accuracy: 0.6093 - precision: 0.4461 - recall: 0.4979\n",
            "Epoch 45/300\n",
            "70/70 [==============================] - 0s 1ms/step - loss: 35.8958 - accuracy: 0.5933 - precision: 0.4237 - recall: 0.4606\n",
            "Epoch 46/300\n",
            "70/70 [==============================] - 0s 1ms/step - loss: 35.4185 - accuracy: 0.6223 - precision: 0.4603 - recall: 0.4813\n",
            "Epoch 47/300\n",
            "70/70 [==============================] - 0s 1ms/step - loss: 31.6375 - accuracy: 0.6382 - precision: 0.4822 - recall: 0.5062\n",
            "Epoch 48/300\n",
            "70/70 [==============================] - 0s 1ms/step - loss: 33.4698 - accuracy: 0.6266 - precision: 0.4667 - recall: 0.4938\n",
            "Epoch 49/300\n",
            "70/70 [==============================] - 0s 1ms/step - loss: 38.4095 - accuracy: 0.5977 - precision: 0.4286 - recall: 0.4606\n",
            "Epoch 50/300\n",
            "70/70 [==============================] - 0s 1ms/step - loss: 31.8082 - accuracy: 0.6382 - precision: 0.4821 - recall: 0.5021\n",
            "Epoch 51/300\n",
            "70/70 [==============================] - 0s 1ms/step - loss: 35.4229 - accuracy: 0.6208 - precision: 0.4591 - recall: 0.4896\n",
            "Epoch 52/300\n",
            "70/70 [==============================] - 0s 1ms/step - loss: 39.6083 - accuracy: 0.5919 - precision: 0.4221 - recall: 0.4606\n",
            "Epoch 53/300\n",
            "70/70 [==============================] - 0s 1ms/step - loss: 36.2292 - accuracy: 0.6049 - precision: 0.4360 - recall: 0.4523\n",
            "Epoch 54/300\n",
            "70/70 [==============================] - 0s 1ms/step - loss: 33.4398 - accuracy: 0.6107 - precision: 0.4453 - recall: 0.4730\n",
            "Epoch 55/300\n",
            "70/70 [==============================] - 0s 1ms/step - loss: 32.2947 - accuracy: 0.6208 - precision: 0.4578 - recall: 0.4730\n",
            "Epoch 56/300\n",
            "70/70 [==============================] - 0s 1ms/step - loss: 30.7264 - accuracy: 0.6498 - precision: 0.4981 - recall: 0.5353\n",
            "Epoch 57/300\n",
            "70/70 [==============================] - 0s 1ms/step - loss: 33.5499 - accuracy: 0.6194 - precision: 0.4580 - recall: 0.4979\n",
            "Epoch 58/300\n",
            "70/70 [==============================] - 0s 1ms/step - loss: 34.8194 - accuracy: 0.6035 - precision: 0.4363 - recall: 0.4689\n",
            "Epoch 59/300\n",
            "70/70 [==============================] - 0s 2ms/step - loss: 33.0890 - accuracy: 0.6078 - precision: 0.4432 - recall: 0.4855\n",
            "Epoch 60/300\n",
            "70/70 [==============================] - 0s 1ms/step - loss: 34.0382 - accuracy: 0.6208 - precision: 0.4571 - recall: 0.4647\n",
            "Epoch 61/300\n",
            "70/70 [==============================] - 0s 1ms/step - loss: 33.9720 - accuracy: 0.6237 - precision: 0.4625 - recall: 0.4855\n",
            "Epoch 62/300\n",
            "70/70 [==============================] - 0s 1ms/step - loss: 32.9970 - accuracy: 0.6136 - precision: 0.4492 - recall: 0.4772\n",
            "Epoch 63/300\n",
            "70/70 [==============================] - 0s 1ms/step - loss: 27.8848 - accuracy: 0.6802 - precision: 0.5397 - recall: 0.5643\n",
            "Epoch 64/300\n",
            "70/70 [==============================] - 0s 1ms/step - loss: 34.3662 - accuracy: 0.6151 - precision: 0.4514 - recall: 0.4813\n",
            "Epoch 65/300\n",
            "70/70 [==============================] - 0s 1ms/step - loss: 35.6023 - accuracy: 0.6179 - precision: 0.4534 - recall: 0.4647\n",
            "Epoch 66/300\n",
            "70/70 [==============================] - 0s 1ms/step - loss: 33.6437 - accuracy: 0.6208 - precision: 0.4591 - recall: 0.4896\n",
            "Epoch 67/300\n",
            "70/70 [==============================] - 0s 1ms/step - loss: 32.0541 - accuracy: 0.6657 - precision: 0.5202 - recall: 0.5353\n",
            "Epoch 68/300\n",
            "70/70 [==============================] - 0s 1ms/step - loss: 34.3910 - accuracy: 0.6353 - precision: 0.4792 - recall: 0.5270\n",
            "Epoch 69/300\n",
            "70/70 [==============================] - 0s 1ms/step - loss: 33.5231 - accuracy: 0.5991 - precision: 0.4308 - recall: 0.4647\n",
            "Epoch 70/300\n",
            "70/70 [==============================] - 0s 1ms/step - loss: 33.7217 - accuracy: 0.6136 - precision: 0.4480 - recall: 0.4647\n",
            "Epoch 71/300\n",
            "70/70 [==============================] - 0s 1ms/step - loss: 35.0362 - accuracy: 0.6136 - precision: 0.4496 - recall: 0.4813\n",
            "Epoch 72/300\n",
            "70/70 [==============================] - 0s 1ms/step - loss: 36.8718 - accuracy: 0.6122 - precision: 0.4462 - recall: 0.4647\n",
            "Epoch 73/300\n",
            "70/70 [==============================] - 0s 1ms/step - loss: 32.3117 - accuracy: 0.6179 - precision: 0.4549 - recall: 0.4813\n",
            "Epoch 74/300\n",
            "70/70 [==============================] - 0s 1ms/step - loss: 34.9887 - accuracy: 0.6266 - precision: 0.4659 - recall: 0.4813\n",
            "Epoch 75/300\n",
            "70/70 [==============================] - 0s 1ms/step - loss: 35.0588 - accuracy: 0.6281 - precision: 0.4683 - recall: 0.4896\n",
            "Epoch 76/300\n",
            "70/70 [==============================] - 0s 1ms/step - loss: 35.3510 - accuracy: 0.6411 - precision: 0.4856 - recall: 0.4896\n",
            "Epoch 77/300\n",
            "70/70 [==============================] - 0s 1ms/step - loss: 34.2613 - accuracy: 0.6208 - precision: 0.4588 - recall: 0.4855\n",
            "Epoch 78/300\n",
            "70/70 [==============================] - 0s 1ms/step - loss: 35.7509 - accuracy: 0.6078 - precision: 0.4395 - recall: 0.4523\n",
            "Epoch 79/300\n",
            "70/70 [==============================] - 0s 1ms/step - loss: 32.5257 - accuracy: 0.6382 - precision: 0.4819 - recall: 0.4979\n",
            "Epoch 80/300\n",
            "70/70 [==============================] - 0s 1ms/step - loss: 34.9693 - accuracy: 0.6093 - precision: 0.4440 - recall: 0.4772\n",
            "Epoch 81/300\n",
            "70/70 [==============================] - 0s 1ms/step - loss: 31.1654 - accuracy: 0.6614 - precision: 0.5137 - recall: 0.5436\n",
            "Epoch 82/300\n",
            "70/70 [==============================] - 0s 1ms/step - loss: 34.7662 - accuracy: 0.6454 - precision: 0.4921 - recall: 0.5187\n",
            "Epoch 83/300\n",
            "70/70 [==============================] - 0s 1ms/step - loss: 34.8221 - accuracy: 0.6281 - precision: 0.4688 - recall: 0.4979\n",
            "Epoch 84/300\n",
            "70/70 [==============================] - 0s 1ms/step - loss: 31.3357 - accuracy: 0.6527 - precision: 0.5020 - recall: 0.5228\n",
            "Epoch 85/300\n",
            "70/70 [==============================] - 0s 1ms/step - loss: 30.5497 - accuracy: 0.6541 - precision: 0.5040 - recall: 0.5228\n",
            "Epoch 86/300\n",
            "70/70 [==============================] - 0s 1ms/step - loss: 34.9417 - accuracy: 0.6339 - precision: 0.4764 - recall: 0.5021\n",
            "Epoch 87/300\n",
            "70/70 [==============================] - 0s 1ms/step - loss: 35.8546 - accuracy: 0.6208 - precision: 0.4601 - recall: 0.5021\n",
            "Epoch 88/300\n",
            "70/70 [==============================] - 0s 1ms/step - loss: 35.0758 - accuracy: 0.6324 - precision: 0.4755 - recall: 0.5228\n",
            "Epoch 89/300\n",
            "70/70 [==============================] - 0s 1ms/step - loss: 34.3338 - accuracy: 0.6483 - precision: 0.4959 - recall: 0.5062\n",
            "Epoch 90/300\n",
            "70/70 [==============================] - 0s 1ms/step - loss: 33.2509 - accuracy: 0.6527 - precision: 0.5020 - recall: 0.5228\n",
            "Epoch 91/300\n",
            "70/70 [==============================] - 0s 1ms/step - loss: 33.2772 - accuracy: 0.6729 - precision: 0.5316 - recall: 0.5228\n",
            "Epoch 92/300\n",
            "70/70 [==============================] - 0s 1ms/step - loss: 33.5471 - accuracy: 0.6266 - precision: 0.4679 - recall: 0.5145\n",
            "Epoch 93/300\n",
            "70/70 [==============================] - 0s 1ms/step - loss: 31.5147 - accuracy: 0.6368 - precision: 0.4811 - recall: 0.5270\n",
            "Epoch 94/300\n",
            "70/70 [==============================] - 0s 1ms/step - loss: 31.8955 - accuracy: 0.6382 - precision: 0.4825 - recall: 0.5145\n",
            "Epoch 95/300\n",
            "70/70 [==============================] - 0s 1ms/step - loss: 36.1923 - accuracy: 0.6136 - precision: 0.4500 - recall: 0.4855\n",
            "Epoch 96/300\n",
            "70/70 [==============================] - 0s 1ms/step - loss: 32.5649 - accuracy: 0.6310 - precision: 0.4729 - recall: 0.5062\n",
            "Epoch 97/300\n",
            "70/70 [==============================] - 0s 1ms/step - loss: 33.3241 - accuracy: 0.6179 - precision: 0.4545 - recall: 0.4772\n",
            "Epoch 98/300\n",
            "70/70 [==============================] - 0s 1ms/step - loss: 31.8556 - accuracy: 0.6411 - precision: 0.4859 - recall: 0.5021\n",
            "Epoch 99/300\n",
            "70/70 [==============================] - 0s 1ms/step - loss: 29.8722 - accuracy: 0.6946 - precision: 0.5605 - recall: 0.5768\n",
            "Epoch 100/300\n",
            "70/70 [==============================] - 0s 1ms/step - loss: 33.2712 - accuracy: 0.6454 - precision: 0.4923 - recall: 0.5311\n",
            "Epoch 101/300\n",
            "70/70 [==============================] - 0s 1ms/step - loss: 30.7403 - accuracy: 0.6454 - precision: 0.4919 - recall: 0.5062\n",
            "Epoch 102/300\n",
            "70/70 [==============================] - 0s 1ms/step - loss: 31.3972 - accuracy: 0.6310 - precision: 0.4722 - recall: 0.4938\n",
            "Epoch 103/300\n",
            "70/70 [==============================] - 0s 1ms/step - loss: 31.0671 - accuracy: 0.6310 - precision: 0.4722 - recall: 0.4938\n",
            "Epoch 104/300\n",
            "70/70 [==============================] - 0s 1ms/step - loss: 33.7414 - accuracy: 0.6252 - precision: 0.4634 - recall: 0.4730\n",
            "Epoch 105/300\n",
            "70/70 [==============================] - 0s 1ms/step - loss: 34.0303 - accuracy: 0.6237 - precision: 0.4630 - recall: 0.4938\n",
            "Epoch 106/300\n",
            "70/70 [==============================] - 0s 1ms/step - loss: 32.7779 - accuracy: 0.6527 - precision: 0.5021 - recall: 0.5021\n",
            "Epoch 107/300\n",
            "70/70 [==============================] - 0s 1ms/step - loss: 34.3514 - accuracy: 0.6570 - precision: 0.5081 - recall: 0.5228\n",
            "Epoch 108/300\n",
            "70/70 [==============================] - 0s 1ms/step - loss: 40.2072 - accuracy: 0.6628 - precision: 0.5174 - recall: 0.4938\n",
            "Epoch 109/300\n",
            "70/70 [==============================] - 0s 1ms/step - loss: 31.4476 - accuracy: 0.6454 - precision: 0.4919 - recall: 0.5021\n",
            "Epoch 110/300\n",
            "70/70 [==============================] - 0s 1ms/step - loss: 29.5372 - accuracy: 0.6787 - precision: 0.5388 - recall: 0.5477\n",
            "Epoch 111/300\n",
            "70/70 [==============================] - 0s 1ms/step - loss: 33.6746 - accuracy: 0.6498 - precision: 0.4980 - recall: 0.5187\n",
            "Epoch 112/300\n",
            "70/70 [==============================] - 0s 1ms/step - loss: 35.9459 - accuracy: 0.6397 - precision: 0.4837 - recall: 0.4938\n",
            "Epoch 113/300\n",
            "70/70 [==============================] - 0s 1ms/step - loss: 29.1729 - accuracy: 0.6787 - precision: 0.5382 - recall: 0.5560\n",
            "Epoch 114/300\n",
            "70/70 [==============================] - 0s 1ms/step - loss: 31.9291 - accuracy: 0.6454 - precision: 0.4919 - recall: 0.5062\n",
            "Epoch 115/300\n",
            "70/70 [==============================] - 0s 2ms/step - loss: 33.0988 - accuracy: 0.6425 - precision: 0.4881 - recall: 0.5104\n",
            "Epoch 116/300\n",
            "70/70 [==============================] - 0s 1ms/step - loss: 28.6808 - accuracy: 0.6715 - precision: 0.5285 - recall: 0.5394\n",
            "Epoch 117/300\n",
            "70/70 [==============================] - 0s 1ms/step - loss: 33.3430 - accuracy: 0.6570 - precision: 0.5083 - recall: 0.5104\n",
            "Epoch 118/300\n",
            "70/70 [==============================] - 0s 1ms/step - loss: 29.9045 - accuracy: 0.6773 - precision: 0.5357 - recall: 0.5602\n",
            "Epoch 119/300\n",
            "70/70 [==============================] - 0s 1ms/step - loss: 33.3181 - accuracy: 0.6397 - precision: 0.4841 - recall: 0.5062\n",
            "Epoch 120/300\n",
            "70/70 [==============================] - 0s 1ms/step - loss: 33.3948 - accuracy: 0.6194 - precision: 0.4556 - recall: 0.4689\n",
            "Epoch 121/300\n",
            "70/70 [==============================] - 0s 1ms/step - loss: 32.0620 - accuracy: 0.6744 - precision: 0.5325 - recall: 0.5436\n",
            "Epoch 122/300\n",
            "70/70 [==============================] - 0s 1ms/step - loss: 30.8891 - accuracy: 0.6599 - precision: 0.5117 - recall: 0.5436\n",
            "Epoch 123/300\n",
            "70/70 [==============================] - 0s 1ms/step - loss: 30.2425 - accuracy: 0.6628 - precision: 0.5159 - recall: 0.5394\n",
            "Epoch 124/300\n",
            "70/70 [==============================] - 0s 1ms/step - loss: 36.0781 - accuracy: 0.6107 - precision: 0.4440 - recall: 0.4606\n",
            "Epoch 125/300\n",
            "70/70 [==============================] - 0s 2ms/step - loss: 28.1448 - accuracy: 0.6585 - precision: 0.5100 - recall: 0.5311\n",
            "Epoch 126/300\n",
            "70/70 [==============================] - 0s 1ms/step - loss: 31.6004 - accuracy: 0.6657 - precision: 0.5200 - recall: 0.5394\n",
            "Epoch 127/300\n",
            "70/70 [==============================] - 0s 1ms/step - loss: 31.2411 - accuracy: 0.6498 - precision: 0.4980 - recall: 0.5228\n",
            "Epoch 128/300\n",
            "70/70 [==============================] - 0s 1ms/step - loss: 32.4073 - accuracy: 0.6469 - precision: 0.4941 - recall: 0.5228\n",
            "Epoch 129/300\n",
            "70/70 [==============================] - 0s 1ms/step - loss: 30.8357 - accuracy: 0.6614 - precision: 0.5141 - recall: 0.5311\n",
            "Epoch 130/300\n",
            "70/70 [==============================] - 0s 1ms/step - loss: 32.7443 - accuracy: 0.6469 - precision: 0.4940 - recall: 0.5104\n",
            "Epoch 131/300\n",
            "70/70 [==============================] - 0s 1ms/step - loss: 30.8206 - accuracy: 0.6556 - precision: 0.5062 - recall: 0.5062\n",
            "Epoch 132/300\n",
            "70/70 [==============================] - 0s 1ms/step - loss: 31.5111 - accuracy: 0.6787 - precision: 0.5391 - recall: 0.5436\n",
            "Epoch 133/300\n",
            "70/70 [==============================] - 0s 1ms/step - loss: 31.8364 - accuracy: 0.6628 - precision: 0.5160 - recall: 0.5353\n",
            "Epoch 134/300\n",
            "70/70 [==============================] - 0s 1ms/step - loss: 29.0202 - accuracy: 0.6585 - precision: 0.5099 - recall: 0.5353\n",
            "Epoch 135/300\n",
            "70/70 [==============================] - 0s 1ms/step - loss: 32.8092 - accuracy: 0.6570 - precision: 0.5081 - recall: 0.5187\n",
            "Epoch 136/300\n",
            "70/70 [==============================] - 0s 1ms/step - loss: 30.0004 - accuracy: 0.6802 - precision: 0.5403 - recall: 0.5560\n",
            "Epoch 137/300\n",
            "70/70 [==============================] - 0s 1ms/step - loss: 33.5013 - accuracy: 0.6324 - precision: 0.4737 - recall: 0.4855\n",
            "Epoch 138/300\n",
            "70/70 [==============================] - 0s 1ms/step - loss: 34.9336 - accuracy: 0.6643 - precision: 0.5187 - recall: 0.5187\n",
            "Epoch 139/300\n",
            "70/70 [==============================] - 0s 1ms/step - loss: 31.8731 - accuracy: 0.6643 - precision: 0.5178 - recall: 0.5436\n",
            "Epoch 140/300\n",
            "70/70 [==============================] - 0s 1ms/step - loss: 34.8548 - accuracy: 0.6512 - precision: 0.5000 - recall: 0.5145\n",
            "Epoch 141/300\n",
            "70/70 [==============================] - 0s 1ms/step - loss: 31.1570 - accuracy: 0.6541 - precision: 0.5039 - recall: 0.5394\n",
            "Epoch 142/300\n",
            "70/70 [==============================] - 0s 1ms/step - loss: 32.5279 - accuracy: 0.6281 - precision: 0.4685 - recall: 0.4938\n",
            "Epoch 143/300\n",
            "70/70 [==============================] - 0s 1ms/step - loss: 29.5953 - accuracy: 0.6671 - precision: 0.5226 - recall: 0.5270\n",
            "Epoch 144/300\n",
            "70/70 [==============================] - 0s 1ms/step - loss: 35.3308 - accuracy: 0.6324 - precision: 0.4739 - recall: 0.4896\n",
            "Epoch 145/300\n",
            "70/70 [==============================] - 0s 1ms/step - loss: 30.5521 - accuracy: 0.6556 - precision: 0.5060 - recall: 0.5228\n",
            "Epoch 146/300\n",
            "70/70 [==============================] - 0s 1ms/step - loss: 31.1192 - accuracy: 0.6585 - precision: 0.5100 - recall: 0.5311\n",
            "Epoch 147/300\n",
            "70/70 [==============================] - 0s 2ms/step - loss: 35.6595 - accuracy: 0.6556 - precision: 0.5062 - recall: 0.5062\n",
            "Epoch 148/300\n",
            "70/70 [==============================] - 0s 1ms/step - loss: 33.9266 - accuracy: 0.6483 - precision: 0.4959 - recall: 0.4979\n",
            "Epoch 149/300\n",
            "70/70 [==============================] - 0s 2ms/step - loss: 32.0867 - accuracy: 0.6556 - precision: 0.5058 - recall: 0.5436\n",
            "Epoch 150/300\n",
            "70/70 [==============================] - 0s 1ms/step - loss: 30.2774 - accuracy: 0.6512 - precision: 0.5000 - recall: 0.5187\n",
            "Epoch 151/300\n",
            "70/70 [==============================] - 0s 1ms/step - loss: 34.1474 - accuracy: 0.6585 - precision: 0.5100 - recall: 0.5270\n",
            "Epoch 152/300\n",
            "70/70 [==============================] - 0s 1ms/step - loss: 31.6858 - accuracy: 0.6324 - precision: 0.4741 - recall: 0.4938\n",
            "Epoch 153/300\n",
            "70/70 [==============================] - 0s 1ms/step - loss: 33.1849 - accuracy: 0.6686 - precision: 0.5238 - recall: 0.5477\n",
            "Epoch 154/300\n",
            "70/70 [==============================] - 0s 1ms/step - loss: 31.4598 - accuracy: 0.6715 - precision: 0.5285 - recall: 0.5394\n",
            "Epoch 155/300\n",
            "70/70 [==============================] - 0s 1ms/step - loss: 33.3844 - accuracy: 0.6527 - precision: 0.5020 - recall: 0.5104\n",
            "Epoch 156/300\n",
            "70/70 [==============================] - 0s 1ms/step - loss: 33.2313 - accuracy: 0.6310 - precision: 0.4720 - recall: 0.4896\n",
            "Epoch 157/300\n",
            "70/70 [==============================] - 0s 1ms/step - loss: 31.0538 - accuracy: 0.6773 - precision: 0.5363 - recall: 0.5519\n",
            "Epoch 158/300\n",
            "70/70 [==============================] - 0s 1ms/step - loss: 34.5252 - accuracy: 0.6411 - precision: 0.4867 - recall: 0.5311\n",
            "Epoch 159/300\n",
            "70/70 [==============================] - 0s 1ms/step - loss: 29.3635 - accuracy: 0.6570 - precision: 0.5080 - recall: 0.5270\n",
            "Epoch 160/300\n",
            "70/70 [==============================] - 0s 1ms/step - loss: 29.7642 - accuracy: 0.6889 - precision: 0.5551 - recall: 0.5436\n",
            "Epoch 161/300\n",
            "70/70 [==============================] - 0s 1ms/step - loss: 32.7891 - accuracy: 0.6700 - precision: 0.5261 - recall: 0.5436\n",
            "Epoch 162/300\n",
            "70/70 [==============================] - 0s 1ms/step - loss: 32.3013 - accuracy: 0.6585 - precision: 0.5100 - recall: 0.5270\n",
            "Epoch 163/300\n",
            "70/70 [==============================] - 0s 1ms/step - loss: 27.6504 - accuracy: 0.6657 - precision: 0.5203 - recall: 0.5311\n",
            "Epoch 164/300\n",
            "70/70 [==============================] - 0s 1ms/step - loss: 31.2721 - accuracy: 0.6758 - precision: 0.5347 - recall: 0.5436\n",
            "Epoch 165/300\n",
            "70/70 [==============================] - 0s 1ms/step - loss: 31.7455 - accuracy: 0.6643 - precision: 0.5191 - recall: 0.5062\n",
            "Epoch 166/300\n",
            "70/70 [==============================] - 0s 1ms/step - loss: 31.0180 - accuracy: 0.6758 - precision: 0.5347 - recall: 0.5436\n",
            "Epoch 167/300\n",
            "70/70 [==============================] - 0s 1ms/step - loss: 31.3716 - accuracy: 0.6512 - precision: 0.5000 - recall: 0.5187\n",
            "Epoch 168/300\n",
            "70/70 [==============================] - 0s 1ms/step - loss: 29.4504 - accuracy: 0.6715 - precision: 0.5287 - recall: 0.5353\n",
            "Epoch 169/300\n",
            "70/70 [==============================] - 0s 1ms/step - loss: 32.2488 - accuracy: 0.6498 - precision: 0.4980 - recall: 0.5145\n",
            "Epoch 170/300\n",
            "70/70 [==============================] - 0s 1ms/step - loss: 30.4019 - accuracy: 0.6773 - precision: 0.5360 - recall: 0.5560\n",
            "Epoch 171/300\n",
            "70/70 [==============================] - 0s 1ms/step - loss: 33.9375 - accuracy: 0.6483 - precision: 0.4960 - recall: 0.5187\n",
            "Epoch 172/300\n",
            "70/70 [==============================] - 0s 1ms/step - loss: 28.1698 - accuracy: 0.6874 - precision: 0.5502 - recall: 0.5685\n",
            "Epoch 173/300\n",
            "70/70 [==============================] - 0s 1ms/step - loss: 32.8817 - accuracy: 0.6483 - precision: 0.4960 - recall: 0.5104\n",
            "Epoch 174/300\n",
            "70/70 [==============================] - 0s 1ms/step - loss: 30.2526 - accuracy: 0.6729 - precision: 0.5304 - recall: 0.5436\n",
            "Epoch 175/300\n",
            "70/70 [==============================] - 0s 1ms/step - loss: 33.6564 - accuracy: 0.6512 - precision: 0.5000 - recall: 0.5062\n",
            "Epoch 176/300\n",
            "70/70 [==============================] - 0s 1ms/step - loss: 28.4555 - accuracy: 0.6961 - precision: 0.5608 - recall: 0.5934\n",
            "Epoch 177/300\n",
            "70/70 [==============================] - 0s 1ms/step - loss: 32.0285 - accuracy: 0.6512 - precision: 0.5000 - recall: 0.5145\n",
            "Epoch 178/300\n",
            "70/70 [==============================] - 0s 1ms/step - loss: 33.2165 - accuracy: 0.6556 - precision: 0.5062 - recall: 0.5104\n",
            "Epoch 179/300\n",
            "70/70 [==============================] - 0s 1ms/step - loss: 31.4401 - accuracy: 0.6643 - precision: 0.5185 - recall: 0.5228\n",
            "Epoch 180/300\n",
            "70/70 [==============================] - 0s 1ms/step - loss: 30.1622 - accuracy: 0.6744 - precision: 0.5323 - recall: 0.5477\n",
            "Epoch 181/300\n",
            "70/70 [==============================] - 0s 1ms/step - loss: 31.1611 - accuracy: 0.6527 - precision: 0.5020 - recall: 0.5104\n",
            "Epoch 182/300\n",
            "70/70 [==============================] - 0s 1ms/step - loss: 31.5352 - accuracy: 0.6599 - precision: 0.5122 - recall: 0.5228\n",
            "Epoch 183/300\n",
            "70/70 [==============================] - 0s 1ms/step - loss: 32.9188 - accuracy: 0.6411 - precision: 0.4858 - recall: 0.4979\n",
            "Epoch 184/300\n",
            "70/70 [==============================] - 0s 1ms/step - loss: 28.7664 - accuracy: 0.6585 - precision: 0.5102 - recall: 0.5187\n",
            "Epoch 185/300\n",
            "70/70 [==============================] - 0s 1ms/step - loss: 31.3152 - accuracy: 0.6787 - precision: 0.5388 - recall: 0.5477\n",
            "Epoch 186/300\n",
            "70/70 [==============================] - 0s 1ms/step - loss: 34.4876 - accuracy: 0.6527 - precision: 0.5021 - recall: 0.5062\n",
            "Epoch 187/300\n",
            "70/70 [==============================] - 0s 1ms/step - loss: 34.2119 - accuracy: 0.6512 - precision: 0.5000 - recall: 0.4979\n",
            "Epoch 188/300\n",
            "70/70 [==============================] - 0s 1ms/step - loss: 26.6524 - accuracy: 0.6787 - precision: 0.5388 - recall: 0.5477\n",
            "Epoch 189/300\n",
            "70/70 [==============================] - 0s 1ms/step - loss: 30.2835 - accuracy: 0.6889 - precision: 0.5533 - recall: 0.5602\n",
            "Epoch 190/300\n",
            "70/70 [==============================] - 0s 1ms/step - loss: 30.8211 - accuracy: 0.6527 - precision: 0.5020 - recall: 0.5270\n",
            "Epoch 191/300\n",
            "70/70 [==============================] - 0s 1ms/step - loss: 35.8284 - accuracy: 0.6454 - precision: 0.4919 - recall: 0.5021\n",
            "Epoch 192/300\n",
            "70/70 [==============================] - 0s 1ms/step - loss: 32.6584 - accuracy: 0.6744 - precision: 0.5315 - recall: 0.5602\n",
            "Epoch 193/300\n",
            "70/70 [==============================] - 0s 1ms/step - loss: 31.7493 - accuracy: 0.6686 - precision: 0.5244 - recall: 0.5353\n",
            "Epoch 194/300\n",
            "70/70 [==============================] - 0s 1ms/step - loss: 34.7983 - accuracy: 0.6469 - precision: 0.4942 - recall: 0.5311\n",
            "Epoch 195/300\n",
            "70/70 [==============================] - 0s 1ms/step - loss: 32.0263 - accuracy: 0.6715 - precision: 0.5282 - recall: 0.5436\n",
            "Epoch 196/300\n",
            "70/70 [==============================] - 0s 1ms/step - loss: 32.3859 - accuracy: 0.6541 - precision: 0.5042 - recall: 0.4979\n",
            "Epoch 197/300\n",
            "70/70 [==============================] - 0s 1ms/step - loss: 29.8854 - accuracy: 0.6570 - precision: 0.5081 - recall: 0.5187\n",
            "Epoch 198/300\n",
            "70/70 [==============================] - 0s 1ms/step - loss: 36.0322 - accuracy: 0.6556 - precision: 0.5061 - recall: 0.5187\n",
            "Epoch 199/300\n",
            "70/70 [==============================] - 0s 1ms/step - loss: 30.7177 - accuracy: 0.6889 - precision: 0.5512 - recall: 0.5809\n",
            "Epoch 200/300\n",
            "70/70 [==============================] - 0s 1ms/step - loss: 33.1351 - accuracy: 0.6527 - precision: 0.5020 - recall: 0.5228\n",
            "Epoch 201/300\n",
            "70/70 [==============================] - 0s 1ms/step - loss: 30.3254 - accuracy: 0.6643 - precision: 0.5176 - recall: 0.5477\n",
            "Epoch 202/300\n",
            "70/70 [==============================] - 0s 1ms/step - loss: 28.6312 - accuracy: 0.6831 - precision: 0.5451 - recall: 0.5519\n",
            "Epoch 203/300\n",
            "70/70 [==============================] - 0s 1ms/step - loss: 34.4838 - accuracy: 0.6368 - precision: 0.4803 - recall: 0.5062\n",
            "Epoch 204/300\n",
            "70/70 [==============================] - 0s 1ms/step - loss: 32.0448 - accuracy: 0.6816 - precision: 0.5415 - recall: 0.5685\n",
            "Epoch 205/300\n",
            "70/70 [==============================] - 0s 1ms/step - loss: 33.1777 - accuracy: 0.6541 - precision: 0.5041 - recall: 0.5104\n",
            "Epoch 206/300\n",
            "70/70 [==============================] - 0s 2ms/step - loss: 31.7364 - accuracy: 0.6628 - precision: 0.5161 - recall: 0.5311\n",
            "Epoch 207/300\n",
            "70/70 [==============================] - 0s 1ms/step - loss: 28.9549 - accuracy: 0.6643 - precision: 0.5181 - recall: 0.5353\n",
            "Epoch 208/300\n",
            "70/70 [==============================] - 0s 1ms/step - loss: 28.9542 - accuracy: 0.6643 - precision: 0.5182 - recall: 0.5311\n",
            "Epoch 209/300\n",
            "70/70 [==============================] - 0s 1ms/step - loss: 27.8351 - accuracy: 0.6874 - precision: 0.5498 - recall: 0.5726\n",
            "Epoch 210/300\n",
            "70/70 [==============================] - 0s 1ms/step - loss: 30.3738 - accuracy: 0.6729 - precision: 0.5309 - recall: 0.5353\n",
            "Epoch 211/300\n",
            "70/70 [==============================] - 0s 1ms/step - loss: 30.8683 - accuracy: 0.6614 - precision: 0.5135 - recall: 0.5519\n",
            "Epoch 212/300\n",
            "70/70 [==============================] - 0s 1ms/step - loss: 31.5508 - accuracy: 0.6729 - precision: 0.5306 - recall: 0.5394\n",
            "Epoch 213/300\n",
            "70/70 [==============================] - 0s 1ms/step - loss: 32.5147 - accuracy: 0.6614 - precision: 0.5137 - recall: 0.5436\n",
            "Epoch 214/300\n",
            "70/70 [==============================] - 0s 1ms/step - loss: 27.5190 - accuracy: 0.6860 - precision: 0.5492 - recall: 0.5560\n",
            "Epoch 215/300\n",
            "70/70 [==============================] - 0s 1ms/step - loss: 33.7234 - accuracy: 0.6657 - precision: 0.5197 - recall: 0.5477\n",
            "Epoch 216/300\n",
            "70/70 [==============================] - 0s 1ms/step - loss: 31.1450 - accuracy: 0.6671 - precision: 0.5223 - recall: 0.5353\n",
            "Epoch 217/300\n",
            "70/70 [==============================] - 0s 1ms/step - loss: 32.7568 - accuracy: 0.6643 - precision: 0.5187 - recall: 0.5187\n",
            "Epoch 218/300\n",
            "70/70 [==============================] - 0s 1ms/step - loss: 30.4733 - accuracy: 0.6874 - precision: 0.5510 - recall: 0.5602\n",
            "Epoch 219/300\n",
            "70/70 [==============================] - 0s 1ms/step - loss: 31.3720 - accuracy: 0.6816 - precision: 0.5422 - recall: 0.5602\n",
            "Epoch 220/300\n",
            "70/70 [==============================] - 0s 1ms/step - loss: 28.1902 - accuracy: 0.6860 - precision: 0.5488 - recall: 0.5602\n",
            "Epoch 221/300\n",
            "70/70 [==============================] - 0s 1ms/step - loss: 34.1702 - accuracy: 0.6918 - precision: 0.5579 - recall: 0.5602\n",
            "Epoch 222/300\n",
            "70/70 [==============================] - 0s 1ms/step - loss: 31.4307 - accuracy: 0.6860 - precision: 0.5513 - recall: 0.5353\n",
            "Epoch 223/300\n",
            "70/70 [==============================] - 0s 1ms/step - loss: 31.1294 - accuracy: 0.6845 - precision: 0.5462 - recall: 0.5643\n",
            "Epoch 224/300\n",
            "70/70 [==============================] - 0s 1ms/step - loss: 33.4666 - accuracy: 0.6729 - precision: 0.5316 - recall: 0.5228\n",
            "Epoch 225/300\n",
            "70/70 [==============================] - 0s 1ms/step - loss: 33.9876 - accuracy: 0.6628 - precision: 0.5172 - recall: 0.4979\n",
            "Epoch 226/300\n",
            "70/70 [==============================] - 0s 1ms/step - loss: 34.4884 - accuracy: 0.6512 - precision: 0.5000 - recall: 0.5104\n",
            "Epoch 227/300\n",
            "70/70 [==============================] - 0s 1ms/step - loss: 28.9766 - accuracy: 0.6874 - precision: 0.5523 - recall: 0.5477\n",
            "Epoch 228/300\n",
            "70/70 [==============================] - 0s 1ms/step - loss: 29.3008 - accuracy: 0.6787 - precision: 0.5391 - recall: 0.5436\n",
            "Epoch 229/300\n",
            "70/70 [==============================] - 0s 1ms/step - loss: 33.0504 - accuracy: 0.6614 - precision: 0.5145 - recall: 0.5145\n",
            "Epoch 230/300\n",
            "70/70 [==============================] - 0s 1ms/step - loss: 31.1673 - accuracy: 0.6657 - precision: 0.5197 - recall: 0.5477\n",
            "Epoch 231/300\n",
            "70/70 [==============================] - 0s 1ms/step - loss: 29.8870 - accuracy: 0.6975 - precision: 0.5661 - recall: 0.5685\n",
            "Epoch 232/300\n",
            "70/70 [==============================] - 0s 1ms/step - loss: 32.7217 - accuracy: 0.6643 - precision: 0.5181 - recall: 0.5353\n",
            "Epoch 233/300\n",
            "70/70 [==============================] - 0s 1ms/step - loss: 33.4416 - accuracy: 0.6614 - precision: 0.5146 - recall: 0.5104\n",
            "Epoch 234/300\n",
            "70/70 [==============================] - 0s 1ms/step - loss: 32.0033 - accuracy: 0.6295 - precision: 0.4694 - recall: 0.4772\n",
            "Epoch 235/300\n",
            "70/70 [==============================] - 0s 1ms/step - loss: 27.6952 - accuracy: 0.6946 - precision: 0.5610 - recall: 0.5726\n",
            "Epoch 236/300\n",
            "70/70 [==============================] - 0s 1ms/step - loss: 32.4814 - accuracy: 0.6599 - precision: 0.5123 - recall: 0.5187\n",
            "Epoch 237/300\n",
            "70/70 [==============================] - 0s 1ms/step - loss: 32.4249 - accuracy: 0.6802 - precision: 0.5424 - recall: 0.5311\n",
            "Epoch 238/300\n",
            "70/70 [==============================] - 0s 1ms/step - loss: 30.9263 - accuracy: 0.6816 - precision: 0.5436 - recall: 0.5436\n",
            "Epoch 239/300\n",
            "70/70 [==============================] - 0s 1ms/step - loss: 30.6365 - accuracy: 0.6860 - precision: 0.5496 - recall: 0.5519\n",
            "Epoch 240/300\n",
            "70/70 [==============================] - 0s 1ms/step - loss: 31.7662 - accuracy: 0.6845 - precision: 0.5485 - recall: 0.5394\n",
            "Epoch 241/300\n",
            "70/70 [==============================] - 0s 1ms/step - loss: 32.0200 - accuracy: 0.6425 - precision: 0.4877 - recall: 0.4938\n",
            "Epoch 242/300\n",
            "70/70 [==============================] - 0s 1ms/step - loss: 31.1434 - accuracy: 0.6585 - precision: 0.5100 - recall: 0.5311\n",
            "Epoch 243/300\n",
            "70/70 [==============================] - 0s 1ms/step - loss: 31.3617 - accuracy: 0.6874 - precision: 0.5519 - recall: 0.5519\n",
            "Epoch 244/300\n",
            "70/70 [==============================] - 0s 1ms/step - loss: 33.1864 - accuracy: 0.6671 - precision: 0.5230 - recall: 0.5187\n",
            "Epoch 245/300\n",
            "70/70 [==============================] - 0s 1ms/step - loss: 32.1295 - accuracy: 0.6700 - precision: 0.5265 - recall: 0.5353\n",
            "Epoch 246/300\n",
            "70/70 [==============================] - 0s 1ms/step - loss: 32.1555 - accuracy: 0.6831 - precision: 0.5462 - recall: 0.5394\n",
            "Epoch 247/300\n",
            "70/70 [==============================] - 0s 1ms/step - loss: 29.0211 - accuracy: 0.6599 - precision: 0.5124 - recall: 0.5145\n",
            "Epoch 248/300\n",
            "70/70 [==============================] - 0s 1ms/step - loss: 31.3338 - accuracy: 0.6845 - precision: 0.5489 - recall: 0.5353\n",
            "Epoch 249/300\n",
            "70/70 [==============================] - 0s 1ms/step - loss: 32.5502 - accuracy: 0.6845 - precision: 0.5494 - recall: 0.5311\n",
            "Epoch 250/300\n",
            "70/70 [==============================] - 0s 1ms/step - loss: 29.2159 - accuracy: 0.7048 - precision: 0.5755 - recall: 0.5851\n",
            "Epoch 251/300\n",
            "70/70 [==============================] - 0s 1ms/step - loss: 34.0094 - accuracy: 0.6643 - precision: 0.5184 - recall: 0.5270\n",
            "Epoch 252/300\n",
            "70/70 [==============================] - 0s 1ms/step - loss: 34.0293 - accuracy: 0.6570 - precision: 0.5079 - recall: 0.5353\n",
            "Epoch 253/300\n",
            "70/70 [==============================] - 0s 1ms/step - loss: 31.4127 - accuracy: 0.6382 - precision: 0.4822 - recall: 0.5062\n",
            "Epoch 254/300\n",
            "70/70 [==============================] - 0s 1ms/step - loss: 31.1666 - accuracy: 0.6729 - precision: 0.5299 - recall: 0.5519\n",
            "Epoch 255/300\n",
            "70/70 [==============================] - 0s 1ms/step - loss: 28.4114 - accuracy: 0.7019 - precision: 0.5732 - recall: 0.5685\n",
            "Epoch 256/300\n",
            "70/70 [==============================] - 0s 2ms/step - loss: 28.9813 - accuracy: 0.6758 - precision: 0.5344 - recall: 0.5477\n",
            "Epoch 257/300\n",
            "70/70 [==============================] - 0s 1ms/step - loss: 30.4708 - accuracy: 0.6860 - precision: 0.5484 - recall: 0.5643\n",
            "Epoch 258/300\n",
            "70/70 [==============================] - 0s 1ms/step - loss: 32.4452 - accuracy: 0.6671 - precision: 0.5232 - recall: 0.5145\n",
            "Epoch 259/300\n",
            "70/70 [==============================] - 0s 1ms/step - loss: 33.6380 - accuracy: 0.6860 - precision: 0.5513 - recall: 0.5353\n",
            "Epoch 260/300\n",
            "70/70 [==============================] - 0s 1ms/step - loss: 31.5584 - accuracy: 0.6802 - precision: 0.5410 - recall: 0.5477\n",
            "Epoch 261/300\n",
            "70/70 [==============================] - 0s 1ms/step - loss: 30.0508 - accuracy: 0.6990 - precision: 0.5685 - recall: 0.5685\n",
            "Epoch 262/300\n",
            "70/70 [==============================] - 0s 1ms/step - loss: 33.1953 - accuracy: 0.6715 - precision: 0.5287 - recall: 0.5353\n",
            "Epoch 263/300\n",
            "70/70 [==============================] - 0s 1ms/step - loss: 30.4776 - accuracy: 0.6628 - precision: 0.5163 - recall: 0.5270\n",
            "Epoch 264/300\n",
            "70/70 [==============================] - 0s 1ms/step - loss: 33.3790 - accuracy: 0.6628 - precision: 0.5160 - recall: 0.5353\n",
            "Epoch 265/300\n",
            "70/70 [==============================] - 0s 1ms/step - loss: 28.6858 - accuracy: 0.6918 - precision: 0.5583 - recall: 0.5560\n",
            "Epoch 266/300\n",
            "70/70 [==============================] - 0s 1ms/step - loss: 32.6626 - accuracy: 0.6643 - precision: 0.5185 - recall: 0.5228\n",
            "Epoch 267/300\n",
            "70/70 [==============================] - 0s 1ms/step - loss: 31.0480 - accuracy: 0.6860 - precision: 0.5469 - recall: 0.5809\n",
            "Epoch 268/300\n",
            "70/70 [==============================] - 0s 1ms/step - loss: 33.2731 - accuracy: 0.6353 - precision: 0.4779 - recall: 0.4938\n",
            "Epoch 269/300\n",
            "70/70 [==============================] - 0s 1ms/step - loss: 31.1178 - accuracy: 0.6512 - precision: 0.5000 - recall: 0.5021\n",
            "Epoch 270/300\n",
            "70/70 [==============================] - 0s 1ms/step - loss: 29.8184 - accuracy: 0.7019 - precision: 0.5720 - recall: 0.5768\n",
            "Epoch 271/300\n",
            "70/70 [==============================] - 0s 1ms/step - loss: 34.0720 - accuracy: 0.6671 - precision: 0.5224 - recall: 0.5311\n",
            "Epoch 272/300\n",
            "70/70 [==============================] - 0s 1ms/step - loss: 32.9457 - accuracy: 0.6498 - precision: 0.4980 - recall: 0.5062\n",
            "Epoch 273/300\n",
            "70/70 [==============================] - 0s 1ms/step - loss: 31.2568 - accuracy: 0.6729 - precision: 0.5322 - recall: 0.5145\n",
            "Epoch 274/300\n",
            "70/70 [==============================] - 0s 1ms/step - loss: 29.7634 - accuracy: 0.6946 - precision: 0.5620 - recall: 0.5643\n",
            "Epoch 275/300\n",
            "70/70 [==============================] - 0s 1ms/step - loss: 31.6062 - accuracy: 0.6541 - precision: 0.5040 - recall: 0.5187\n",
            "Epoch 276/300\n",
            "70/70 [==============================] - 0s 1ms/step - loss: 33.2873 - accuracy: 0.6469 - precision: 0.4939 - recall: 0.5021\n",
            "Epoch 277/300\n",
            "70/70 [==============================] - 0s 1ms/step - loss: 30.3402 - accuracy: 0.6585 - precision: 0.5100 - recall: 0.5311\n",
            "Epoch 278/300\n",
            "70/70 [==============================] - 0s 1ms/step - loss: 32.4236 - accuracy: 0.6628 - precision: 0.5167 - recall: 0.5145\n",
            "Epoch 279/300\n",
            "70/70 [==============================] - 0s 1ms/step - loss: 28.0486 - accuracy: 0.7004 - precision: 0.5685 - recall: 0.5851\n",
            "Epoch 280/300\n",
            "70/70 [==============================] - 0s 1ms/step - loss: 30.7666 - accuracy: 0.6758 - precision: 0.5350 - recall: 0.5394\n",
            "Epoch 281/300\n",
            "70/70 [==============================] - 0s 1ms/step - loss: 28.9586 - accuracy: 0.7019 - precision: 0.5732 - recall: 0.5685\n",
            "Epoch 282/300\n",
            "70/70 [==============================] - 0s 1ms/step - loss: 32.5072 - accuracy: 0.7019 - precision: 0.5726 - recall: 0.5726\n",
            "Epoch 283/300\n",
            "70/70 [==============================] - 0s 1ms/step - loss: 31.8627 - accuracy: 0.6599 - precision: 0.5127 - recall: 0.5021\n",
            "Epoch 284/300\n",
            "70/70 [==============================] - 0s 1ms/step - loss: 30.1104 - accuracy: 0.6946 - precision: 0.5620 - recall: 0.5643\n",
            "Epoch 285/300\n",
            "70/70 [==============================] - 0s 1ms/step - loss: 30.3568 - accuracy: 0.6715 - precision: 0.5285 - recall: 0.5394\n",
            "Epoch 286/300\n",
            "70/70 [==============================] - 0s 1ms/step - loss: 36.5817 - accuracy: 0.6614 - precision: 0.5145 - recall: 0.5145\n",
            "Epoch 287/300\n",
            "70/70 [==============================] - 0s 1ms/step - loss: 29.5816 - accuracy: 0.6744 - precision: 0.5325 - recall: 0.5436\n",
            "Epoch 288/300\n",
            "70/70 [==============================] - 0s 1ms/step - loss: 30.5469 - accuracy: 0.6469 - precision: 0.4940 - recall: 0.5104\n",
            "Epoch 289/300\n",
            "70/70 [==============================] - 0s 1ms/step - loss: 31.3056 - accuracy: 0.6700 - precision: 0.5265 - recall: 0.5353\n",
            "Epoch 290/300\n",
            "70/70 [==============================] - 0s 1ms/step - loss: 30.3413 - accuracy: 0.6758 - precision: 0.5353 - recall: 0.5353\n",
            "Epoch 291/300\n",
            "70/70 [==============================] - 0s 1ms/step - loss: 27.6829 - accuracy: 0.7062 - precision: 0.5812 - recall: 0.5643\n",
            "Epoch 292/300\n",
            "70/70 [==============================] - 0s 1ms/step - loss: 34.2263 - accuracy: 0.6686 - precision: 0.5242 - recall: 0.5394\n",
            "Epoch 293/300\n",
            "70/70 [==============================] - 0s 1ms/step - loss: 32.0365 - accuracy: 0.6585 - precision: 0.5102 - recall: 0.5187\n",
            "Epoch 294/300\n",
            "70/70 [==============================] - 0s 1ms/step - loss: 29.9262 - accuracy: 0.6961 - precision: 0.5649 - recall: 0.5602\n",
            "Epoch 295/300\n",
            "70/70 [==============================] - 0s 1ms/step - loss: 31.8068 - accuracy: 0.6990 - precision: 0.5685 - recall: 0.5685\n",
            "Epoch 296/300\n",
            "70/70 [==============================] - 0s 1ms/step - loss: 29.9998 - accuracy: 0.6570 - precision: 0.5081 - recall: 0.5228\n",
            "Epoch 297/300\n",
            "70/70 [==============================] - 0s 1ms/step - loss: 31.3918 - accuracy: 0.6889 - precision: 0.5537 - recall: 0.5560\n",
            "Epoch 298/300\n",
            "70/70 [==============================] - 0s 1ms/step - loss: 31.5233 - accuracy: 0.6729 - precision: 0.5309 - recall: 0.5353\n",
            "Epoch 299/300\n",
            "70/70 [==============================] - 0s 1ms/step - loss: 31.4202 - accuracy: 0.6758 - precision: 0.5333 - recall: 0.5643\n",
            "Epoch 300/300\n",
            "70/70 [==============================] - 0s 1ms/step - loss: 32.7834 - accuracy: 0.6570 - precision: 0.5083 - recall: 0.5104\n"
          ],
          "name": "stdout"
        },
        {
          "output_type": "display_data",
          "data": {
            "image/png": "[encoded data removed]",
            "text/plain": [
              "<Figure size 432x288 with 1 Axes>"
            ]
          },
          "metadata": {
            "tags": []
          }
        }
      ]
    },
    {
      "cell_type": "code",
      "metadata": {
        "id": "MvI6kNEs97AV",
        "colab_type": "code",
        "colab": {}
      },
      "source": [
        ""
      ],
      "execution_count": 0,
      "outputs": []
    }
  ]
}