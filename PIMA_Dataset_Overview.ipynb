{
  "nbformat": 4,
  "nbformat_minor": 0,
  "metadata": {
    "colab": {
      "name": "PIMA Dataset Overview",
      "provenance": [],
      "collapsed_sections": [],
      "include_colab_link": true
    },
    "kernelspec": {
      "name": "python3",
      "display_name": "Python 3"
    }
  },
  "cells": [
    {
      "cell_type": "markdown",
      "metadata": {
        "id": "view-in-github",
        "colab_type": "text"
      },
      "source": [
        "<a href=\"https://colab.research.google.com/github/adindariztia/Bangkit_DiabetesPredictionML/blob/Alita/PIMA_Dataset_Overview.ipynb\" target=\"_parent\"><img src=\"https://colab.research.google.com/assets/colab-badge.svg\" alt=\"Open In Colab\"/></a>"
      ]
    },
    {
      "cell_type": "code",
      "metadata": {
        "id": "ngTWoEBC7zrV",
        "colab_type": "code",
        "colab": {}
      },
      "source": [
        "%tensorflow_version 2.x"
      ],
      "execution_count": 0,
      "outputs": []
    },
    {
      "cell_type": "code",
      "metadata": {
        "id": "fZuqanp64xm6",
        "colab_type": "code",
        "colab": {}
      },
      "source": [
        "import pandas as pd\n",
        "import numpy as np\n",
        "import seaborn as sns\n",
        "import matplotlib.pyplot as plt\n",
        "from sklearn.model_selection import train_test_split\n",
        "import tensorflow as tf\n",
        "from tensorflow import feature_column\n",
        "from tensorflow.keras import layers"
      ],
      "execution_count": 0,
      "outputs": []
    },
    {
      "cell_type": "markdown",
      "metadata": {
        "id": "97ratiCb5BLn",
        "colab_type": "text"
      },
      "source": [
        "Read The Dataset"
      ]
    },
    {
      "cell_type": "code",
      "metadata": {
        "id": "BTPA0Rcf4dgK",
        "colab_type": "code",
        "colab": {}
      },
      "source": [
        "df = pd.read_csv('diabetes.csv')"
      ],
      "execution_count": 0,
      "outputs": []
    },
    {
      "cell_type": "markdown",
      "metadata": {
        "id": "IIIGebXs4_jj",
        "colab_type": "text"
      },
      "source": [
        "Get a Glimpse on dataset"
      ]
    },
    {
      "cell_type": "code",
      "metadata": {
        "id": "jYjVS5o75MQf",
        "colab_type": "code",
        "outputId": "4ba1d8b8-6d49-4443-b23d-2be36ac6abfa",
        "colab": {
          "base_uri": "https://localhost:8080/",
          "height": 35
        }
      },
      "source": [
        "df.shape"
      ],
      "execution_count": 65,
      "outputs": [
        {
          "output_type": "execute_result",
          "data": {
            "text/plain": [
              "(768, 9)"
            ]
          },
          "metadata": {
            "tags": []
          },
          "execution_count": 65
        }
      ]
    },
    {
      "cell_type": "code",
      "metadata": {
        "id": "A2QXt0UB493u",
        "colab_type": "code",
        "outputId": "ce2928c4-be11-45f5-dff0-e5b3ddf101be",
        "colab": {
          "base_uri": "https://localhost:8080/",
          "height": 206
        }
      },
      "source": [
        "df.head()"
      ],
      "execution_count": 66,
      "outputs": [
        {
          "output_type": "execute_result",
          "data": {
            "text/html": [
              "<div>\n",
              "<style scoped>\n",
              "    .dataframe tbody tr th:only-of-type {\n",
              "        vertical-align: middle;\n",
              "    }\n",
              "\n",
              "    .dataframe tbody tr th {\n",
              "        vertical-align: top;\n",
              "    }\n",
              "\n",
              "    .dataframe thead th {\n",
              "        text-align: right;\n",
              "    }\n",
              "</style>\n",
              "<table border=\"1\" class=\"dataframe\">\n",
              "  <thead>\n",
              "    <tr style=\"text-align: right;\">\n",
              "      <th></th>\n",
              "      <th>Pregnancies</th>\n",
              "      <th>Glucose</th>\n",
              "      <th>BloodPressure</th>\n",
              "      <th>SkinThickness</th>\n",
              "      <th>Insulin</th>\n",
              "      <th>BMI</th>\n",
              "      <th>DiabetesPedigreeFunction</th>\n",
              "      <th>Age</th>\n",
              "      <th>Outcome</th>\n",
              "    </tr>\n",
              "  </thead>\n",
              "  <tbody>\n",
              "    <tr>\n",
              "      <th>0</th>\n",
              "      <td>6</td>\n",
              "      <td>148</td>\n",
              "      <td>72</td>\n",
              "      <td>35</td>\n",
              "      <td>0</td>\n",
              "      <td>33.6</td>\n",
              "      <td>0.627</td>\n",
              "      <td>50</td>\n",
              "      <td>1</td>\n",
              "    </tr>\n",
              "    <tr>\n",
              "      <th>1</th>\n",
              "      <td>1</td>\n",
              "      <td>85</td>\n",
              "      <td>66</td>\n",
              "      <td>29</td>\n",
              "      <td>0</td>\n",
              "      <td>26.6</td>\n",
              "      <td>0.351</td>\n",
              "      <td>31</td>\n",
              "      <td>0</td>\n",
              "    </tr>\n",
              "    <tr>\n",
              "      <th>2</th>\n",
              "      <td>8</td>\n",
              "      <td>183</td>\n",
              "      <td>64</td>\n",
              "      <td>0</td>\n",
              "      <td>0</td>\n",
              "      <td>23.3</td>\n",
              "      <td>0.672</td>\n",
              "      <td>32</td>\n",
              "      <td>1</td>\n",
              "    </tr>\n",
              "    <tr>\n",
              "      <th>3</th>\n",
              "      <td>1</td>\n",
              "      <td>89</td>\n",
              "      <td>66</td>\n",
              "      <td>23</td>\n",
              "      <td>94</td>\n",
              "      <td>28.1</td>\n",
              "      <td>0.167</td>\n",
              "      <td>21</td>\n",
              "      <td>0</td>\n",
              "    </tr>\n",
              "    <tr>\n",
              "      <th>4</th>\n",
              "      <td>0</td>\n",
              "      <td>137</td>\n",
              "      <td>40</td>\n",
              "      <td>35</td>\n",
              "      <td>168</td>\n",
              "      <td>43.1</td>\n",
              "      <td>2.288</td>\n",
              "      <td>33</td>\n",
              "      <td>1</td>\n",
              "    </tr>\n",
              "  </tbody>\n",
              "</table>\n",
              "</div>"
            ],
            "text/plain": [
              "   Pregnancies  Glucose  BloodPressure  ...  DiabetesPedigreeFunction  Age  Outcome\n",
              "0            6      148             72  ...                     0.627   50        1\n",
              "1            1       85             66  ...                     0.351   31        0\n",
              "2            8      183             64  ...                     0.672   32        1\n",
              "3            1       89             66  ...                     0.167   21        0\n",
              "4            0      137             40  ...                     2.288   33        1\n",
              "\n",
              "[5 rows x 9 columns]"
            ]
          },
          "metadata": {
            "tags": []
          },
          "execution_count": 66
        }
      ]
    },
    {
      "cell_type": "code",
      "metadata": {
        "id": "m8_ZypMs5PhQ",
        "colab_type": "code",
        "outputId": "45dce208-fc2d-4664-fbcb-02a8a7dc8e9e",
        "colab": {
          "base_uri": "https://localhost:8080/",
          "height": 300
        }
      },
      "source": [
        "df.describe()"
      ],
      "execution_count": 67,
      "outputs": [
        {
          "output_type": "execute_result",
          "data": {
            "text/html": [
              "<div>\n",
              "<style scoped>\n",
              "    .dataframe tbody tr th:only-of-type {\n",
              "        vertical-align: middle;\n",
              "    }\n",
              "\n",
              "    .dataframe tbody tr th {\n",
              "        vertical-align: top;\n",
              "    }\n",
              "\n",
              "    .dataframe thead th {\n",
              "        text-align: right;\n",
              "    }\n",
              "</style>\n",
              "<table border=\"1\" class=\"dataframe\">\n",
              "  <thead>\n",
              "    <tr style=\"text-align: right;\">\n",
              "      <th></th>\n",
              "      <th>Pregnancies</th>\n",
              "      <th>Glucose</th>\n",
              "      <th>BloodPressure</th>\n",
              "      <th>SkinThickness</th>\n",
              "      <th>Insulin</th>\n",
              "      <th>BMI</th>\n",
              "      <th>DiabetesPedigreeFunction</th>\n",
              "      <th>Age</th>\n",
              "      <th>Outcome</th>\n",
              "    </tr>\n",
              "  </thead>\n",
              "  <tbody>\n",
              "    <tr>\n",
              "      <th>count</th>\n",
              "      <td>768.000000</td>\n",
              "      <td>768.000000</td>\n",
              "      <td>768.000000</td>\n",
              "      <td>768.000000</td>\n",
              "      <td>768.000000</td>\n",
              "      <td>768.000000</td>\n",
              "      <td>768.000000</td>\n",
              "      <td>768.000000</td>\n",
              "      <td>768.000000</td>\n",
              "    </tr>\n",
              "    <tr>\n",
              "      <th>mean</th>\n",
              "      <td>3.845052</td>\n",
              "      <td>120.894531</td>\n",
              "      <td>69.105469</td>\n",
              "      <td>20.536458</td>\n",
              "      <td>79.799479</td>\n",
              "      <td>31.992578</td>\n",
              "      <td>0.471876</td>\n",
              "      <td>33.240885</td>\n",
              "      <td>0.348958</td>\n",
              "    </tr>\n",
              "    <tr>\n",
              "      <th>std</th>\n",
              "      <td>3.369578</td>\n",
              "      <td>31.972618</td>\n",
              "      <td>19.355807</td>\n",
              "      <td>15.952218</td>\n",
              "      <td>115.244002</td>\n",
              "      <td>7.884160</td>\n",
              "      <td>0.331329</td>\n",
              "      <td>11.760232</td>\n",
              "      <td>0.476951</td>\n",
              "    </tr>\n",
              "    <tr>\n",
              "      <th>min</th>\n",
              "      <td>0.000000</td>\n",
              "      <td>0.000000</td>\n",
              "      <td>0.000000</td>\n",
              "      <td>0.000000</td>\n",
              "      <td>0.000000</td>\n",
              "      <td>0.000000</td>\n",
              "      <td>0.078000</td>\n",
              "      <td>21.000000</td>\n",
              "      <td>0.000000</td>\n",
              "    </tr>\n",
              "    <tr>\n",
              "      <th>25%</th>\n",
              "      <td>1.000000</td>\n",
              "      <td>99.000000</td>\n",
              "      <td>62.000000</td>\n",
              "      <td>0.000000</td>\n",
              "      <td>0.000000</td>\n",
              "      <td>27.300000</td>\n",
              "      <td>0.243750</td>\n",
              "      <td>24.000000</td>\n",
              "      <td>0.000000</td>\n",
              "    </tr>\n",
              "    <tr>\n",
              "      <th>50%</th>\n",
              "      <td>3.000000</td>\n",
              "      <td>117.000000</td>\n",
              "      <td>72.000000</td>\n",
              "      <td>23.000000</td>\n",
              "      <td>30.500000</td>\n",
              "      <td>32.000000</td>\n",
              "      <td>0.372500</td>\n",
              "      <td>29.000000</td>\n",
              "      <td>0.000000</td>\n",
              "    </tr>\n",
              "    <tr>\n",
              "      <th>75%</th>\n",
              "      <td>6.000000</td>\n",
              "      <td>140.250000</td>\n",
              "      <td>80.000000</td>\n",
              "      <td>32.000000</td>\n",
              "      <td>127.250000</td>\n",
              "      <td>36.600000</td>\n",
              "      <td>0.626250</td>\n",
              "      <td>41.000000</td>\n",
              "      <td>1.000000</td>\n",
              "    </tr>\n",
              "    <tr>\n",
              "      <th>max</th>\n",
              "      <td>17.000000</td>\n",
              "      <td>199.000000</td>\n",
              "      <td>122.000000</td>\n",
              "      <td>99.000000</td>\n",
              "      <td>846.000000</td>\n",
              "      <td>67.100000</td>\n",
              "      <td>2.420000</td>\n",
              "      <td>81.000000</td>\n",
              "      <td>1.000000</td>\n",
              "    </tr>\n",
              "  </tbody>\n",
              "</table>\n",
              "</div>"
            ],
            "text/plain": [
              "       Pregnancies     Glucose  ...         Age     Outcome\n",
              "count   768.000000  768.000000  ...  768.000000  768.000000\n",
              "mean      3.845052  120.894531  ...   33.240885    0.348958\n",
              "std       3.369578   31.972618  ...   11.760232    0.476951\n",
              "min       0.000000    0.000000  ...   21.000000    0.000000\n",
              "25%       1.000000   99.000000  ...   24.000000    0.000000\n",
              "50%       3.000000  117.000000  ...   29.000000    0.000000\n",
              "75%       6.000000  140.250000  ...   41.000000    1.000000\n",
              "max      17.000000  199.000000  ...   81.000000    1.000000\n",
              "\n",
              "[8 rows x 9 columns]"
            ]
          },
          "metadata": {
            "tags": []
          },
          "execution_count": 67
        }
      ]
    },
    {
      "cell_type": "code",
      "metadata": {
        "id": "bngyMjgEjhoa",
        "colab_type": "code",
        "outputId": "25b3c362-659f-4631-b900-3f3ce60ab404",
        "colab": {
          "base_uri": "https://localhost:8080/",
          "height": 286
        }
      },
      "source": [
        "# View data distributions & detect outliers\n",
        "sns.set()\n",
        "sns.boxplot(data=df, orient='h')"
      ],
      "execution_count": 68,
      "outputs": [
        {
          "output_type": "execute_result",
          "data": {
            "text/plain": [
              "<matplotlib.axes._subplots.AxesSubplot at 0x7f22ca729278>"
            ]
          },
          "metadata": {
            "tags": []
          },
          "execution_count": 68
        },
        {
          "output_type": "display_data",
          "data": {
            "image/png": "[encoded data removed]",
            "text/plain": [
              "<Figure size 432x288 with 1 Axes>"
            ]
          },
          "metadata": {
            "tags": []
          }
        }
      ]
    },
    {
      "cell_type": "markdown",
      "metadata": {
        "id": "Jkv8weRMQeWV",
        "colab_type": "text"
      },
      "source": [
        "Impute Missing Values"
      ]
    },
    {
      "cell_type": "code",
      "metadata": {
        "id": "JI-UKRkdQc_Y",
        "colab_type": "code",
        "outputId": "86f6a19e-1a37-4efc-cbd3-47f8324ab0b7",
        "colab": {
          "base_uri": "https://localhost:8080/",
          "height": 301
        }
      },
      "source": [
        "# Missing values interpreted as 0\n",
        "# 0 values in 'Pregnancy' is not a missing value, it means that the woman is never pregnant\n",
        "# Convert to categorical value 1, 0\n",
        "df.Pregnancies = df.Pregnancies.astype(bool).astype(int)\n",
        "\n",
        "# Convert zeros to NaN, count NaNs each columns and the percentages\n",
        "rows = []\n",
        "column = ['Glucose','BloodPressure','SkinThickness','Insulin','BMI','DiabetesPedigreeFunction', 'Age']\n",
        "for col in column:\n",
        "    df[col] = df[col].replace(0,np.NaN)\n",
        "    nans = df[col].isna().sum()\n",
        "    percentage = ((nans / len(df)) * 100).round(2)\n",
        "    rows.append([col, nans, percentage])\n",
        "mv = pd.DataFrame(rows, columns=['column','nans','percentage'])\n",
        "\n",
        "sns.set()\n",
        "mv_p = sns.barplot(x='percentage', y='column', data=mv).set_title('Missing Values Percentages')"
      ],
      "execution_count": 69,
      "outputs": [
        {
          "output_type": "display_data",
          "data": {
            "image/png": "[encoded data removed]",
            "text/plain": [
              "<Figure size 432x288 with 1 Axes>"
            ]
          },
          "metadata": {
            "tags": []
          }
        }
      ]
    },
    {
      "cell_type": "code",
      "metadata": {
        "id": "MlvXNsvzk9js",
        "colab_type": "code",
        "outputId": "7dc9262e-3d7f-48b4-e8bf-ee15a16a7d81",
        "colab": {
          "base_uri": "https://localhost:8080/",
          "height": 35
        }
      },
      "source": [
        "# Impute NaNs with median / mean\n",
        "def fillna_median (col, df):\n",
        "    df[col].fillna(df[col].median(), inplace = True)\n",
        "    \n",
        "def fillna_mean (col, df):\n",
        "    df[col].fillna(df[col].mean(), inplace = True)\n",
        "\n",
        "# Impute columns with outliers by median\n",
        "fillna_median ('BloodPressure', df)\n",
        "fillna_median ('SkinThickness', df)\n",
        "fillna_median ('Insulin', df)\n",
        "fillna_median ('BMI', df)\n",
        "\n",
        "# Impute columns without outliers by mean\n",
        "fillna_mean('Glucose', df)\n",
        "\n",
        "df.isnull().values.any()"
      ],
      "execution_count": 70,
      "outputs": [
        {
          "output_type": "execute_result",
          "data": {
            "text/plain": [
              "False"
            ]
          },
          "metadata": {
            "tags": []
          },
          "execution_count": 70
        }
      ]
    },
    {
      "cell_type": "markdown",
      "metadata": {
        "id": "dtsUidUOSe6i",
        "colab_type": "text"
      },
      "source": [
        "Clipping Outliers using Quantile-based Flooring and Capping"
      ]
    },
    {
      "cell_type": "code",
      "metadata": {
        "id": "T98Ad0qKegLm",
        "colab_type": "code",
        "outputId": "3f6207b5-0003-4741-c1fc-fee668da5106",
        "colab": {
          "base_uri": "https://localhost:8080/",
          "height": 106
        }
      },
      "source": [
        "#Evaluating skewness in column with outliers\n",
        "print(df['BloodPressure'].skew())\n",
        "print(df['SkinThickness'].skew())\n",
        "print(df['Insulin'].skew())\n",
        "print(df['BMI'].skew())\n",
        "print(df['Age'].skew())\n"
      ],
      "execution_count": 71,
      "outputs": [
        {
          "output_type": "stream",
          "text": [
            "0.1418850201030565\n",
            "0.8376083316006523\n",
            "3.380019128212173\n",
            "0.599232520287425\n",
            "1.1295967011444805\n"
          ],
          "name": "stdout"
        }
      ]
    },
    {
      "cell_type": "code",
      "metadata": {
        "id": "iZ4RUvwrSiJh",
        "colab_type": "code",
        "outputId": "aff4807d-63fb-43c1-b0fb-36a1ab0e3167",
        "colab": {
          "base_uri": "https://localhost:8080/",
          "height": 53
        }
      },
      "source": [
        "# Capping outliers, penalize only column with large skewness\n",
        "print(df['Insulin'].quantile(0.90)) #huge skew level, proceed to cap. lowered from 3.3 to 0.14\n",
        "df['Insulin'] = np.where(df['Insulin'] >210.0, 210.0,df['Insulin'])\n",
        "\n",
        "print(df['SkinThickness'].quantile(0.90)) #wide gap from 75th percentile to the max value, proceed to cap\n",
        "df['Insulin'] = np.where(df['Insulin'] >40.0, 40.0,df['Insulin'])"
      ],
      "execution_count": 72,
      "outputs": [
        {
          "output_type": "stream",
          "text": [
            "210.0\n",
            "40.0\n"
          ],
          "name": "stdout"
        }
      ]
    },
    {
      "cell_type": "markdown",
      "metadata": {
        "id": "dcAPQT_OfHG9",
        "colab_type": "text"
      },
      "source": [
        "Normalization"
      ]
    },
    {
      "cell_type": "code",
      "metadata": {
        "id": "pVWl80dGfJgV",
        "colab_type": "code",
        "outputId": "445a115f-5e6a-4ca5-e8f0-67ac5b971dda",
        "colab": {
          "base_uri": "https://localhost:8080/",
          "height": 206
        }
      },
      "source": [
        "# Calculate Z-scores of each column, except for label 'Outcome'\n",
        "df_mean = df.mean()\n",
        "df_std = df.std()\n",
        "df_norm = (df - df_mean) / df_std\n",
        "df_norm[['Pregnancies','Outcome']] = (df[['Pregnancies','Outcome']])\n",
        "df_norm.head()"
      ],
      "execution_count": 75,
      "outputs": [
        {
          "output_type": "execute_result",
          "data": {
            "text/html": [
              "<div>\n",
              "<style scoped>\n",
              "    .dataframe tbody tr th:only-of-type {\n",
              "        vertical-align: middle;\n",
              "    }\n",
              "\n",
              "    .dataframe tbody tr th {\n",
              "        vertical-align: top;\n",
              "    }\n",
              "\n",
              "    .dataframe thead th {\n",
              "        text-align: right;\n",
              "    }\n",
              "</style>\n",
              "<table border=\"1\" class=\"dataframe\">\n",
              "  <thead>\n",
              "    <tr style=\"text-align: right;\">\n",
              "      <th></th>\n",
              "      <th>Pregnancies</th>\n",
              "      <th>Glucose</th>\n",
              "      <th>BloodPressure</th>\n",
              "      <th>SkinThickness</th>\n",
              "      <th>Insulin</th>\n",
              "      <th>BMI</th>\n",
              "      <th>DiabetesPedigreeFunction</th>\n",
              "      <th>Age</th>\n",
              "      <th>Outcome</th>\n",
              "    </tr>\n",
              "  </thead>\n",
              "  <tbody>\n",
              "    <tr>\n",
              "      <th>0</th>\n",
              "      <td>1</td>\n",
              "      <td>0.864545</td>\n",
              "      <td>-0.031969</td>\n",
              "      <td>0.670206</td>\n",
              "      <td>0.125781</td>\n",
              "      <td>0.166511</td>\n",
              "      <td>0.468187</td>\n",
              "      <td>1.425067</td>\n",
              "      <td>1</td>\n",
              "    </tr>\n",
              "    <tr>\n",
              "      <th>1</th>\n",
              "      <td>1</td>\n",
              "      <td>-1.205376</td>\n",
              "      <td>-0.527975</td>\n",
              "      <td>-0.012293</td>\n",
              "      <td>0.125781</td>\n",
              "      <td>-0.851645</td>\n",
              "      <td>-0.364823</td>\n",
              "      <td>-0.190548</td>\n",
              "      <td>0</td>\n",
              "    </tr>\n",
              "    <tr>\n",
              "      <th>2</th>\n",
              "      <td>1</td>\n",
              "      <td>2.014501</td>\n",
              "      <td>-0.693310</td>\n",
              "      <td>-0.012293</td>\n",
              "      <td>0.125781</td>\n",
              "      <td>-1.331632</td>\n",
              "      <td>0.604004</td>\n",
              "      <td>-0.105515</td>\n",
              "      <td>1</td>\n",
              "    </tr>\n",
              "    <tr>\n",
              "      <th>3</th>\n",
              "      <td>1</td>\n",
              "      <td>-1.073952</td>\n",
              "      <td>-0.527975</td>\n",
              "      <td>-0.694792</td>\n",
              "      <td>0.125781</td>\n",
              "      <td>-0.633469</td>\n",
              "      <td>-0.920163</td>\n",
              "      <td>-1.040871</td>\n",
              "      <td>0</td>\n",
              "    </tr>\n",
              "    <tr>\n",
              "      <th>4</th>\n",
              "      <td>0</td>\n",
              "      <td>0.503130</td>\n",
              "      <td>-2.677331</td>\n",
              "      <td>0.670206</td>\n",
              "      <td>0.125781</td>\n",
              "      <td>1.548294</td>\n",
              "      <td>5.481337</td>\n",
              "      <td>-0.020483</td>\n",
              "      <td>1</td>\n",
              "    </tr>\n",
              "  </tbody>\n",
              "</table>\n",
              "</div>"
            ],
            "text/plain": [
              "   Pregnancies   Glucose  ...       Age  Outcome\n",
              "0            1  0.864545  ...  1.425067        1\n",
              "1            1 -1.205376  ... -0.190548        0\n",
              "2            1  2.014501  ... -0.105515        1\n",
              "3            1 -1.073952  ... -1.040871        0\n",
              "4            0  0.503130  ... -0.020483        1\n",
              "\n",
              "[5 rows x 9 columns]"
            ]
          },
          "metadata": {
            "tags": []
          },
          "execution_count": 75
        }
      ]
    },
    {
      "cell_type": "markdown",
      "metadata": {
        "id": "S8ochja55XnV",
        "colab_type": "text"
      },
      "source": [
        "Create Correlation Matrix to Know Correlating Features"
      ]
    },
    {
      "cell_type": "code",
      "metadata": {
        "id": "Xy7c58ay5VDN",
        "colab_type": "code",
        "outputId": "e1c8d4a7-8ebe-4884-d188-a8c6585f18fc",
        "colab": {
          "base_uri": "https://localhost:8080/",
          "height": 692
        }
      },
      "source": [
        "corr = df_norm.corr()\n",
        "# Generate a mask for the upper triangle\n",
        "mask = np.triu(np.ones_like(corr, dtype=np.bool))\n",
        "\n",
        "# Set up the matplotlib figure\n",
        "f, ax = plt.subplots(figsize=(11, 9))\n",
        "\n",
        "# Generate a custom diverging colormap\n",
        "cmap = sns.diverging_palette(220, 10, as_cmap=True)\n",
        "\n",
        "# Draw the heatmap with the mask and correct aspect ratio\n",
        "sns.heatmap(corr, mask=mask, cmap=cmap, vmax=.3, center=0,\n",
        "            square=True, linewidths=.5, cbar_kws={\"shrink\": .5})"
      ],
      "execution_count": 77,
      "outputs": [
        {
          "output_type": "execute_result",
          "data": {
            "text/plain": [
              "<matplotlib.axes._subplots.AxesSubplot at 0x7f22c7c3c748>"
            ]
          },
          "metadata": {
            "tags": []
          },
          "execution_count": 77
        },
        {
          "output_type": "display_data",
          "data": {
            "image/png": "[encoded data removed]",
            "text/plain": [
              "<Figure size 792x648 with 2 Axes>"
            ]
          },
          "metadata": {
            "tags": []
          }
        }
      ]
    },
    {
      "cell_type": "markdown",
      "metadata": {
        "id": "zztjiKDH5-ao",
        "colab_type": "text"
      },
      "source": [
        "Split dataset into train and test set"
      ]
    },
    {
      "cell_type": "code",
      "metadata": {
        "id": "xERqTKNN5eK3",
        "colab_type": "code",
        "colab": {
          "base_uri": "https://localhost:8080/",
          "height": 71
        },
        "outputId": "c36a649b-32d2-43e5-f27a-2c0b55ca3d55"
      },
      "source": [
        "train, test = train_test_split(df_norm, test_size=0.2)\n",
        "train, val = train_test_split(train, test_size=0.2)\n",
        "print(len(train), 'train examples')\n",
        "print(len(val), 'validation examples')\n",
        "print(len(test), 'test examples')"
      ],
      "execution_count": 84,
      "outputs": [
        {
          "output_type": "stream",
          "text": [
            "491 train examples\n",
            "123 validation examples\n",
            "154 test examples\n"
          ],
          "name": "stdout"
        }
      ]
    },
    {
      "cell_type": "code",
      "metadata": {
        "id": "iViwILvI6iVo",
        "colab_type": "code",
        "colab": {}
      },
      "source": [
        "# Create an empty list that will eventually hold all created feature columns.\n",
        "#dataset_columns = X.columns\n",
        "#feature_columns = []\n",
        "\n",
        "# Create numerical feature columns to represent all columns in X\n",
        "#for col in ['Glucose', 'BMI', 'Age', 'Pregnancies']: #Excluding outcome value, since outcome is still included in dataset\n",
        "#    col_tf = tf.feature_column.numeric_column(col)\n",
        "#    feature_columns.append(col_tf)\n",
        "\n",
        "# Convert the list of feature columns into a layer that will later be fed into\n",
        "# the model. \n",
        "#feature_layer = layers.DenseFeatures(feature_columns)\n",
        "\n",
        "# Print the first 3 and last 3 rows of the feature_layer's output when applied\n",
        "# to train_df_norm:\n",
        "#feature_layer(dict(X_train))"
      ],
      "execution_count": 0,
      "outputs": []
    },
    {
      "cell_type": "code",
      "metadata": {
        "id": "W6jEKou3ukCl",
        "colab_type": "code",
        "colab": {
          "base_uri": "https://localhost:8080/",
          "height": 1000
        },
        "outputId": "c810e1e8-1918-4b7a-b766-d3fd341a3141"
      },
      "source": [
        "# Create an empty list that will eventually hold all created feature columns.\n",
        "feature_columns = []\n",
        "\n",
        "# Create a numerical feature column to represent median_income.\n",
        "glucose = tf.feature_column.numeric_column('Glucose')\n",
        "feature_columns.append(glucose)\n",
        "\n",
        "# Create a numerical feature column to represent total_rooms.\n",
        "bmi = tf.feature_column.numeric_column('BMI')\n",
        "feature_columns.append(bmi)\n",
        "\n",
        "# Convert the list of feature columns into a layer that will later be fed into\n",
        "# the model. \n",
        "feature_layer = layers.DenseFeatures(feature_columns)\n",
        "\n",
        "# Print the first 3 and last 3 rows of the feature_layer's output when applied\n",
        "# to train:\n",
        "#feature_layer(dict(train))"
      ],
      "execution_count": 85,
      "outputs": [
        {
          "output_type": "execute_result",
          "data": {
            "text/plain": [
              "<tf.Tensor: shape=(491, 2), dtype=float32, numpy=\n",
              "array([[-6.7710382e-01, -1.5667907e+00],\n",
              "       [ 5.7377315e-01,  2.1459241e+00],\n",
              "       [ 1.1846665e+00,  1.0288241e+00],\n",
              "       [-1.1280013e+00,  1.0885934e-01],\n",
              "       [ 1.7664697e+00, -8.7681717e-01],\n",
              "       [-4.0074727e-01,  9.6311229e-01],\n",
              "       [ 4.4286740e-01,  1.1931036e+00],\n",
              "       [ 3.5559693e-01, -1.0410966e+00],\n",
              "       [-1.0116407e+00,  7.6003455e-02],\n",
              "       [-3.8620219e-01,  1.1931036e+00],\n",
              "       [ 9.0831000e-01, -7.1253777e-01],\n",
              "       [-7.0619398e-01,  1.0885934e-01],\n",
              "       [ 4.7195756e-01, -6.4682597e-01],\n",
              "       [-1.1861817e+00,  1.0885934e-01],\n",
              "       [-1.0407308e+00, -7.1253777e-01],\n",
              "       [-2.2620630e-01, -5.1540244e-01],\n",
              "       [-7.2073907e-01,  2.4028288e-01],\n",
              "       [-5.1710790e-01,  4.0456229e-01],\n",
              "       [-1.3316324e+00, -5.4825836e-01],\n",
              "       [-9.0982509e-01, -1.3696555e+00],\n",
              "       [-1.0698210e+00,  2.4087713e+00],\n",
              "       [-3.8620219e-01, -1.0082407e+00],\n",
              "       [-1.8257107e-01,  7.9883289e-01],\n",
              "       [ 7.3376900e-01,  2.4416270e+00],\n",
              "       [ 1.8537402e+00, -1.5398774e-01],\n",
              "       [ 2.8287151e-01,  3.3885053e-01],\n",
              "       [-9.2437017e-01,  2.3759153e+00],\n",
              "       [-7.7891934e-01,  5.6884170e-01],\n",
              "       [-5.1710790e-01, -2.1969950e-01],\n",
              "       [-5.0256282e-01, -5.1540244e-01],\n",
              "       [ 6.6104358e-01,  2.0473564e+00],\n",
              "       [ 7.4831408e-01,  1.0885934e-01],\n",
              "       [ 1.0828509e+00, -1.0082407e+00],\n",
              "       [-6.4801365e-01,  2.4028288e-01],\n",
              "       [-7.3528409e-01, -1.8684362e-01],\n",
              "       [-1.2152718e+00,  6.0169762e-01],\n",
              "       [-8.6618984e-01, -5.1540244e-01],\n",
              "       [ 7.6285917e-01,  2.1459241e+00],\n",
              "       [ 4.4286740e-01,  2.2444918e+00],\n",
              "       [-3.5711202e-01, -7.1253777e-01],\n",
              "       [-5.1710790e-01, -2.5255537e-01],\n",
              "       [ 3.1196168e-01,  2.0742700e-01],\n",
              "       [-2.4075139e-01, -4.8254657e-01],\n",
              "       [ 1.4755681e+00,  6.0169762e-01],\n",
              "       [-7.0619398e-01, -9.7538483e-01],\n",
              "       [ 1.5046582e+00,  8.3168876e-01],\n",
              "       [ 5.0150227e-02,  3.7170640e-01],\n",
              "       [-1.4334480e+00,  2.7313876e-01],\n",
              "       [-5.8983332e-01, -3.8397893e-01],\n",
              "       [ 1.2287563e-01,  1.0945358e+00],\n",
              "       [-6.7710382e-01, -3.8397893e-01],\n",
              "       [-1.4916283e+00, -7.4539363e-01],\n",
              "       [ 8.3558458e-01, -1.2382319e+00],\n",
              "       [-5.1710790e-01,  1.0885934e-01],\n",
              "       [-3.5711202e-01, -1.3696555e+00],\n",
              "       [-1.8988906e+00, -6.1397010e-01],\n",
              "       [-1.1280013e+00,  9.3382037e-16],\n",
              "       [-1.0261858e+00, -7.4539363e-01],\n",
              "       [ 1.0537608e+00, -5.5420082e-02],\n",
              "       [ 1.6791992e+00,  1.5873741e+00],\n",
              "       [-7.4982917e-01, -4.4969070e-01],\n",
              "       [ 1.0101255e+00, -7.1253777e-01],\n",
              "       [-3.7165710e-01,  1.5545182e+00],\n",
              "       [ 1.0828509e+00,  2.4028288e-01],\n",
              "       [ 9.3785465e-02,  3.0599463e-01],\n",
              "       [-8.0755502e-02, -1.2382319e+00],\n",
              "       [-8.8073492e-01,  2.4028288e-01],\n",
              "       [ 2.9741660e-01,  1.5873741e+00],\n",
              "       [ 1.7519246e+00, -1.2113185e-01],\n",
              "       [-5.1665340e-02, -8.7681717e-01],\n",
              "       [ 8.2103950e-01, -8.1110543e-01],\n",
              "       [-4.5892760e-01,  1.0616800e+00],\n",
              "       [ 2.0864615e+00, -7.1253777e-01],\n",
              "       [-2.2620630e-01,  8.6454469e-01],\n",
              "       [-1.4625381e+00, -2.8541127e-01],\n",
              "       [ 2.5378135e-01,  9.9596822e-01],\n",
              "       [ 3.5605144e-02,  1.8830770e+00],\n",
              "       [ 1.0101255e+00,  1.1602476e+00],\n",
              "       [ 1.6651087e-01,  4.3147571e-02],\n",
              "       [-5.4619807e-01,  5.6884170e-01],\n",
              "       [ 2.9737115e+00, -2.1969950e-01],\n",
              "       [-5.3165299e-01, -5.8111423e-01],\n",
              "       [ 9.3740016e-01, -5.5420082e-02],\n",
              "       [ 1.5919287e+00, -9.4252896e-01],\n",
              "       [-4.1529235e-01, -5.4825836e-01],\n",
              "       [-4.0074727e-01, -1.5339348e+00],\n",
              "       [ 9.3785465e-02,  4.3147571e-02],\n",
              "       [-1.8698004e+00, -8.8275969e-02],\n",
              "       [-6.7710382e-01, -1.2053760e+00],\n",
              "       [-1.2443619e+00, -3.5112303e-01],\n",
              "       [-7.3528409e-01,  7.6003455e-02],\n",
              "       [ 6.4695306e-02,  3.7170640e-01],\n",
              "       [-6.9164890e-01, -1.3367995e+00],\n",
              "       [ 1.5192033e+00, -1.2113185e-01],\n",
              "       [-2.9893172e-01,  6.6740936e-01],\n",
              "       [-7.2073907e-01, -1.3367995e+00],\n",
              "       [ 8.3558458e-01,  1.5216624e+00],\n",
              "       [ 3.5559693e-01, -8.8275969e-02],\n",
              "       [-1.2007267e+00, -9.7538483e-01],\n",
              "       [-9.5346034e-01, -8.7681717e-01],\n",
              "       [ 9.6649027e-01,  2.7313876e-01],\n",
              "       [ 6.4695306e-02,  3.3885053e-01],\n",
              "       [-3.5711202e-01,  2.0473564e+00],\n",
              "       [ 2.6832643e-01, -1.2710878e+00],\n",
              "       [ 4.1377723e-01, -2.1969950e-01],\n",
              "       [-1.1425464e+00, -6.7968190e-01],\n",
              "       [ 1.3882977e+00,  1.9159329e+00],\n",
              "       [ 5.1559281e-01, -2.2564199e-02],\n",
              "       [-1.7534398e+00, -1.6653584e+00],\n",
              "       [-2.8438663e-01,  2.4744830e+00],\n",
              "       [ 1.1701214e+00,  7.9883289e-01],\n",
              "       [ 1.9991910e+00, -6.1397010e-01],\n",
              "       [-7.4982917e-01, -1.0082407e+00],\n",
              "       [-1.2439074e-01,  1.0885934e-01],\n",
              "       [-6.6210419e-02,  2.1787801e+00],\n",
              "       [ 4.1377723e-01, -9.4252896e-01],\n",
              "       [-3.7165710e-01,  4.7027406e-01],\n",
              "       [-1.2007267e+00,  5.0312996e-01],\n",
              "       [-1.3170873e+00,  1.4888065e+00],\n",
              "       [ 2.8287151e-01, -3.1826717e-01],\n",
              "       [ 2.8864410e+00,  1.4230947e+00],\n",
              "       [-7.3528409e-01,  1.2259594e+00],\n",
              "       [ 5.7377315e-01,  2.4028288e-01],\n",
              "       [ 3.7014198e-01, -8.7681717e-01],\n",
              "       [-1.8261652e+00, -9.7538483e-01],\n",
              "       [-6.6210419e-02,  4.3147571e-02],\n",
              "       [-2.2575177e-02, -1.2113185e-01],\n",
              "       [ 6.4649850e-01, -1.4353672e+00],\n",
              "       [ 1.5196578e-01, -1.0739524e+00],\n",
              "       [ 5.0150227e-02, -7.4539363e-01],\n",
              "       [-2.8438663e-01,  2.0742700e-01],\n",
              "       [ 2.8287151e-01,  1.7457111e-01],\n",
              "       [-6.9164890e-01,  1.7457111e-01],\n",
              "       [ 3.2650676e-01,  1.0291685e-02],\n",
              "       [ 2.1014611e-01,  2.1459241e+00],\n",
              "       [ 2.2464573e+00,  2.1787801e+00],\n",
              "       [ 4.8650265e-01, -4.1683480e-01],\n",
              "       [-6.6210419e-02,  4.3147571e-02],\n",
              "       [ 2.2469120e-01,  1.9159329e+00],\n",
              "       [-6.4801365e-01,  3.3885053e-01],\n",
              "       [ 9.2285508e-01, -8.8275969e-02],\n",
              "       [ 1.0833055e-01,  2.4028288e-01],\n",
              "       [ 2.5378135e-01,  1.8830770e+00],\n",
              "       [-2.9893172e-01,  1.2259594e+00],\n",
              "       [-5.0256282e-01, -7.4539363e-01],\n",
              "       [ 4.5741248e-01, -8.1110543e-01],\n",
              "       [ 3.4105185e-01, -4.1683480e-01],\n",
              "       [ 8.6467475e-01,  1.6859418e+00],\n",
              "       [-1.2439074e-01,  1.1931036e+00],\n",
              "       [ 1.2864821e+00, -1.1725202e+00],\n",
              "       [ 3.7014198e-01,  1.0291685e-02],\n",
              "       [-1.5643537e+00, -2.1253407e+00],\n",
              "       [ 1.0392157e+00, -1.2053760e+00],\n",
              "       [-4.5892760e-01,  8.9740056e-01],\n",
              "       [ 3.9923215e-01,  4.3147571e-02],\n",
              "       [-1.2298169e+00, -2.1969950e-01],\n",
              "       [-2.8438663e-01,  1.2588153e+00],\n",
              "       [-1.5498086e+00, -1.1396643e+00],\n",
              "       [-1.0261858e+00, -1.4025114e+00],\n",
              "       [ 8.6467475e-01, -3.1826717e-01],\n",
              "       [-6.4801365e-01, -1.0410966e+00],\n",
              "       [ 1.8246500e+00,  7.0026523e-01],\n",
              "       [-4.5892760e-01, -6.4682597e-01],\n",
              "       [-8.2255459e-01,  3.3885053e-01],\n",
              "       [ 2.0137360e+00, -1.3367995e+00],\n",
              "       [ 1.0683059e+00, -1.3696555e+00],\n",
              "       [ 2.3923627e-01, -1.5398774e-01],\n",
              "       [ 1.4173878e+00, -9.7538483e-01],\n",
              "       [ 6.7558867e-01, -3.5112303e-01],\n",
              "       [-4.1529235e-01, -5.5420082e-02],\n",
              "       [ 2.0864615e+00, -3.5112303e-01],\n",
              "       [ 2.4937236e+00,  1.3245270e+00],\n",
              "       [-7.0619398e-01,  1.0291685e-02],\n",
              "       [-9.5346034e-01,  2.7313876e-01],\n",
              "       [ 1.6064738e+00, -1.4025114e+00],\n",
              "       [-7.6437426e-01, -1.0410966e+00],\n",
              "       [ 8.7921983e-01,  1.4171521e-01],\n",
              "       [ 1.1992116e+00,  5.6884170e-01],\n",
              "       [ 2.1014611e-01,  7.3312116e-01],\n",
              "       [ 3.8468707e-01,  1.8830770e+00],\n",
              "       [ 5.0391130e+00,  2.4028288e-01],\n",
              "       [-3.4256694e-01, -1.3367995e+00],\n",
              "       [-2.0443413e+00, -5.8111423e-01],\n",
              "       [-9.0982509e-01,  7.0026523e-01],\n",
              "       [-2.4075139e-01, -6.4682597e-01],\n",
              "       [ 8.7921983e-01,  2.4028288e-01],\n",
              "       [ 1.2864821e+00,  7.3312116e-01],\n",
              "       [-3.4256694e-01, -9.7538483e-01],\n",
              "       [ 4.2832232e-01,  4.0456229e-01],\n",
              "       [ 2.2469120e-01,  1.0945358e+00],\n",
              "       [ 5.0150227e-02, -2.5255537e-01],\n",
              "       [-8.2255459e-01,  9.9596822e-01],\n",
              "       [ 1.5773836e+00, -6.1397010e-01],\n",
              "       [ 6.3195342e-01,  1.6859418e+00],\n",
              "       [-9.5346034e-01,  2.3430595e+00],\n",
              "       [-8.0800951e-01, -7.4539363e-01],\n",
              "       [-1.8257107e-01, -1.0739524e+00],\n",
              "       [-1.6516242e+00, -8.4396130e-01],\n",
              "       [ 1.5773836e+00,  1.9159329e+00],\n",
              "       [ 2.0428262e+00,  1.6859418e+00],\n",
              "       [ 9.8103535e-01,  6.0169762e-01],\n",
              "       [-3.4256694e-01,  2.2116358e+00],\n",
              "       [ 2.5082688e+00,  1.0291685e-02],\n",
              "       [-3.1347680e-01,  7.6597703e-01],\n",
              "       [ 2.4500885e+00,  8.3168876e-01],\n",
              "       [-8.0300961e-03,  3.7170640e-01],\n",
              "       [ 7.4831408e-01, -1.1396643e+00],\n",
              "       [ 2.3923627e-01, -3.1826717e-01],\n",
              "       [-2.9893172e-01, -9.4252896e-01],\n",
              "       [ 6.5149842e-03, -1.4353672e+00],\n",
              "       [-1.3461775e+00, -7.4539363e-01],\n",
              "       [ 2.2469120e-01, -7.7824950e-01],\n",
              "       [-4.2983744e-01,  8.3168876e-01],\n",
              "       [-7.9346442e-01, -4.4969070e-01],\n",
              "       [-3.4256694e-01, -3.5112303e-01],\n",
              "       [ 1.9560103e-01,  1.0885934e-01],\n",
              "       [-7.4982917e-01,  5.0312996e-01],\n",
              "       [-1.1716366e+00, -1.1068083e+00],\n",
              "       [ 6.3195342e-01, -1.2710878e+00],\n",
              "       [-8.0300961e-03,  3.3885053e-01],\n",
              "       [-4.2983744e-01, -6.4682597e-01],\n",
              "       [-1.8257107e-01,  2.2116358e+00],\n",
              "       [-2.2575177e-02, -2.5255537e-01],\n",
              "       [ 8.0649441e-01,  1.5216624e+00],\n",
              "       [-1.5061734e+00,  5.6884170e-01],\n",
              "       [-6.1892349e-01, -3.1826717e-01],\n",
              "       [ 8.0649441e-01, -9.4252896e-01],\n",
              "       [ 1.0833055e-01, -1.6653584e+00],\n",
              "       [ 1.2428468e+00,  9.3382037e-16],\n",
              "       [-7.6437426e-01, -8.1110543e-01],\n",
              "       [-7.7891934e-01, -8.8275969e-02],\n",
              "       [-3.4256694e-01,  1.4171521e-01],\n",
              "       [ 6.3195342e-01,  1.0291685e-02],\n",
              "       [-1.2298169e+00, -3.5112303e-01],\n",
              "       [-1.8257107e-01,  4.7027406e-01],\n",
              "       [-5.4619807e-01,  7.6003455e-02],\n",
              "       [ 5.0104773e-01,  2.3759153e+00],\n",
              "       [ 7.4831408e-01,  8.6454469e-01],\n",
              "       [-1.3316324e+00,  2.0145006e+00],\n",
              "       [ 5.0104773e-01,  1.9487889e+00],\n",
              "       [ 4.5741248e-01, -1.0082407e+00],\n",
              "       [ 3.5559693e-01, -5.4825836e-01],\n",
              "       [-3.7165710e-01,  8.3168876e-01],\n",
              "       [-1.3025422e+00, -1.0410966e+00],\n",
              "       [-5.3165299e-01,  6.6740936e-01],\n",
              "       [-5.0256282e-01, -1.1068083e+00],\n",
              "       [ 2.8864410e+00,  4.3741816e-01],\n",
              "       [-4.5892760e-01, -1.2710878e+00],\n",
              "       [-3.4256694e-01,  1.9487889e+00],\n",
              "       [-2.9893172e-01,  1.2916712e+00],\n",
              "       [ 1.2287563e-01, -9.0967304e-01],\n",
              "       [ 1.8105595e-01,  8.3168876e-01],\n",
              "       [-4.0074727e-01, -1.5398774e-01],\n",
              "       [-8.0300961e-03,  2.0742700e-01],\n",
              "       [-1.6661693e+00,  9.3025643e-01],\n",
              "       [ 3.1196168e-01, -1.1396643e+00],\n",
              "       [-1.0698210e+00, -6.4682597e-01],\n",
              "       [ 1.0833055e-01,  7.6003455e-02],\n",
              "       [-9.2437017e-01, -8.7681717e-01],\n",
              "       [ 1.6651087e-01,  1.4230947e+00],\n",
              "       [-1.8257107e-01,  1.1931036e+00],\n",
              "       [-2.9893172e-01,  1.4230947e+00],\n",
              "       [-1.0843661e+00, -5.5420082e-02],\n",
              "       [ 1.1846665e+00, -6.4682597e-01],\n",
              "       [-9.5346034e-01,  2.4744830e+00],\n",
              "       [ 4.8650265e-01, -1.4682231e+00],\n",
              "       [-1.8257107e-01, -1.2053760e+00],\n",
              "       [-1.2439074e-01,  7.3312116e-01],\n",
              "       [ 6.5149842e-03, -4.1683480e-01],\n",
              "       [-5.1710790e-01, -1.1396643e+00],\n",
              "       [ 1.4028428e+00,  9.6311229e-01],\n",
              "       [-1.2439074e-01, -9.7538483e-01],\n",
              "       [-1.2439074e-01, -3.1826717e-01],\n",
              "       [-1.2439074e-01, -9.0967304e-01],\n",
              "       [ 1.2719370e+00,  2.4028288e-01],\n",
              "       [ 3.7014198e-01,  1.5216624e+00],\n",
              "       [-6.7710382e-01, -2.5255537e-01],\n",
              "       [ 2.6832643e-01,  1.1273917e+00],\n",
              "       [-6.7710382e-01,  7.6003455e-02],\n",
              "       [ 1.2287563e-01, -1.4682231e+00],\n",
              "       [-6.6210419e-02, -1.8624936e+00],\n",
              "       [ 8.3558458e-01, -1.0410966e+00],\n",
              "       [-1.2879971e+00, -5.1540244e-01],\n",
              "       [-4.0074727e-01, -7.1253777e-01],\n",
              "       [ 7.9194933e-01,  7.6597703e-01],\n",
              "       [-8.2255459e-01, -1.5996466e+00],\n",
              "       [ 5.3013790e-01, -1.8684362e-01],\n",
              "       [ 4.4286740e-01,  2.0473564e+00],\n",
              "       [ 9.3785465e-02, -1.0082407e+00],\n",
              "       [ 1.8973755e+00, -6.4682597e-01],\n",
              "       [ 5.8831823e-01, -8.7681717e-01],\n",
              "       [-4.0074727e-01,  1.6859418e+00],\n",
              "       [ 9.6649027e-01, -6.1397010e-01],\n",
              "       [ 2.6832643e-01,  2.0742700e-01],\n",
              "       [ 2.6832643e-01, -2.2564199e-02],\n",
              "       [ 9.5194519e-01,  9.3382037e-16],\n",
              "       [ 4.4286740e-01,  9.6311229e-01],\n",
              "       [-5.4619807e-01,  1.4171521e-01],\n",
              "       [-5.4619807e-01, -1.5398774e-01],\n",
              "       [ 7.7740425e-01, -7.1253777e-01],\n",
              "       [-4.2983744e-01, -3.5112303e-01],\n",
              "       [ 2.2469120e-01, -7.4539363e-01],\n",
              "       [-1.3752676e+00, -1.5996466e+00],\n",
              "       [ 1.4319329e+00,  4.3741816e-01],\n",
              "       [ 8.7921983e-01,  7.9883289e-01],\n",
              "       [ 1.4464779e+00,  6.3455349e-01],\n",
              "       [-1.6661693e+00, -6.7968190e-01],\n",
              "       [-5.8983332e-01, -3.5112303e-01],\n",
              "       [ 2.3923627e-01,  4.3147571e-02],\n",
              "       [-5.8983332e-01,  2.0145006e+00],\n",
              "       [ 1.0828509e+00,  1.8502212e+00],\n",
              "       [-6.6255873e-01, -5.4825836e-01],\n",
              "       [ 5.0150227e-02,  1.3902388e+00],\n",
              "       [-1.6516242e+00, -1.3039436e+00],\n",
              "       [-2.4075139e-01, -1.5398774e-01],\n",
              "       [ 1.7519246e+00,  1.7187977e+00],\n",
              "       [ 1.9119205e+00, -8.8275969e-02],\n",
              "       [ 7.4831408e-01, -3.8397893e-01],\n",
              "       [ 1.0833055e-01, -8.4396130e-01],\n",
              "       [-1.8257107e-01, -5.8111423e-01],\n",
              "       [ 2.5378135e-01, -1.3696555e+00],\n",
              "       [-3.5711202e-01, -7.1253777e-01],\n",
              "       [-1.3461775e+00, -8.1110543e-01],\n",
              "       [-2.4075139e-01, -4.4969070e-01],\n",
              "       [-9.9709558e-01,  1.1602476e+00],\n",
              "       [-1.5061734e+00, -1.8684362e-01],\n",
              "       [-2.2575177e-02,  1.4888065e+00],\n",
              "       [ 1.0973960e+00,  2.0742700e-01],\n",
              "       [-1.2007267e+00, -6.7968190e-01],\n",
              "       [ 1.5919287e+00,  1.4171521e-01],\n",
              "       [-1.0843661e+00, -1.7639260e+00],\n",
              "       [ 8.9376491e-01, -7.4539363e-01],\n",
              "       [ 6.4695306e-02, -7.1253777e-01],\n",
              "       [-7.3528409e-01, -2.5255537e-01],\n",
              "       [ 1.0683059e+00,  2.4416270e+00],\n",
              "       [-1.1861817e+00, -6.1397010e-01],\n",
              "       [ 4.1377723e-01, -1.1068083e+00],\n",
              "       [ 1.4901131e+00, -1.0410966e+00],\n",
              "       [ 3.5605144e-02, -1.1396643e+00],\n",
              "       [-9.0982509e-01, -3.5112303e-01],\n",
              "       [ 1.0833055e-01,  5.3598583e-01],\n",
              "       [-6.7710382e-01, -1.0739524e+00],\n",
              "       [-6.4801365e-01, -1.6653584e+00],\n",
              "       [-9.3891525e-01,  4.7027406e-01],\n",
              "       [ 6.5149842e-03, -5.4825836e-01],\n",
              "       [ 2.9741660e-01,  1.7457111e-01],\n",
              "       [-2.2575177e-02,  1.0885934e-01],\n",
              "       [-1.5498086e+00, -7.4539363e-01],\n",
              "       [-1.2589070e+00, -2.5255537e-01],\n",
              "       [-3.2802185e-01, -1.1725202e+00],\n",
              "       [ 1.8105595e-01, -2.1969950e-01],\n",
              "       [ 1.9410107e+00, -1.2113185e-01],\n",
              "       [-6.1892349e-01, -8.1110543e-01],\n",
              "       [-7.9346442e-01,  3.7170640e-01],\n",
              "       [-5.4619807e-01, -9.4252896e-01],\n",
              "       [-1.0843661e+00, -2.5524673e+00],\n",
              "       [-1.2298169e+00, -4.4969070e-01],\n",
              "       [-9.6800542e-01, -5.1540244e-01],\n",
              "       [ 5.4468298e-01,  1.0291685e-02],\n",
              "       [-2.9893172e-01, -1.2382319e+00],\n",
              "       [ 1.0101255e+00, -3.1826717e-01],\n",
              "       [ 6.9013375e-01,  1.3245270e+00],\n",
              "       [-8.5164475e-01, -1.3367995e+00],\n",
              "       [ 4.7195756e-01,  1.6859418e+00],\n",
              "       [-2.2575177e-02, -1.3696555e+00],\n",
              "       [-5.8983332e-01, -1.1068083e+00],\n",
              "       [ 2.5378135e-01, -3.1826717e-01],\n",
              "       [ 8.7921983e-01,  7.3312116e-01],\n",
              "       [-6.6210419e-02, -1.4025114e+00],\n",
              "       [-1.2439074e-01, -1.6325026e+00],\n",
              "       [ 3.1196168e-01, -2.1969950e-01],\n",
              "       [ 1.9560103e-01,  1.6859418e+00],\n",
              "       [-9.9709558e-01, -1.8684362e-01],\n",
              "       [ 3.2650676e-01,  9.3025643e-01],\n",
              "       [ 1.0101255e+00, -5.1540244e-01],\n",
              "       [ 1.0833055e-01,  5.0312996e-01],\n",
              "       [ 1.0973960e+00,  1.9487889e+00],\n",
              "       [-1.3607225e+00, -1.2113185e-01],\n",
              "       [ 2.2464573e+00,  1.4230947e+00],\n",
              "       [ 5.5922806e-01,  4.3147571e-02],\n",
              "       [-3.5711202e-01, -5.5420082e-02],\n",
              "       [-2.4075139e-01, -6.4682597e-01],\n",
              "       [-1.5352635e+00, -2.5255537e-01],\n",
              "       [-5.7528824e-01, -4.1683480e-01],\n",
              "       [-1.2589070e+00,  4.0456229e-01],\n",
              "       [-9.3891525e-01, -9.0967304e-01],\n",
              "       [-1.9711614e-01,  1.0885934e-01],\n",
              "       [ 2.3923627e-01,  1.9487889e+00],\n",
              "       [-3.7120257e-02, -1.2710878e+00],\n",
              "       [-1.0552759e+00, -1.5398774e-01],\n",
              "       [ 7.1922392e-01, -8.7681717e-01],\n",
              "       [-6.6210419e-02,  7.3312116e-01],\n",
              "       [ 5.0104773e-01, -4.1683480e-01],\n",
              "       [-1.8698004e+00, -8.7681717e-01],\n",
              "       [ 4.7195756e-01, -3.1826717e-01],\n",
              "       [-1.1280013e+00,  6.6740936e-01],\n",
              "       [ 2.5378135e-01,  2.7313876e-01],\n",
              "       [ 4.2832232e-01, -8.7681717e-01],\n",
              "       [-6.6210419e-02,  5.0312996e-01],\n",
              "       [-9.9709558e-01, -7.4539363e-01],\n",
              "       [-9.0982509e-01, -2.2564199e-02],\n",
              "       [-4.2983744e-01,  7.3312116e-01],\n",
              "       [-3.4256694e-01, -1.2053760e+00],\n",
              "       [-4.2983744e-01, -2.8541127e-01],\n",
              "       [ 1.3155723e+00,  9.9596822e-01],\n",
              "       [ 3.0173466e+00,  1.3245270e+00],\n",
              "       [-1.6802599e-01,  1.0616800e+00],\n",
              "       [-1.9425257e+00, -1.3696555e+00],\n",
              "       [-8.5164475e-01, -1.2053760e+00],\n",
              "       [-9.9709558e-01, -7.4539363e-01],\n",
              "       [ 1.9560103e-01, -1.5398774e-01],\n",
              "       [-1.1716366e+00, -1.2053760e+00],\n",
              "       [ 7.1922392e-01,  4.7027406e-01],\n",
              "       [-1.3898127e+00,  1.7516536e+00],\n",
              "       [-1.3898127e+00, -4.8254657e-01],\n",
              "       [ 5.3013790e-01, -4.4969070e-01],\n",
              "       [ 5.8831823e-01,  2.4416270e+00],\n",
              "       [-2.2575177e-02, -9.0967304e-01],\n",
              "       [ 3.2650676e-01, -7.7824950e-01],\n",
              "       [ 1.1846665e+00,  1.0288241e+00],\n",
              "       [ 1.4319329e+00, -5.5420082e-02],\n",
              "       [-1.8257107e-01,  1.0291685e-02],\n",
              "       [ 6.4695306e-02,  1.7187977e+00],\n",
              "       [ 5.0150227e-02, -2.1253407e+00],\n",
              "       [-2.2575177e-02, -6.4682597e-01],\n",
              "       [-1.6516242e+00, -1.5996466e+00],\n",
              "       [ 1.1846665e+00,  4.3741816e-01],\n",
              "       [ 1.7082894e+00, -2.5255537e-01],\n",
              "       [-6.6210419e-02,  2.0742700e-01],\n",
              "       [ 1.2864821e+00,  2.5073388e+00],\n",
              "       [ 4.8650265e-01,  7.6003455e-02],\n",
              "       [ 5.8831823e-01,  2.0742700e-01],\n",
              "       [-1.0552759e+00, -7.7824950e-01],\n",
              "       [-1.5352635e+00,  1.2916712e+00],\n",
              "       [ 7.1922392e-01,  6.0169762e-01],\n",
              "       [-4.5892760e-01, -1.2710878e+00],\n",
              "       [ 3.5559693e-01,  2.3430595e+00],\n",
              "       [ 1.8682853e+00, -8.8275969e-02],\n",
              "       [-5.4619807e-01, -2.5255537e-01],\n",
              "       [-6.9164890e-01,  9.3382037e-16],\n",
              "       [ 1.0246706e+00, -5.1540244e-01],\n",
              "       [-4.7347268e-01, -1.0082407e+00],\n",
              "       [ 9.5194519e-01,  1.3573829e+00],\n",
              "       [ 3.5559693e-01,  8.3168876e-01],\n",
              "       [ 2.6832643e-01,  3.0599463e-01],\n",
              "       [ 2.5519040e+00,  9.9596822e-01],\n",
              "       [-1.1570915e+00, -1.0410966e+00],\n",
              "       [ 6.5149842e-03,  7.6597703e-01],\n",
              "       [ 1.2283018e+00, -8.1110543e-01],\n",
              "       [ 6.0286331e-01, -4.8254657e-01],\n",
              "       [-2.4075139e-01, -5.4825836e-01],\n",
              "       [ 6.9013375e-01, -1.2382319e+00],\n",
              "       [ 3.1196168e-01,  5.3598583e-01],\n",
              "       [ 1.2287563e-01,  1.0885934e-01],\n",
              "       [-8.5164475e-01,  1.0945358e+00],\n",
              "       [-1.0552759e+00, -4.1683480e-01],\n",
              "       [-1.1716366e+00, -1.0410966e+00],\n",
              "       [-1.8257107e-01, -5.1540244e-01],\n",
              "       [-1.8843455e+00, -7.1253777e-01],\n",
              "       [-4.0074727e-01, -1.2382319e+00],\n",
              "       [ 1.5482935e+00,  5.0312996e-01],\n",
              "       [-2.8438663e-01, -5.5420082e-02],\n",
              "       [ 6.3195342e-01, -4.8254657e-01],\n",
              "       [-3.5711202e-01,  6.3455349e-01],\n",
              "       [-7.0619398e-01,  6.3455349e-01],\n",
              "       [ 2.3773632e+00,  5.0312996e-01],\n",
              "       [ 1.5192033e+00,  2.5401947e+00],\n",
              "       [-6.6210419e-02,  9.3382037e-16],\n",
              "       [-6.3346857e-01, -1.0739524e+00],\n",
              "       [-1.8257107e-01, -2.1969950e-01],\n",
              "       [ 8.5012966e-01, -1.2382319e+00],\n",
              "       [ 1.6651087e-01,  1.7516536e+00],\n",
              "       [-1.2879971e+00, -3.1826717e-01],\n",
              "       [ 4.8650265e-01, -1.2382319e+00],\n",
              "       [-8.0755502e-02, -3.8397893e-01],\n",
              "       [ 4.4286740e-01, -1.7639260e+00],\n",
              "       [ 3.2650676e-01,  2.4744830e+00],\n",
              "       [ 1.0246706e+00, -6.4682597e-01],\n",
              "       [ 7.0467883e-01, -8.4396130e-01],\n",
              "       [ 1.4464779e+00,  7.0026523e-01],\n",
              "       [ 1.5628386e+00,  3.0599463e-01],\n",
              "       [-1.3025422e+00,  2.3759153e+00],\n",
              "       [ 4.8650265e-01, -1.1725202e+00],\n",
              "       [ 1.5192033e+00,  9.6311229e-01],\n",
              "       [-5.6074315e-01,  2.7313876e-01],\n",
              "       [ 1.8682853e+00, -4.8254657e-01],\n",
              "       [-1.1134562e+00, -1.1068083e+00],\n",
              "       [-1.2007267e+00, -6.7968190e-01],\n",
              "       [ 6.4695306e-02,  1.1931036e+00],\n",
              "       [ 5.0150227e-02,  1.3902388e+00],\n",
              "       [ 3.8468707e-01,  1.0291685e-02]], dtype=float32)>"
            ]
          },
          "metadata": {
            "tags": []
          },
          "execution_count": 85
        }
      ]
    },
    {
      "cell_type": "code",
      "metadata": {
        "id": "GcQYLoEb7n96",
        "colab_type": "code",
        "outputId": "ef7407ba-737e-4d02-bb3e-8194178ed9e4",
        "colab": {
          "base_uri": "https://localhost:8080/",
          "height": 35
        }
      },
      "source": [
        "def create_model(my_learning_rate, feature_layer, my_metrics):\n",
        "  \"\"\"Create and compile a simple classification model.\"\"\"\n",
        "  # Most simple tf.keras models are sequential.\n",
        "  model = tf.keras.models.Sequential()\n",
        "\n",
        "  # Add the feature layer (the list of features and how they are represented)\n",
        "  # to the model.\n",
        "  model.add(feature_layer)\n",
        "\n",
        "  # Funnel the regression value through a sigmoid function.\n",
        "  model.add(tf.keras.layers.Dense(units=1, input_shape=(1,),\n",
        "                                  activation=tf.sigmoid),)\n",
        "\n",
        "  # Call the compile method to construct the layers into a model that\n",
        "  # TensorFlow can execute.  Notice that we're using a different loss\n",
        "  # function for classification than for regression.    \n",
        "  model.compile(optimizer=tf.keras.optimizers.RMSprop(lr=my_learning_rate),                                                   \n",
        "                loss=tf.keras.losses.BinaryCrossentropy(),\n",
        "                metrics=my_metrics)\n",
        "\n",
        "  return model        \n",
        "\n",
        "\n",
        "def train_model(model, dataset, epochs, label_name,\n",
        "                batch_size=None, shuffle=True):\n",
        "  \"\"\"Feed a dataset into the model in order to train it.\"\"\"\n",
        "\n",
        "  # The x parameter of tf.keras.Model.fit can be a list of arrays, where\n",
        "  # each array contains the data for one feature.  Here, we're passing\n",
        "  # every column in the dataset. Note that the feature_layer will filter\n",
        "  # away most of those columns, leaving only the desired columns and their\n",
        "  # representations as features.\n",
        "  features = {name:np.array(value) for name, value in dataset.items()}\n",
        "  label = np.array(features.pop(label_name)) \n",
        "  history = model.fit(x=features, y=label, batch_size=batch_size,\n",
        "                      epochs=epochs, shuffle=shuffle)\n",
        "  \n",
        "  # The list of epochs is stored separately from the rest of history.\n",
        "  epochs = history.epoch\n",
        "\n",
        "  # Isolate the classification metric for each epoch.\n",
        "  hist = pd.DataFrame(history.history)\n",
        "\n",
        "  return epochs, hist  \n",
        "\n",
        "print(\"Defined the create_model and train_model functions.\")  "
      ],
      "execution_count": 86,
      "outputs": [
        {
          "output_type": "stream",
          "text": [
            "Defined the create_model and train_model functions.\n"
          ],
          "name": "stdout"
        }
      ]
    },
    {
      "cell_type": "code",
      "metadata": {
        "id": "Sw1s6lvE8P1b",
        "colab_type": "code",
        "outputId": "79805d36-6304-4edf-f5be-c1cde7e92385",
        "colab": {
          "base_uri": "https://localhost:8080/",
          "height": 35
        }
      },
      "source": [
        "#@title Define the plotting function.\n",
        "def plot_curve(epochs, hist, list_of_metrics):\n",
        "  \"\"\"Plot a curve of one or more classification metrics vs. epoch.\"\"\"  \n",
        "  # list_of_metrics should be one of the names shown in:\n",
        "  # https://www.tensorflow.org/tutorials/structured_data/imbalanced_data#define_the_model_and_metrics  \n",
        "\n",
        "  plt.figure()\n",
        "  plt.xlabel(\"Epoch\")\n",
        "  plt.ylabel(\"Value\")\n",
        "\n",
        "  for m in list_of_metrics:\n",
        "    x = hist[m]\n",
        "    plt.plot(epochs[1:], x[1:], label=m)\n",
        "\n",
        "  plt.legend()\n",
        "\n",
        "print(\"Defined the plot_curve function.\")"
      ],
      "execution_count": 87,
      "outputs": [
        {
          "output_type": "stream",
          "text": [
            "Defined the plot_curve function.\n"
          ],
          "name": "stdout"
        }
      ]
    },
    {
      "cell_type": "code",
      "metadata": {
        "id": "qpS9Aq1t8TAR",
        "colab_type": "code",
        "outputId": "2bd2e0a9-7842-41d4-993c-fde5c037619d",
        "colab": {
          "base_uri": "https://localhost:8080/",
          "height": 1000
        }
      },
      "source": [
        "# The following variables are the hyperparameters.\n",
        "learning_rate = 0.001\n",
        "epochs = 20\n",
        "batch_size = 100\n",
        "label_name = \"Outcome\"\n",
        "classification_threshold = 0.5\n",
        "\n",
        "# Establish the metrics the model will measure.\n",
        "METRICS = [\n",
        "           tf.keras.metrics.BinaryAccuracy(name='accuracy', \n",
        "                                           threshold=classification_threshold),\n",
        "           tf.keras.metrics.Precision(thresholds=classification_threshold,\n",
        "                                 name='precision' \n",
        "                                 ),\n",
        "           tf.keras.metrics.Recall(thresholds=classification_threshold,\n",
        "                                 name='recall' \n",
        "                                 ),\n",
        "          ]\n",
        "\n",
        "# Establish the model's topography.\n",
        "my_model = create_model(learning_rate, feature_layer, METRICS)\n",
        "\n",
        "# Train the model on the training set.\n",
        "epochs, hist = train_model(my_model, X_train, epochs, \n",
        "                           label_name, batch_size)\n",
        "\n",
        "# Plot a graph of the metric(s) vs. epochs.\n",
        "list_of_metrics_to_plot = ['accuracy'] \n",
        "\n",
        "plot_curve(epochs, hist, list_of_metrics_to_plot)"
      ],
      "execution_count": 93,
      "outputs": [
        {
          "output_type": "stream",
          "text": [
            "Epoch 1/20\n",
            "7/7 [==============================] - 0s 2ms/step - loss: 0.5257 - accuracy: 0.7134 - precision: 0.5663 - recall: 0.7418\n",
            "Epoch 2/20\n",
            "7/7 [==============================] - 0s 2ms/step - loss: 0.5157 - accuracy: 0.7166 - precision: 0.5704 - recall: 0.7418\n",
            "Epoch 3/20\n",
            "7/7 [==============================] - 0s 2ms/step - loss: 0.5415 - accuracy: 0.7199 - precision: 0.5745 - recall: 0.7418\n",
            "Epoch 4/20\n",
            "7/7 [==============================] - 0s 2ms/step - loss: 0.5421 - accuracy: 0.7199 - precision: 0.5751 - recall: 0.7371\n",
            "Epoch 5/20\n",
            "7/7 [==============================] - 0s 2ms/step - loss: 0.5354 - accuracy: 0.7231 - precision: 0.5793 - recall: 0.7371\n",
            "Epoch 6/20\n",
            "7/7 [==============================] - 0s 2ms/step - loss: 0.5672 - accuracy: 0.7231 - precision: 0.5799 - recall: 0.7324\n",
            "Epoch 7/20\n",
            "7/7 [==============================] - 0s 2ms/step - loss: 0.5250 - accuracy: 0.7231 - precision: 0.5799 - recall: 0.7324\n",
            "Epoch 8/20\n",
            "7/7 [==============================] - 0s 1ms/step - loss: 0.5595 - accuracy: 0.7248 - precision: 0.5821 - recall: 0.7324\n",
            "Epoch 9/20\n",
            "7/7 [==============================] - 0s 1ms/step - loss: 0.5511 - accuracy: 0.7231 - precision: 0.5805 - recall: 0.7277\n",
            "Epoch 10/20\n",
            "7/7 [==============================] - 0s 1ms/step - loss: 0.5352 - accuracy: 0.7215 - precision: 0.5795 - recall: 0.7183\n",
            "Epoch 11/20\n",
            "7/7 [==============================] - 0s 1ms/step - loss: 0.5260 - accuracy: 0.7199 - precision: 0.5779 - recall: 0.7136\n",
            "Epoch 12/20\n",
            "7/7 [==============================] - 0s 1ms/step - loss: 0.5278 - accuracy: 0.7182 - precision: 0.5763 - recall: 0.7089\n",
            "Epoch 13/20\n",
            "7/7 [==============================] - 0s 2ms/step - loss: 0.5408 - accuracy: 0.7199 - precision: 0.5785 - recall: 0.7089\n",
            "Epoch 14/20\n",
            "7/7 [==============================] - 0s 1ms/step - loss: 0.5255 - accuracy: 0.7215 - precision: 0.5808 - recall: 0.7089\n",
            "Epoch 15/20\n",
            "7/7 [==============================] - 0s 1ms/step - loss: 0.5836 - accuracy: 0.7248 - precision: 0.5853 - recall: 0.7089\n",
            "Epoch 16/20\n",
            "7/7 [==============================] - 0s 1ms/step - loss: 0.5443 - accuracy: 0.7248 - precision: 0.5853 - recall: 0.7089\n",
            "Epoch 17/20\n",
            "7/7 [==============================] - 0s 2ms/step - loss: 0.5403 - accuracy: 0.7248 - precision: 0.5853 - recall: 0.7089\n",
            "Epoch 18/20\n",
            "7/7 [==============================] - 0s 2ms/step - loss: 0.5658 - accuracy: 0.7248 - precision: 0.5853 - recall: 0.7089\n",
            "Epoch 19/20\n",
            "7/7 [==============================] - 0s 2ms/step - loss: 0.5381 - accuracy: 0.7248 - precision: 0.5859 - recall: 0.7042\n",
            "Epoch 20/20\n",
            "7/7 [==============================] - 0s 2ms/step - loss: 0.5424 - accuracy: 0.7264 - precision: 0.5882 - recall: 0.7042\n"
          ],
          "name": "stdout"
        },
        {
          "output_type": "display_data",
          "data": {
            "image/png": "[encoded data removed]",
            "text/plain": [
              "<Figure size 432x288 with 1 Axes>"
            ]
          },
          "metadata": {
            "tags": []
          }
        }
      ]
    },
    {
      "cell_type": "code",
      "metadata": {
        "id": "MvI6kNEs97AV",
        "colab_type": "code",
        "colab": {}
      },
      "source": [
        ""
      ],
      "execution_count": 0,
      "outputs": []
    }
  ]
}